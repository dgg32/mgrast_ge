{
 "cells": [
  {
   "cell_type": "code",
   "execution_count": 85,
   "metadata": {},
   "outputs": [],
   "source": [
    "import json, requests, sys, os, time, re"
   ]
  },
  {
   "cell_type": "code",
   "execution_count": 86,
   "metadata": {},
   "outputs": [],
   "source": [
    "project_ids = [\"mgp19495\", \"mgp10307\", \"mgp9220\"]\n"
   ]
  },
  {
   "cell_type": "code",
   "execution_count": 87,
   "metadata": {},
   "outputs": [],
   "source": [
    "metadata_file = open(\"./metadata.tsv\", \"w\")\n",
    "metadata_file.write(\"\\t\".join([\"sample\", \"latitude\", \"longitude\", \"location\", \"country\", \"collection_time\", \"material\", \"feature\", \"metagenome_id\"]))\n",
    "metadata_file.write(\"\\n\")\n",
    "metadata_file.close()"
   ]
  },
  {
   "cell_type": "code",
   "execution_count": 88,
   "metadata": {},
   "outputs": [],
   "source": [
    "def get_metadata(project_id):\n",
    "    metadata_url_prefix = \"https://api.mg-rast.org/4/metadata/export/\"\n",
    "    url = f\"{metadata_url_prefix}\" + project_id\n",
    "    content = json.loads(requests.get(url).content.decode('iso8859-1'))\n",
    "    for i in range(len(content[\"samples\"])):\n",
    "        #print (content[\"samples\"][i][\"libraries\"][0][\"data\"][\"metagenome_id\"][\"value\"])\n",
    "        name = content[\"samples\"][i][\"id\"]\n",
    "        latitude = content[\"samples\"][i][\"data\"][\"latitude\"][\"value\"]\n",
    "        longitude = content[\"samples\"][0][\"data\"][\"longitude\"][\"value\"]\n",
    "        location = content[\"samples\"][0][\"data\"][\"location\"][\"value\"]\n",
    "        country = content[\"samples\"][0][\"data\"][\"country\"][\"value\"]\n",
    "        collection_time = content[\"samples\"][0][\"data\"][\"collection_time\"][\"value\"]\n",
    "        material = content[\"samples\"][i][\"data\"][\"material\"][\"value\"]\n",
    "        feature = content[\"samples\"][i][\"data\"][\"feature\"][\"value\"]\n",
    "        metagenome_id = content[\"samples\"][i][\"libraries\"][0][\"data\"][\"metagenome_id\"][\"value\"]\n",
    "\n",
    "        metadata_file = open(\"./metadata.tsv\", \"a\")\n",
    "        metadata_file.write(\"\\t\".join([f\"{name}\", f\"{latitude}\", f\"{longitude}\", f\"{location}\", f\"{country}\", f\"{collection_time}\", f\"{material}\", f\"{feature}\", f\"{metagenome_id}\"]))\n",
    "        metadata_file.write(\"\\n\")\n",
    "        metadata_file.close()"
   ]
  },
  {
   "cell_type": "code",
   "execution_count": 89,
   "metadata": {},
   "outputs": [],
   "source": [
    "for p in project_ids:\n",
    "    get_metadata(p)"
   ]
  },
  {
   "cell_type": "code",
   "execution_count": 94,
   "metadata": {},
   "outputs": [],
   "source": [
    "def get_sequence(sample_id, sample=100, output_folder = \"fasta\"):\n",
    "    sequence_url = f\"https://api.mg-rast.org/download/{sample_id}?file=299.1\"\n",
    "\n",
    "    content = requests.get(sequence_url).content.decode('iso8859-1')\n",
    "\n",
    "    fasta_file = open(f\"{output_folder}/{sample_id}_original.fasta\", \"w\")\n",
    "    fasta_file.write(content)\n",
    "    fasta_file.close()\n",
    "\n",
    "    os.system(f\"head -n 100 {output_folder}/{sample_id}_original.fasta > {output_folder}/{sample_id}.fasta\")"
   ]
  },
  {
   "cell_type": "code",
   "execution_count": 95,
   "metadata": {},
   "outputs": [],
   "source": [
    "metadata_file = open(\"./metadata.tsv\", \"r\")\n",
    "\n",
    "is_header = False\n",
    "\n",
    "for line in metadata_file:\n",
    "    if is_header == False:\n",
    "        is_header = True\n",
    "    else:\n",
    "        line = line.strip().split(\"\\t\")\n",
    "        sample_id = line[-1]\n",
    "        get_sequence(sample_id)"
   ]
  },
  {
   "cell_type": "code",
   "execution_count": null,
   "metadata": {},
   "outputs": [],
   "source": []
  }
 ],
 "metadata": {
  "interpreter": {
   "hash": "2906174ea623f98bf0228f3e6b5461e1880ae5fa222a8c61228ae0439f209a69"
  },
  "kernelspec": {
   "display_name": "Python 3.9.12 ('base')",
   "language": "python",
   "name": "python3"
  },
  "language_info": {
   "codemirror_mode": {
    "name": "ipython",
    "version": 3
   },
   "file_extension": ".py",
   "mimetype": "text/x-python",
   "name": "python",
   "nbconvert_exporter": "python",
   "pygments_lexer": "ipython3",
   "version": "3.9.12"
  },
  "orig_nbformat": 4
 },
 "nbformat": 4,
 "nbformat_minor": 2
}
