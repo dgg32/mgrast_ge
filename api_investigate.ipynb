{
 "cells": [
  {
   "cell_type": "code",
   "execution_count": 5,
   "metadata": {},
   "outputs": [],
   "source": [
    "import json, requests, sys, os, time, re, screed"
   ]
  },
  {
   "cell_type": "code",
   "execution_count": 6,
   "metadata": {},
   "outputs": [],
   "source": [
    "project_ids = [\"mgp19495\", \"mgp10307\", \"mgp9220\"]\n"
   ]
  },
  {
   "cell_type": "code",
   "execution_count": 7,
   "metadata": {},
   "outputs": [],
   "source": [
    "metadata_file = open(\"tsv/metadata.tsv\", \"w\")\n",
    "metadata_file.write(\"\\t\".join([\"sample\", \"latitude\", \"longitude\", \"location\", \"country\", \"collection_date\", \"collection_time\", \"material\", \"feature\", \"metagenome_id\"]))\n",
    "metadata_file.write(\"\\n\")\n",
    "metadata_file.close()"
   ]
  },
  {
   "cell_type": "code",
   "execution_count": 8,
   "metadata": {},
   "outputs": [],
   "source": [
    "def get_metadata(project_id, export_file):\n",
    "    metadata_url_prefix = \"https://api.mg-rast.org/4/metadata/export/\"\n",
    "    url = f\"{metadata_url_prefix}\" + project_id\n",
    "    content = json.loads(requests.get(url).content.decode('iso8859-1'))\n",
    "    for i in range(len(content[\"samples\"])):\n",
    "        #print (content[\"samples\"][i][\"libraries\"][0][\"data\"][\"metagenome_id\"][\"value\"])\n",
    "        name = content[\"samples\"][i][\"id\"]\n",
    "        latitude = content[\"samples\"][i][\"data\"][\"latitude\"][\"value\"]\n",
    "        longitude = content[\"samples\"][i][\"data\"][\"longitude\"][\"value\"]\n",
    "        location = content[\"samples\"][i][\"data\"][\"location\"][\"value\"]\n",
    "        country = content[\"samples\"][i][\"data\"][\"country\"][\"value\"]\n",
    "        collection_date = content[\"samples\"][i][\"data\"][\"collection_date\"][\"value\"]\n",
    "        collection_time = content[\"samples\"][i][\"data\"][\"collection_time\"][\"value\"]\n",
    "        material = content[\"samples\"][i][\"data\"][\"material\"][\"value\"]\n",
    "        feature = content[\"samples\"][i][\"data\"][\"feature\"][\"value\"]\n",
    "        metagenome_id = content[\"samples\"][i][\"libraries\"][0][\"data\"][\"metagenome_id\"][\"value\"]\n",
    "\n",
    "        metadata_file = open(export_file, \"a\")\n",
    "        metadata_file.write(\"\\t\".join([f\"{name}\", f\"{latitude}\", f\"{longitude}\", f\"{location}\", f\"{country}\", f\"{collection_date}\", f\"{collection_time}\", f\"{material}\", f\"{feature}\", f\"{metagenome_id}\"]))\n",
    "        metadata_file.write(\"\\n\")\n",
    "        metadata_file.close()"
   ]
  },
  {
   "cell_type": "code",
   "execution_count": 9,
   "metadata": {},
   "outputs": [],
   "source": [
    "for p in project_ids:\n",
    "    get_metadata(p, \"tsv/metadata.tsv\")"
   ]
  },
  {
   "cell_type": "code",
   "execution_count": 6,
   "metadata": {},
   "outputs": [],
   "source": [
    "def get_sequence(sample_id, sample=100, output_folder = \"fasta\"):\n",
    "    sequence_url = f\"https://api.mg-rast.org/download/{sample_id}?file=299.1\"\n",
    "\n",
    "    content = requests.get(sequence_url).content.decode('iso8859-1')\n",
    "\n",
    "    fasta_file = open(f\"{output_folder}/{sample_id}_original.fasta\", \"w\")\n",
    "    fasta_file.write(content)\n",
    "    fasta_file.close()\n",
    "    \n",
    "    content = \"\"\n",
    "    n = 0\n",
    "    with screed.open(f\"{output_folder}/{sample_id}_original.fasta\") as seqfile:\n",
    "        for read in seqfile:\n",
    "            if n < 100:\n",
    "                content += f\">{read.name}\\n{read.sequence}\\n\"\n",
    "                n += 1\n",
    "            else:\n",
    "                break\n",
    "            \n",
    "    final_fasta_file = open(f\"{output_folder}/{sample_id}.fasta\", \"w\")\n",
    "    final_fasta_file.write(content)\n",
    "    final_fasta_file.close()"
   ]
  },
  {
   "cell_type": "code",
   "execution_count": 7,
   "metadata": {},
   "outputs": [],
   "source": [
    "metadata_file = open(\"tsv/metadata.tsv\", \"r\")\n",
    "\n",
    "is_header = False\n",
    "\n",
    "for line in metadata_file:\n",
    "    if is_header == False:\n",
    "        is_header = True\n",
    "    else:\n",
    "        line = line.strip().split(\"\\t\")\n",
    "        sample_id = line[-1]\n",
    "        get_sequence(sample_id)"
   ]
  },
  {
   "cell_type": "code",
   "execution_count": 10,
   "metadata": {},
   "outputs": [],
   "source": [
    "\n",
    "metadata_file = open(\"tsv/test_metadata.tsv\", \"w\")\n",
    "metadata_file.write(\"\\t\".join([\"sample\", \"latitude\", \"longitude\", \"location\", \"country\", \"collection_date\", \"collection_time\", \"material\", \"feature\", \"metagenome_id\"]))\n",
    "metadata_file.write(\"\\n\")\n",
    "metadata_file.close()\n",
    "get_metadata(\"mgp103087\", \"tsv/test_metadata.tsv\")"
   ]
  },
  {
   "cell_type": "code",
   "execution_count": null,
   "metadata": {},
   "outputs": [],
   "source": []
  }
 ],
 "metadata": {
  "interpreter": {
   "hash": "40d3a090f54c6569ab1632332b64b2c03c39dcf918b08424e98f38b5ae0af88f"
  },
  "kernelspec": {
   "display_name": "Python 3.9.12 ('base')",
   "language": "python",
   "name": "python3"
  },
  "language_info": {
   "codemirror_mode": {
    "name": "ipython",
    "version": 3
   },
   "file_extension": ".py",
   "mimetype": "text/x-python",
   "name": "python",
   "nbconvert_exporter": "python",
   "pygments_lexer": "ipython3",
   "version": "3.9.12"
  },
  "orig_nbformat": 4
 },
 "nbformat": 4,
 "nbformat_minor": 2
}
