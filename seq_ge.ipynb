{
 "cells": [
  {
   "cell_type": "code",
   "execution_count": 6,
   "metadata": {},
   "outputs": [],
   "source": [
    "import great_expectations as ge\n",
    "import pandas as pd"
   ]
  },
  {
   "cell_type": "code",
   "execution_count": 7,
   "metadata": {},
   "outputs": [],
   "source": [
    "context_seq = ge.data_context.DataContext()"
   ]
  },
  {
   "cell_type": "code",
   "execution_count": 8,
   "metadata": {},
   "outputs": [],
   "source": [
    "suite = context_seq.create_expectation_suite(\n",
    "    'check_seq_data',\n",
    "    overwrite_existing=True\n",
    ")"
   ]
  },
  {
   "cell_type": "code",
   "execution_count": 9,
   "metadata": {},
   "outputs": [],
   "source": [
    "batch_kwargs = {\n",
    "    'path': 'tsv/seq_stats.tsv',\n",
    "    'datasource': 'tsv',\n",
    "    'data_asset_name': 'seq_stats',\n",
    "    'reader_method': 'read_csv',\n",
    "    'reader_options': {\n",
    "        'sep': '\\t'\n",
    "    }\n",
    "}\n",
    "batch = context_seq.get_batch(batch_kwargs, suite)"
   ]
  },
  {
   "cell_type": "code",
   "execution_count": 10,
   "metadata": {},
   "outputs": [
    {
     "data": {
      "text/html": [
       "<div>\n",
       "<style scoped>\n",
       "    .dataframe tbody tr th:only-of-type {\n",
       "        vertical-align: middle;\n",
       "    }\n",
       "\n",
       "    .dataframe tbody tr th {\n",
       "        vertical-align: top;\n",
       "    }\n",
       "\n",
       "    .dataframe thead th {\n",
       "        text-align: right;\n",
       "    }\n",
       "</style>\n",
       "<table border=\"1\" class=\"dataframe\">\n",
       "  <thead>\n",
       "    <tr style=\"text-align: right;\">\n",
       "      <th></th>\n",
       "      <th>n_contigs</th>\n",
       "      <th>contig_bp</th>\n",
       "      <th>gap_pct</th>\n",
       "      <th>ctg_N50</th>\n",
       "      <th>ctg_L50</th>\n",
       "      <th>ctg_N90</th>\n",
       "      <th>ctg_L90</th>\n",
       "      <th>ctg_max</th>\n",
       "      <th>gc_avg</th>\n",
       "      <th>gc_std</th>\n",
       "      <th>filename</th>\n",
       "    </tr>\n",
       "  </thead>\n",
       "  <tbody>\n",
       "    <tr>\n",
       "      <th>0</th>\n",
       "      <td>100</td>\n",
       "      <td>11670</td>\n",
       "      <td>0.000</td>\n",
       "      <td>34</td>\n",
       "      <td>130</td>\n",
       "      <td>83</td>\n",
       "      <td>74</td>\n",
       "      <td>265</td>\n",
       "      <td>0.47215</td>\n",
       "      <td>0.12871</td>\n",
       "      <td>/home/huangsixing/Documents/mgrast_ge/fasta/mg...</td>\n",
       "    </tr>\n",
       "    <tr>\n",
       "      <th>1</th>\n",
       "      <td>100</td>\n",
       "      <td>22815</td>\n",
       "      <td>0.018</td>\n",
       "      <td>25</td>\n",
       "      <td>420</td>\n",
       "      <td>69</td>\n",
       "      <td>84</td>\n",
       "      <td>512</td>\n",
       "      <td>0.51269</td>\n",
       "      <td>0.10778</td>\n",
       "      <td>/home/huangsixing/Documents/mgrast_ge/fasta/mg...</td>\n",
       "    </tr>\n",
       "    <tr>\n",
       "      <th>2</th>\n",
       "      <td>100</td>\n",
       "      <td>22025</td>\n",
       "      <td>0.005</td>\n",
       "      <td>26</td>\n",
       "      <td>375</td>\n",
       "      <td>74</td>\n",
       "      <td>91</td>\n",
       "      <td>495</td>\n",
       "      <td>0.54561</td>\n",
       "      <td>0.10954</td>\n",
       "      <td>/home/huangsixing/Documents/mgrast_ge/fasta/mg...</td>\n",
       "    </tr>\n",
       "    <tr>\n",
       "      <th>3</th>\n",
       "      <td>100</td>\n",
       "      <td>23148</td>\n",
       "      <td>0.009</td>\n",
       "      <td>26</td>\n",
       "      <td>378</td>\n",
       "      <td>70</td>\n",
       "      <td>99</td>\n",
       "      <td>503</td>\n",
       "      <td>0.53599</td>\n",
       "      <td>0.09698</td>\n",
       "      <td>/home/huangsixing/Documents/mgrast_ge/fasta/mg...</td>\n",
       "    </tr>\n",
       "    <tr>\n",
       "      <th>4</th>\n",
       "      <td>100</td>\n",
       "      <td>12116</td>\n",
       "      <td>0.000</td>\n",
       "      <td>30</td>\n",
       "      <td>139</td>\n",
       "      <td>81</td>\n",
       "      <td>67</td>\n",
       "      <td>493</td>\n",
       "      <td>0.48382</td>\n",
       "      <td>0.10773</td>\n",
       "      <td>/home/huangsixing/Documents/mgrast_ge/fasta/mg...</td>\n",
       "    </tr>\n",
       "  </tbody>\n",
       "</table>\n",
       "</div>"
      ],
      "text/plain": [
       "   n_contigs  contig_bp  gap_pct  ctg_N50  ctg_L50  ctg_N90  ctg_L90  ctg_max  \\\n",
       "0        100      11670    0.000       34      130       83       74      265   \n",
       "1        100      22815    0.018       25      420       69       84      512   \n",
       "2        100      22025    0.005       26      375       74       91      495   \n",
       "3        100      23148    0.009       26      378       70       99      503   \n",
       "4        100      12116    0.000       30      139       81       67      493   \n",
       "\n",
       "    gc_avg   gc_std                                           filename  \n",
       "0  0.47215  0.12871  /home/huangsixing/Documents/mgrast_ge/fasta/mg...  \n",
       "1  0.51269  0.10778  /home/huangsixing/Documents/mgrast_ge/fasta/mg...  \n",
       "2  0.54561  0.10954  /home/huangsixing/Documents/mgrast_ge/fasta/mg...  \n",
       "3  0.53599  0.09698  /home/huangsixing/Documents/mgrast_ge/fasta/mg...  \n",
       "4  0.48382  0.10773  /home/huangsixing/Documents/mgrast_ge/fasta/mg...  "
      ]
     },
     "execution_count": 10,
     "metadata": {},
     "output_type": "execute_result"
    }
   ],
   "source": [
    "batch.head()"
   ]
  },
  {
   "cell_type": "code",
   "execution_count": 14,
   "metadata": {},
   "outputs": [
    {
     "data": {
      "text/plain": [
       "{\n",
       "  \"success\": true,\n",
       "  \"meta\": {},\n",
       "  \"exception_info\": {\n",
       "    \"raised_exception\": false,\n",
       "    \"exception_traceback\": null,\n",
       "    \"exception_message\": null\n",
       "  },\n",
       "  \"result\": {\n",
       "    \"observed_value\": 90,\n",
       "    \"element_count\": 49,\n",
       "    \"missing_count\": null,\n",
       "    \"missing_percent\": null\n",
       "  }\n",
       "}"
      ]
     },
     "execution_count": 14,
     "metadata": {},
     "output_type": "execute_result"
    }
   ],
   "source": [
    "batch.expect_column_min_to_be_between('ctg_L50', min_value=80, max_value=150, result_format={'result_format': 'COMPLETE'})"
   ]
  },
  {
   "cell_type": "code",
   "execution_count": 15,
   "metadata": {},
   "outputs": [
    {
     "data": {
      "text/plain": [
       "{\n",
       "  \"success\": false,\n",
       "  \"meta\": {},\n",
       "  \"exception_info\": {\n",
       "    \"raised_exception\": false,\n",
       "    \"exception_traceback\": null,\n",
       "    \"exception_message\": null\n",
       "  },\n",
       "  \"result\": {\n",
       "    \"observed_value\": 420,\n",
       "    \"element_count\": 49,\n",
       "    \"missing_count\": null,\n",
       "    \"missing_percent\": null\n",
       "  }\n",
       "}"
      ]
     },
     "execution_count": 15,
     "metadata": {},
     "output_type": "execute_result"
    }
   ],
   "source": [
    "batch.expect_column_max_to_be_between('ctg_L50', min_value=140, max_value=380, result_format={'result_format': 'COMPLETE'})"
   ]
  },
  {
   "cell_type": "code",
   "execution_count": 16,
   "metadata": {},
   "outputs": [
    {
     "data": {
      "text/plain": [
       "{\n",
       "  \"success\": false,\n",
       "  \"meta\": {},\n",
       "  \"exception_info\": {\n",
       "    \"raised_exception\": false,\n",
       "    \"exception_traceback\": null,\n",
       "    \"exception_message\": null\n",
       "  },\n",
       "  \"result\": {\n",
       "    \"observed_value\": 2,\n",
       "    \"element_count\": 49,\n",
       "    \"missing_count\": null,\n",
       "    \"missing_percent\": null\n",
       "  }\n",
       "}"
      ]
     },
     "execution_count": 16,
     "metadata": {},
     "output_type": "execute_result"
    }
   ],
   "source": [
    "batch.expect_column_min_to_be_between('n_contigs', min_value=90, max_value=120, result_format={'result_format': 'COMPLETE'})"
   ]
  },
  {
   "cell_type": "code",
   "execution_count": 17,
   "metadata": {},
   "outputs": [
    {
     "data": {
      "text/plain": [
       "{\n",
       "  \"success\": true,\n",
       "  \"meta\": {},\n",
       "  \"exception_info\": {\n",
       "    \"raised_exception\": false,\n",
       "    \"exception_traceback\": null,\n",
       "    \"exception_message\": null\n",
       "  },\n",
       "  \"result\": {\n",
       "    \"element_count\": 49,\n",
       "    \"missing_count\": 0,\n",
       "    \"missing_percent\": 0.0,\n",
       "    \"unexpected_count\": 0,\n",
       "    \"unexpected_percent\": 0.0,\n",
       "    \"unexpected_percent_total\": 0.0,\n",
       "    \"unexpected_percent_nonmissing\": 0.0,\n",
       "    \"partial_unexpected_list\": [],\n",
       "    \"partial_unexpected_index_list\": [],\n",
       "    \"partial_unexpected_counts\": [],\n",
       "    \"unexpected_list\": [],\n",
       "    \"unexpected_index_list\": []\n",
       "  }\n",
       "}"
      ]
     },
     "execution_count": 17,
     "metadata": {},
     "output_type": "execute_result"
    }
   ],
   "source": [
    "batch.expect_column_values_to_be_between('gc_avg', min_value=0.40, max_value=0.6, result_format={'result_format': 'COMPLETE'})"
   ]
  },
  {
   "cell_type": "code",
   "execution_count": 18,
   "metadata": {},
   "outputs": [
    {
     "data": {
      "text/plain": [
       "{\n",
       "  \"data_asset_type\": \"Dataset\",\n",
       "  \"ge_cloud_id\": null,\n",
       "  \"expectations\": [\n",
       "    {\n",
       "      \"kwargs\": {\n",
       "        \"column\": \"ctg_L50\",\n",
       "        \"min_value\": 80,\n",
       "        \"max_value\": 150\n",
       "      },\n",
       "      \"expectation_type\": \"expect_column_min_to_be_between\",\n",
       "      \"meta\": {}\n",
       "    },\n",
       "    {\n",
       "      \"kwargs\": {\n",
       "        \"column\": \"gc_avg\",\n",
       "        \"min_value\": 0.4,\n",
       "        \"max_value\": 0.6\n",
       "      },\n",
       "      \"expectation_type\": \"expect_column_values_to_be_between\",\n",
       "      \"meta\": {}\n",
       "    }\n",
       "  ],\n",
       "  \"meta\": {\n",
       "    \"great_expectations_version\": \"0.15.7\"\n",
       "  },\n",
       "  \"expectation_suite_name\": \"check_seq_data\"\n",
       "}"
      ]
     },
     "execution_count": 18,
     "metadata": {},
     "output_type": "execute_result"
    }
   ],
   "source": [
    "batch.get_expectation_suite()"
   ]
  },
  {
   "cell_type": "code",
   "execution_count": 19,
   "metadata": {},
   "outputs": [],
   "source": [
    "batch.save_expectation_suite()"
   ]
  },
  {
   "cell_type": "code",
   "execution_count": 20,
   "metadata": {},
   "outputs": [
    {
     "data": {
      "text/plain": [
       "<great_expectations.validation_operators.validation_operators.ActionListValidationOperator at 0x7faa66a25a90>"
      ]
     },
     "execution_count": 20,
     "metadata": {},
     "output_type": "execute_result"
    }
   ],
   "source": [
    "validation_operator_name = 'seq_validation_operator'\n",
    "validation_operator_config = {\n",
    "    'class_name': 'ActionListValidationOperator',\n",
    "    'action_list': [{'name': 'store_validation_result', 'action': {'class_name': 'StoreValidationResultAction'}}, {'name': 'update_data_docs', 'action': {'class_name': 'UpdateDataDocsAction'}}]\n",
    "}\n",
    "context_seq.add_validation_operator(validation_operator_name, validation_operator_config)"
   ]
  },
  {
   "cell_type": "code",
   "execution_count": 21,
   "metadata": {},
   "outputs": [
    {
     "name": "stderr",
     "output_type": "stream",
     "text": [
      "/home/huangsixing/anaconda3/lib/python3.9/site-packages/jinja2/environment.py:1088: DeprecationWarning: 'soft_unicode' has been renamed to 'soft_str'. The old name will be removed in MarkupSafe 2.1.\n",
      "  return concat(self.root_render_func(self.new_context(vars)))\n"
     ]
    }
   ],
   "source": [
    "results = context_seq.run_validation_operator('seq_validation_operator', assets_to_validate=[batch])"
   ]
  },
  {
   "cell_type": "code",
   "execution_count": 22,
   "metadata": {},
   "outputs": [
    {
     "data": {
      "text/plain": [
       "{\n",
       "  \"run_id\": {\n",
       "    \"run_time\": \"2022-05-31T10:11:45.653160+00:00\",\n",
       "    \"run_name\": \"20220531T101145.653160Z\"\n",
       "  },\n",
       "  \"evaluation_parameters\": null,\n",
       "  \"success\": false,\n",
       "  \"run_results\": {\n",
       "    \"ValidationResultIdentifier::check_seq_data/20220531T101145.653160Z/20220531T101145.653160Z/e26b49f837c84090cd19c58a1ae22a29\": {\n",
       "      \"validation_result\": {\n",
       "        \"statistics\": {\n",
       "          \"evaluated_expectations\": 4,\n",
       "          \"successful_expectations\": 2,\n",
       "          \"unsuccessful_expectations\": 2,\n",
       "          \"success_percent\": 50.0\n",
       "        },\n",
       "        \"evaluation_parameters\": {},\n",
       "        \"success\": false,\n",
       "        \"meta\": {\n",
       "          \"great_expectations_version\": \"0.15.7\",\n",
       "          \"expectation_suite_name\": \"check_seq_data\",\n",
       "          \"run_id\": {\n",
       "            \"run_time\": \"2022-05-31T10:11:45.653160+00:00\",\n",
       "            \"run_name\": \"20220531T101145.653160Z\"\n",
       "          },\n",
       "          \"batch_kwargs\": {\n",
       "            \"path\": \"tsv/seq_stats.tsv\",\n",
       "            \"datasource\": \"tsv\",\n",
       "            \"data_asset_name\": \"seq_stats\",\n",
       "            \"reader_method\": \"read_csv\",\n",
       "            \"reader_options\": {\n",
       "              \"sep\": \"\\t\"\n",
       "            }\n",
       "          },\n",
       "          \"batch_markers\": {\n",
       "            \"ge_load_time\": \"20220531T095748.155093Z\",\n",
       "            \"pandas_data_fingerprint\": \"13bedfb10548710cfa4855faa8109586\"\n",
       "          },\n",
       "          \"batch_parameters\": null,\n",
       "          \"validation_time\": \"20220531T101145.656164Z\",\n",
       "          \"expectation_suite_meta\": {\n",
       "            \"great_expectations_version\": \"0.15.7\"\n",
       "          }\n",
       "        },\n",
       "        \"results\": [\n",
       "          {\n",
       "            \"success\": true,\n",
       "            \"meta\": {},\n",
       "            \"exception_info\": {\n",
       "              \"raised_exception\": false,\n",
       "              \"exception_message\": null,\n",
       "              \"exception_traceback\": null\n",
       "            },\n",
       "            \"expectation_config\": {\n",
       "              \"kwargs\": {\n",
       "                \"column\": \"ctg_L50\",\n",
       "                \"min_value\": 80,\n",
       "                \"max_value\": 150,\n",
       "                \"result_format\": {\n",
       "                  \"result_format\": \"SUMMARY\"\n",
       "                }\n",
       "              },\n",
       "              \"expectation_type\": \"expect_column_min_to_be_between\",\n",
       "              \"meta\": {}\n",
       "            },\n",
       "            \"result\": {\n",
       "              \"observed_value\": 90,\n",
       "              \"element_count\": 49,\n",
       "              \"missing_count\": null,\n",
       "              \"missing_percent\": null\n",
       "            }\n",
       "          },\n",
       "          {\n",
       "            \"success\": false,\n",
       "            \"meta\": {},\n",
       "            \"exception_info\": {\n",
       "              \"raised_exception\": false,\n",
       "              \"exception_message\": null,\n",
       "              \"exception_traceback\": null\n",
       "            },\n",
       "            \"expectation_config\": {\n",
       "              \"kwargs\": {\n",
       "                \"column\": \"ctg_L50\",\n",
       "                \"min_value\": 140,\n",
       "                \"max_value\": 380,\n",
       "                \"result_format\": {\n",
       "                  \"result_format\": \"SUMMARY\"\n",
       "                }\n",
       "              },\n",
       "              \"expectation_type\": \"expect_column_max_to_be_between\",\n",
       "              \"meta\": {}\n",
       "            },\n",
       "            \"result\": {\n",
       "              \"observed_value\": 420,\n",
       "              \"element_count\": 49,\n",
       "              \"missing_count\": null,\n",
       "              \"missing_percent\": null\n",
       "            }\n",
       "          },\n",
       "          {\n",
       "            \"success\": false,\n",
       "            \"meta\": {},\n",
       "            \"exception_info\": {\n",
       "              \"raised_exception\": false,\n",
       "              \"exception_message\": null,\n",
       "              \"exception_traceback\": null\n",
       "            },\n",
       "            \"expectation_config\": {\n",
       "              \"kwargs\": {\n",
       "                \"column\": \"n_contigs\",\n",
       "                \"min_value\": 90,\n",
       "                \"max_value\": 120,\n",
       "                \"result_format\": {\n",
       "                  \"result_format\": \"SUMMARY\"\n",
       "                }\n",
       "              },\n",
       "              \"expectation_type\": \"expect_column_min_to_be_between\",\n",
       "              \"meta\": {}\n",
       "            },\n",
       "            \"result\": {\n",
       "              \"observed_value\": 2,\n",
       "              \"element_count\": 49,\n",
       "              \"missing_count\": null,\n",
       "              \"missing_percent\": null\n",
       "            }\n",
       "          },\n",
       "          {\n",
       "            \"success\": true,\n",
       "            \"meta\": {},\n",
       "            \"exception_info\": {\n",
       "              \"raised_exception\": false,\n",
       "              \"exception_message\": null,\n",
       "              \"exception_traceback\": null\n",
       "            },\n",
       "            \"expectation_config\": {\n",
       "              \"kwargs\": {\n",
       "                \"column\": \"gc_avg\",\n",
       "                \"min_value\": 0.4,\n",
       "                \"max_value\": 0.6,\n",
       "                \"result_format\": {\n",
       "                  \"result_format\": \"SUMMARY\"\n",
       "                }\n",
       "              },\n",
       "              \"expectation_type\": \"expect_column_values_to_be_between\",\n",
       "              \"meta\": {}\n",
       "            },\n",
       "            \"result\": {\n",
       "              \"element_count\": 49,\n",
       "              \"missing_count\": 0,\n",
       "              \"missing_percent\": 0.0,\n",
       "              \"unexpected_count\": 0,\n",
       "              \"unexpected_percent\": 0.0,\n",
       "              \"unexpected_percent_total\": 0.0,\n",
       "              \"unexpected_percent_nonmissing\": 0.0,\n",
       "              \"partial_unexpected_list\": [],\n",
       "              \"partial_unexpected_index_list\": [],\n",
       "              \"partial_unexpected_counts\": []\n",
       "            }\n",
       "          }\n",
       "        ]\n",
       "      },\n",
       "      \"actions_results\": {\n",
       "        \"store_validation_result\": {\n",
       "          \"class\": \"StoreValidationResultAction\"\n",
       "        },\n",
       "        \"update_data_docs\": {\n",
       "          \"local_site\": \"file:///home/huangsixing/Documents/mgrast_ge/great_expectations/uncommitted/data_docs/local_site/validations/check_seq_data/20220531T101145.653160Z/20220531T101145.653160Z/e26b49f837c84090cd19c58a1ae22a29.html\",\n",
       "          \"class\": \"UpdateDataDocsAction\"\n",
       "        }\n",
       "      }\n",
       "    }\n",
       "  },\n",
       "  \"validation_operator_config\": {\n",
       "    \"class_name\": \"ActionListValidationOperator\",\n",
       "    \"module_name\": \"great_expectations.validation_operators\",\n",
       "    \"name\": \"seq_validation_operator\",\n",
       "    \"kwargs\": {\n",
       "      \"action_list\": [\n",
       "        {\n",
       "          \"name\": \"store_validation_result\",\n",
       "          \"action\": {\n",
       "            \"class_name\": \"StoreValidationResultAction\"\n",
       "          }\n",
       "        },\n",
       "        {\n",
       "          \"name\": \"update_data_docs\",\n",
       "          \"action\": {\n",
       "            \"class_name\": \"UpdateDataDocsAction\"\n",
       "          }\n",
       "        }\n",
       "      ],\n",
       "      \"result_format\": {\n",
       "        \"result_format\": \"SUMMARY\",\n",
       "        \"partial_unexpected_count\": 20\n",
       "      }\n",
       "    }\n",
       "  }\n",
       "}"
      ]
     },
     "execution_count": 22,
     "metadata": {},
     "output_type": "execute_result"
    }
   ],
   "source": [
    "results"
   ]
  },
  {
   "cell_type": "code",
   "execution_count": 23,
   "metadata": {},
   "outputs": [],
   "source": [
    "context_seq.open_data_docs()"
   ]
  },
  {
   "cell_type": "code",
   "execution_count": 24,
   "metadata": {},
   "outputs": [
    {
     "name": "stdout",
     "output_type": "stream",
     "text": [
      "Writing great_expectations/checkpoints/test_seq_data.yml\n"
     ]
    }
   ],
   "source": [
    "%%writefile great_expectations/checkpoints/test_seq_data.yml\n",
    "\n",
    "validation_operator_name: seq_validation_operator\n",
    "batches:\n",
    "  - batch_kwargs:\n",
    "      path: tsv/test_seq_stats.tsv\n",
    "      datasource: tsv\n",
    "      data_asset_name: test_seq_stats\n",
    "      reader_method: read_csv\n",
    "      reader_options:\n",
    "        'sep': '\\t'\n",
    "    expectation_suite_names:\n",
    "      - check_seq_data"
   ]
  },
  {
   "cell_type": "code",
   "execution_count": 25,
   "metadata": {},
   "outputs": [
    {
     "name": "stdout",
     "output_type": "stream",
     "text": [
      "Using v3 (Batch Request) API\u001b[0m\n",
      "Checkpoint store named \"checkpoint_store\" is not a configured store, so will try to use default Checkpoint store.\n",
      "  Please update your configuration to the new version number 3.0 in order to use the new \"Checkpoint Store\" feature.\n",
      "  Visit https://docs.greatexpectations.io/docs/guides/miscellaneous/migration_guide#migrating-to-the-batch-request-v3-api to learn more about the upgrade process.\n",
      "Could not find Validation Operator \"seq_validation_operator\" when running Checkpoint \"test_seq_data\". Using default action_list_operator.\n",
      "Validation succeeded!\u001b[0m\n",
      "\n",
      "Suite Name                                   Status     Expectations met\u001b[0m\n",
      "- check_seq_data                             \u001b[32m✔ Passed\u001b[0m   2 of 2 (100.0 %)\u001b[0m\n",
      "\u001b[0m"
     ]
    }
   ],
   "source": [
    "!great_expectations checkpoint run test_seq_data"
   ]
  },
  {
   "cell_type": "code",
   "execution_count": 26,
   "metadata": {},
   "outputs": [],
   "source": [
    "test_seq_df = pd.read_csv('tsv/test_seq_stats.tsv', sep='\\t')\n",
    "ge_df = ge.from_pandas(test_seq_df)"
   ]
  },
  {
   "cell_type": "code",
   "execution_count": 27,
   "metadata": {},
   "outputs": [],
   "source": [
    "result = ge_df.validate(batch.get_expectation_suite(), result_format=\"COMPLETE\")"
   ]
  },
  {
   "cell_type": "code",
   "execution_count": 28,
   "metadata": {},
   "outputs": [
    {
     "ename": "KeyError",
     "evalue": "'unexpected_index_list'",
     "output_type": "error",
     "traceback": [
      "\u001b[0;31m---------------------------------------------------------------------------\u001b[0m",
      "\u001b[0;31mKeyError\u001b[0m                                  Traceback (most recent call last)",
      "\u001b[1;32m/home/huangsixing/Documents/mgrast_ge/seq_ge.ipynb Cell 20'\u001b[0m in \u001b[0;36m<cell line: 1>\u001b[0;34m()\u001b[0m\n\u001b[0;32m----> <a href='vscode-notebook-cell:/home/huangsixing/Documents/mgrast_ge/seq_ge.ipynb#ch0000019?line=0'>1</a>\u001b[0m ge_df\u001b[39m.\u001b[39miloc[result\u001b[39m.\u001b[39;49mresults[\u001b[39m0\u001b[39;49m]\u001b[39m.\u001b[39;49mresult[\u001b[39m\"\u001b[39;49m\u001b[39munexpected_index_list\u001b[39;49m\u001b[39m\"\u001b[39;49m]]\n",
      "\u001b[0;31mKeyError\u001b[0m: 'unexpected_index_list'"
     ]
    }
   ],
   "source": [
    "ge_df.iloc[result.results[0].result[\"unexpected_index_list\"]]"
   ]
  },
  {
   "cell_type": "code",
   "execution_count": null,
   "metadata": {},
   "outputs": [],
   "source": []
  }
 ],
 "metadata": {
  "interpreter": {
   "hash": "2906174ea623f98bf0228f3e6b5461e1880ae5fa222a8c61228ae0439f209a69"
  },
  "kernelspec": {
   "display_name": "Python 3.9.12 ('base')",
   "language": "python",
   "name": "python3"
  },
  "language_info": {
   "codemirror_mode": {
    "name": "ipython",
    "version": 3
   },
   "file_extension": ".py",
   "mimetype": "text/x-python",
   "name": "python",
   "nbconvert_exporter": "python",
   "pygments_lexer": "ipython3",
   "version": "3.9.12"
  },
  "orig_nbformat": 4
 },
 "nbformat": 4,
 "nbformat_minor": 2
}
