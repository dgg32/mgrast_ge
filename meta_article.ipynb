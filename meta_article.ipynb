{
 "cells": [
  {
   "cell_type": "code",
   "execution_count": 1,
   "metadata": {},
   "outputs": [],
   "source": [
    "\n",
    "\n",
    "import great_expectations as ge\n",
    "from great_expectations import DataContext\n",
    "\n",
    "from great_expectations.core.expectation_configuration import ExpectationConfiguration\n",
    "from great_expectations.exceptions import DataContextError\n"
   ]
  },
  {
   "cell_type": "code",
   "execution_count": 2,
   "metadata": {},
   "outputs": [],
   "source": [
    "context_metadata: DataContext = ge.get_context()"
   ]
  },
  {
   "cell_type": "code",
   "execution_count": 3,
   "metadata": {},
   "outputs": [
    {
     "name": "stderr",
     "output_type": "stream",
     "text": [
      "<>:17: DeprecationWarning: invalid escape sequence \\.\n",
      "<>:17: DeprecationWarning: invalid escape sequence \\.\n",
      "C:\\Users\\dgg32\\AppData\\Local\\Temp\\ipykernel_10380\\2071290437.py:17: DeprecationWarning: invalid escape sequence \\.\n",
      "  \"default_regex\": {\"group_names\": [\"data_asset_name\"], \"pattern\": \"(.*\\.tsv)\"},\n"
     ]
    },
    {
     "data": {
      "text/plain": [
       "[{'class_name': 'Datasource',\n",
       "  'execution_engine': {'class_name': 'PandasExecutionEngine',\n",
       "   'module_name': 'great_expectations.execution_engine'},\n",
       "  'module_name': 'great_expectations.datasource',\n",
       "  'data_connectors': {'default_inferred_data_connector_name': {'class_name': 'InferredAssetFilesystemDataConnector',\n",
       "    'base_directory': '../tsv',\n",
       "    'module_name': 'great_expectations.datasource.data_connector',\n",
       "    'default_regex': {'group_names': ['data_asset_name'],\n",
       "     'pattern': '(.*\\\\.tsv)'}}},\n",
       "  'name': 'metadata_datasource'}]"
      ]
     },
     "execution_count": 3,
     "metadata": {},
     "output_type": "execute_result"
    }
   ],
   "source": [
    "datasource_name = \"metadata_datasource\"\n",
    "\n",
    "data_folder = \"../tsv\"\n",
    "\n",
    "datasource_config = {\n",
    "    \"name\": f\"{datasource_name}\",\n",
    "    \"class_name\": \"Datasource\",\n",
    "    \"module_name\": \"great_expectations.datasource\",\n",
    "    \"execution_engine\": {\n",
    "        \"module_name\": \"great_expectations.execution_engine\",\n",
    "        \"class_name\": \"PandasExecutionEngine\",\n",
    "    },\n",
    "    \"data_connectors\": {\n",
    "        \"default_inferred_data_connector_name\": {\n",
    "            \"class_name\": \"InferredAssetFilesystemDataConnector\",\n",
    "            \"base_directory\": f\"{data_folder}\",\n",
    "            \"default_regex\": {\"group_names\": [\"data_asset_name\"], \"pattern\": \"(.*\\.tsv)\"},\n",
    "        }\n",
    "    }\n",
    "}\n",
    "context_metadata.add_datasource(**datasource_config)\n",
    "\n",
    "context_metadata.list_datasources()"
   ]
  },
  {
   "cell_type": "code",
   "execution_count": 4,
   "metadata": {},
   "outputs": [
    {
     "name": "stdout",
     "output_type": "stream",
     "text": [
      "Loaded ExpectationSuite \"metadata_suite\" containing 7 expectations.\n"
     ]
    }
   ],
   "source": [
    "# Feel free to change the name of your suite here. Renaming this will not remove the other one.\n",
    "expectation_suite_name = \"metadata_suite\"\n",
    "try:\n",
    "    suite = context_metadata.get_expectation_suite(expectation_suite_name=expectation_suite_name)\n",
    "    print(f'Loaded ExpectationSuite \"{suite.expectation_suite_name}\" containing {len(suite.expectations)} expectations.')\n",
    "except DataContextError:\n",
    "    suite = context_metadata.create_expectation_suite(expectation_suite_name=expectation_suite_name)\n",
    "    print(f'Created ExpectationSuite \"{suite.expectation_suite_name}\".')"
   ]
  },
  {
   "cell_type": "code",
   "execution_count": 5,
   "metadata": {},
   "outputs": [
    {
     "data": {
      "text/plain": [
       "{\"kwargs\": {\"column\": \"longitude\", \"min_value\": -180, \"max_value\": 180, \"result_format\": {\"result_format\": \"COMPLETE\"}}, \"expectation_type\": \"expect_column_values_to_be_between\", \"meta\": {}}"
      ]
     },
     "execution_count": 5,
     "metadata": {},
     "output_type": "execute_result"
    }
   ],
   "source": [
    "# Create an Expectation\n",
    "longitude_expectation = ExpectationConfiguration(\n",
    "   expectation_type=\"expect_column_values_to_be_between\",\n",
    "   kwargs={\n",
    "      \"column\": \"longitude\",\n",
    "      \"min_value\": -180, \"max_value\": 180, \n",
    "      \"result_format\": {'result_format': 'COMPLETE'}\n",
    "   }\n",
    ")\n",
    "suite.add_expectation(expectation_configuration=longitude_expectation)"
   ]
  },
  {
   "cell_type": "code",
   "execution_count": 6,
   "metadata": {},
   "outputs": [
    {
     "data": {
      "text/plain": [
       "{\"kwargs\": {\"column\": \"latitude\", \"min_value\": -90, \"max_value\": 90, \"result_format\": {\"result_format\": \"COMPLETE\"}}, \"expectation_type\": \"expect_column_values_to_be_between\", \"meta\": {}}"
      ]
     },
     "execution_count": 6,
     "metadata": {},
     "output_type": "execute_result"
    }
   ],
   "source": [
    "# Create an Expectation\n",
    "latitude_expectation = ExpectationConfiguration(\n",
    "   expectation_type=\"expect_column_values_to_be_between\",\n",
    "   kwargs={\n",
    "      \"column\": \"latitude\",\n",
    "      \"min_value\": -90, \"max_value\": 90, \n",
    "      \"result_format\": {'result_format': 'COMPLETE'}\n",
    "   },\n",
    "   # Note optional comments omitted\n",
    ")\n",
    "suite.add_expectation(expectation_configuration=latitude_expectation)"
   ]
  },
  {
   "cell_type": "code",
   "execution_count": 7,
   "metadata": {},
   "outputs": [
    {
     "data": {
      "text/plain": [
       "{\"kwargs\": {\"column\": \"collection_date\", \"strftime_format\": \"%Y-%m-%d\", \"result_format\": {\"result_format\": \"COMPLETE\"}}, \"expectation_type\": \"expect_column_values_to_match_strftime_format\", \"meta\": {}}"
      ]
     },
     "execution_count": 7,
     "metadata": {},
     "output_type": "execute_result"
    }
   ],
   "source": [
    "# Create an Expectation\n",
    "collection_date_expectation = ExpectationConfiguration(\n",
    "   expectation_type=\"expect_column_values_to_match_strftime_format\",\n",
    "   kwargs={\n",
    "      \"column\": \"collection_date\",\n",
    "      \"strftime_format\": \"%Y-%m-%d\",\n",
    "      \"result_format\": {'result_format': 'COMPLETE'}\n",
    "   },\n",
    "   # Note optional comments omitted\n",
    ")\n",
    "suite.add_expectation(expectation_configuration=collection_date_expectation)"
   ]
  },
  {
   "cell_type": "code",
   "execution_count": 8,
   "metadata": {},
   "outputs": [
    {
     "data": {
      "text/plain": [
       "{\"kwargs\": {\"column\": \"collection_time\", \"strftime_format\": \"%H:%M:%S\", \"result_format\": {\"result_format\": \"COMPLETE\"}}, \"expectation_type\": \"expect_column_values_to_match_strftime_format\", \"meta\": {}}"
      ]
     },
     "execution_count": 8,
     "metadata": {},
     "output_type": "execute_result"
    }
   ],
   "source": [
    "# Create an Expectation\n",
    "collection_time_expectation = ExpectationConfiguration(\n",
    "   expectation_type=\"expect_column_values_to_match_strftime_format\",\n",
    "   kwargs={\n",
    "      \"column\": \"collection_time\",\n",
    "      \"strftime_format\": \"%H:%M:%S\",\n",
    "      \"result_format\": {'result_format': 'COMPLETE'}\n",
    "   },\n",
    "   # Note optional comments omitted\n",
    ")\n",
    "suite.add_expectation(expectation_configuration=collection_time_expectation)"
   ]
  },
  {
   "cell_type": "code",
   "execution_count": 9,
   "metadata": {},
   "outputs": [
    {
     "data": {
      "text/plain": [
       "{\"kwargs\": {\"column\": \"material\", \"type_\": \"str\", \"result_format\": {\"result_format\": \"COMPLETE\"}}, \"expectation_type\": \"expect_column_values_to_be_of_type\", \"meta\": {}}"
      ]
     },
     "execution_count": 9,
     "metadata": {},
     "output_type": "execute_result"
    }
   ],
   "source": [
    "\n",
    "\n",
    "material_type_expectation = ExpectationConfiguration(\n",
    "   expectation_type=\"expect_column_values_to_be_of_type\",\n",
    "   kwargs={\n",
    "      \"column\": \"material\",\n",
    "      \"type_\": \"str\",\n",
    "      \"result_format\": {'result_format': 'COMPLETE'}\n",
    "   }\n",
    "   # Note optional comments omitted\n",
    ")\n",
    "suite.add_expectation(expectation_configuration=material_type_expectation)"
   ]
  },
  {
   "cell_type": "code",
   "execution_count": 10,
   "metadata": {},
   "outputs": [
    {
     "data": {
      "text/plain": [
       "{\"kwargs\": {\"column\": \"country\", \"type_\": \"str\", \"result_format\": {\"result_format\": \"COMPLETE\"}}, \"expectation_type\": \"expect_column_values_to_be_of_type\", \"meta\": {}}"
      ]
     },
     "execution_count": 10,
     "metadata": {},
     "output_type": "execute_result"
    }
   ],
   "source": [
    "country_type_expectation = ExpectationConfiguration(\n",
    "   expectation_type=\"expect_column_values_to_be_of_type\",\n",
    "   kwargs={\n",
    "      \"column\": \"country\",\n",
    "      \"type_\": \"str\",\n",
    "      \"result_format\": {'result_format': 'COMPLETE'}\n",
    "   }\n",
    "   # Note optional comments omitted\n",
    ")\n",
    "suite.add_expectation(expectation_configuration=country_type_expectation)"
   ]
  },
  {
   "cell_type": "code",
   "execution_count": 11,
   "metadata": {},
   "outputs": [
    {
     "data": {
      "text/plain": [
       "{\"kwargs\": {\"column\": \"feature\", \"type_\": \"str\", \"result_format\": {\"result_format\": \"COMPLETE\"}}, \"expectation_type\": \"expect_column_values_to_be_of_type\", \"meta\": {}}"
      ]
     },
     "execution_count": 11,
     "metadata": {},
     "output_type": "execute_result"
    }
   ],
   "source": [
    "feature_type_expectation = ExpectationConfiguration(\n",
    "   expectation_type=\"expect_column_values_to_be_of_type\",\n",
    "   kwargs={\n",
    "      \"column\": \"feature\",\n",
    "      \"type_\": \"str\",\n",
    "      \"result_format\": {'result_format': 'COMPLETE'}\n",
    "   }\n",
    "   # Note optional comments omitted\n",
    ")\n",
    "suite.add_expectation(expectation_configuration=feature_type_expectation)"
   ]
  },
  {
   "cell_type": "code",
   "execution_count": 12,
   "metadata": {},
   "outputs": [
    {
     "data": {
      "text/plain": [
       "'c:\\\\Users\\\\dgg32\\\\Documents\\\\mgrast_ge\\\\great_expectations\\\\expectations/metadata_suite.json'"
      ]
     },
     "execution_count": 12,
     "metadata": {},
     "output_type": "execute_result"
    }
   ],
   "source": [
    "#print(context.get_expectation_suite(expectation_suite_name=expectation_suite_name))\n",
    "context_metadata.save_expectation_suite(expectation_suite=suite, expectation_suite_name=expectation_suite_name)\n",
    "\n",
    "#suite_identifier = ExpectationSuiteIdentifier(expectation_suite_name=expectation_suite_name)\n",
    "#context.build_data_docs(resource_identifiers=[suite_identifier])\n",
    "#context.open_data_docs(resource_identifier=suite_identifier)"
   ]
  },
  {
   "cell_type": "code",
   "execution_count": 13,
   "metadata": {},
   "outputs": [],
   "source": [
    "my_checkpoint_name = \"metadata_checkpoint\" # This was populated from your CLI command.\n",
    "which_file_to_check = \"metadata.tsv\""
   ]
  },
  {
   "cell_type": "code",
   "execution_count": 14,
   "metadata": {},
   "outputs": [],
   "source": [
    "action_list = [\n",
    "    {'name': 'store_validation_result', 'action': {'class_name': 'StoreValidationResultAction'}}, \n",
    "    {'name': 'update_data_docs', 'action': {'class_name': 'UpdateDataDocsAction'}}, \n",
    "    {'name': 'send_slack_notification_on_validation_result', 'action': {'class_name': 'SlackNotificationAction', 'slack_webhook': '${validation_notification_slack_webhook}', 'notify_on': 'failure', 'renderer': {'module_name': 'great_expectations.render.renderer.slack_renderer', 'class_name': 'SlackRenderer'}}}\n",
    "    ]\n"
   ]
  },
  {
   "cell_type": "code",
   "execution_count": 15,
   "metadata": {},
   "outputs": [
    {
     "data": {
      "text/plain": [
       "{\n",
       "  \"action_list\": [\n",
       "    {\n",
       "      \"name\": \"store_validation_result\",\n",
       "      \"action\": {\n",
       "        \"class_name\": \"StoreValidationResultAction\"\n",
       "      }\n",
       "    },\n",
       "    {\n",
       "      \"name\": \"store_evaluation_params\",\n",
       "      \"action\": {\n",
       "        \"class_name\": \"StoreEvaluationParametersAction\"\n",
       "      }\n",
       "    },\n",
       "    {\n",
       "      \"name\": \"update_data_docs\",\n",
       "      \"action\": {\n",
       "        \"class_name\": \"UpdateDataDocsAction\",\n",
       "        \"site_names\": []\n",
       "      }\n",
       "    }\n",
       "  ],\n",
       "  \"batch_request\": {},\n",
       "  \"class_name\": \"Checkpoint\",\n",
       "  \"config_version\": 1.0,\n",
       "  \"evaluation_parameters\": {},\n",
       "  \"module_name\": \"great_expectations.checkpoint\",\n",
       "  \"name\": \"metadata_checkpoint\",\n",
       "  \"profilers\": [],\n",
       "  \"run_name_template\": \"%Y%m%d-%H%M%S-check\",\n",
       "  \"runtime_configuration\": {},\n",
       "  \"validations\": [\n",
       "    {\n",
       "      \"batch_request\": {\n",
       "        \"datasource_name\": \"metadata_datasource\",\n",
       "        \"data_connector_name\": \"default_inferred_data_connector_name\",\n",
       "        \"data_asset_name\": \"metadata.tsv\",\n",
       "        \"batch_spec_passthrough\": {\n",
       "          \"reader_method\": \"read_csv\",\n",
       "          \"reader_options\": {\n",
       "            \"sep\": \"\\t\"\n",
       "          }\n",
       "        }\n",
       "      },\n",
       "      \"expectation_suite_name\": \"metadata_suite\",\n",
       "      \"action_list\": [\n",
       "        {\n",
       "          \"name\": \"store_validation_result\",\n",
       "          \"action\": {\n",
       "            \"class_name\": \"StoreValidationResultAction\"\n",
       "          }\n",
       "        },\n",
       "        {\n",
       "          \"name\": \"update_data_docs\",\n",
       "          \"action\": {\n",
       "            \"class_name\": \"UpdateDataDocsAction\"\n",
       "          }\n",
       "        },\n",
       "        {\n",
       "          \"name\": \"send_slack_notification_on_validation_result\",\n",
       "          \"action\": {\n",
       "            \"class_name\": \"SlackNotificationAction\",\n",
       "            \"slack_webhook\": \"${validation_notification_slack_webhook}\",\n",
       "            \"notify_on\": \"failure\",\n",
       "            \"renderer\": {\n",
       "              \"module_name\": \"great_expectations.render.renderer.slack_renderer\",\n",
       "              \"class_name\": \"SlackRenderer\"\n",
       "            }\n",
       "          }\n",
       "        }\n",
       "      ]\n",
       "    }\n",
       "  ]\n",
       "}"
      ]
     },
     "execution_count": 15,
     "metadata": {},
     "output_type": "execute_result"
    }
   ],
   "source": [
    "\n",
    "\n",
    "\n",
    "checkpoint_config = {\n",
    "    \"name\": f\"{my_checkpoint_name}\",\n",
    "    \"config_version\": 1,\n",
    "    \"class_name\": \"SimpleCheckpoint\",\n",
    "    \"run_name_template\": \"%Y%m%d-%H%M%S-check\",\n",
    "    \"validations\": [\n",
    "        {\n",
    "            \"batch_request\": {\n",
    "                \"datasource_name\": datasource_name,\n",
    "                \"data_connector_name\": \"default_inferred_data_connector_name\",\n",
    "                \"data_asset_name\": which_file_to_check,\n",
    "                \"batch_spec_passthrough\": {\n",
    "                    \"reader_method\": \"read_csv\",\n",
    "                    \"reader_options\": {\"sep\": \"\\t\"}\n",
    "                }\n",
    "            },\n",
    "            \"expectation_suite_name\": expectation_suite_name,\n",
    "            \"action_list\": action_list\n",
    "        }\n",
    "    ],\n",
    "}\n",
    "context_metadata.add_checkpoint(**checkpoint_config)"
   ]
  },
  {
   "cell_type": "code",
   "execution_count": 16,
   "metadata": {},
   "outputs": [
    {
     "name": "stdout",
     "output_type": "stream",
     "text": [
      "{'metadata_datasource': {'default_inferred_data_connector_name': ['metadata.tsv', 'seq_stats.tsv', 'test_seq_stats.tsv', 'test_metadata.tsv']}}\n"
     ]
    }
   ],
   "source": [
    "print(context_metadata.get_available_data_asset_names())"
   ]
  },
  {
   "cell_type": "code",
   "execution_count": 17,
   "metadata": {},
   "outputs": [
    {
     "data": {
      "application/vnd.jupyter.widget-view+json": {
       "model_id": "76fccf0cab784fc7a0f931cc4e72378f",
       "version_major": 2,
       "version_minor": 0
      },
      "text/plain": [
       "Calculating Metrics:   0%|          | 0/38 [00:00<?, ?it/s]"
      ]
     },
     "metadata": {},
     "output_type": "display_data"
    },
    {
     "name": "stderr",
     "output_type": "stream",
     "text": [
      "Request to Slack webhook returned error 404: no_service\n"
     ]
    },
    {
     "data": {
      "text/plain": [
       "{\n",
       "  \"run_id\": {\n",
       "    \"run_time\": \"2022-06-05T20:39:25.169659+00:00\",\n",
       "    \"run_name\": \"20220605-203925-check\"\n",
       "  },\n",
       "  \"run_results\": {\n",
       "    \"ValidationResultIdentifier::metadata_suite/20220605-203925-check/20220605T203925.169659Z/1783362dcd1dbf06044288ecf6a2a7eb\": {\n",
       "      \"validation_result\": {\n",
       "        \"results\": [\n",
       "          {\n",
       "            \"result\": {\n",
       "              \"element_count\": 49,\n",
       "              \"unexpected_count\": 0,\n",
       "              \"unexpected_percent\": 0.0,\n",
       "              \"partial_unexpected_list\": [],\n",
       "              \"missing_count\": 0,\n",
       "              \"missing_percent\": 0.0,\n",
       "              \"unexpected_percent_total\": 0.0,\n",
       "              \"unexpected_percent_nonmissing\": 0.0,\n",
       "              \"partial_unexpected_index_list\": null,\n",
       "              \"partial_unexpected_counts\": []\n",
       "            },\n",
       "            \"success\": true,\n",
       "            \"exception_info\": {\n",
       "              \"raised_exception\": false,\n",
       "              \"exception_traceback\": null,\n",
       "              \"exception_message\": null\n",
       "            },\n",
       "            \"expectation_config\": {\n",
       "              \"kwargs\": {\n",
       "                \"column\": \"longitude\",\n",
       "                \"max_value\": 180,\n",
       "                \"min_value\": -180,\n",
       "                \"result_format\": {\n",
       "                  \"result_format\": \"COMPLETE\"\n",
       "                },\n",
       "                \"batch_id\": \"1783362dcd1dbf06044288ecf6a2a7eb\"\n",
       "              },\n",
       "              \"expectation_type\": \"expect_column_values_to_be_between\",\n",
       "              \"meta\": {}\n",
       "            },\n",
       "            \"meta\": {}\n",
       "          },\n",
       "          {\n",
       "            \"result\": {\n",
       "              \"element_count\": 49,\n",
       "              \"unexpected_count\": 1,\n",
       "              \"unexpected_percent\": 2.0408163265306123,\n",
       "              \"partial_unexpected_list\": [\n",
       "                -151.82739\n",
       "              ],\n",
       "              \"missing_count\": 0,\n",
       "              \"missing_percent\": 0.0,\n",
       "              \"unexpected_percent_total\": 2.0408163265306123,\n",
       "              \"unexpected_percent_nonmissing\": 2.0408163265306123,\n",
       "              \"partial_unexpected_index_list\": null,\n",
       "              \"partial_unexpected_counts\": [\n",
       "                {\n",
       "                  \"value\": -151.82739,\n",
       "                  \"count\": 1\n",
       "                }\n",
       "              ]\n",
       "            },\n",
       "            \"success\": false,\n",
       "            \"exception_info\": {\n",
       "              \"raised_exception\": false,\n",
       "              \"exception_traceback\": null,\n",
       "              \"exception_message\": null\n",
       "            },\n",
       "            \"expectation_config\": {\n",
       "              \"kwargs\": {\n",
       "                \"column\": \"latitude\",\n",
       "                \"max_value\": 90,\n",
       "                \"min_value\": -90,\n",
       "                \"result_format\": {\n",
       "                  \"result_format\": \"COMPLETE\"\n",
       "                },\n",
       "                \"batch_id\": \"1783362dcd1dbf06044288ecf6a2a7eb\"\n",
       "              },\n",
       "              \"expectation_type\": \"expect_column_values_to_be_between\",\n",
       "              \"meta\": {}\n",
       "            },\n",
       "            \"meta\": {}\n",
       "          },\n",
       "          {\n",
       "            \"result\": {\n",
       "              \"element_count\": 49,\n",
       "              \"unexpected_count\": 0,\n",
       "              \"unexpected_percent\": 0.0,\n",
       "              \"partial_unexpected_list\": [],\n",
       "              \"missing_count\": 0,\n",
       "              \"missing_percent\": 0.0,\n",
       "              \"unexpected_percent_total\": 0.0,\n",
       "              \"unexpected_percent_nonmissing\": 0.0,\n",
       "              \"partial_unexpected_index_list\": null,\n",
       "              \"partial_unexpected_counts\": []\n",
       "            },\n",
       "            \"success\": true,\n",
       "            \"exception_info\": {\n",
       "              \"raised_exception\": false,\n",
       "              \"exception_traceback\": null,\n",
       "              \"exception_message\": null\n",
       "            },\n",
       "            \"expectation_config\": {\n",
       "              \"kwargs\": {\n",
       "                \"column\": \"collection_time\",\n",
       "                \"result_format\": {\n",
       "                  \"result_format\": \"COMPLETE\"\n",
       "                },\n",
       "                \"strftime_format\": \"%H:%M:%S\",\n",
       "                \"batch_id\": \"1783362dcd1dbf06044288ecf6a2a7eb\"\n",
       "              },\n",
       "              \"expectation_type\": \"expect_column_values_to_match_strftime_format\",\n",
       "              \"meta\": {}\n",
       "            },\n",
       "            \"meta\": {}\n",
       "          },\n",
       "          {\n",
       "            \"result\": {\n",
       "              \"element_count\": 49,\n",
       "              \"unexpected_count\": 0,\n",
       "              \"unexpected_percent\": 0.0,\n",
       "              \"partial_unexpected_list\": [],\n",
       "              \"missing_count\": 0,\n",
       "              \"missing_percent\": 0.0,\n",
       "              \"unexpected_percent_total\": 0.0,\n",
       "              \"unexpected_percent_nonmissing\": 0.0,\n",
       "              \"partial_unexpected_index_list\": null,\n",
       "              \"partial_unexpected_counts\": []\n",
       "            },\n",
       "            \"success\": true,\n",
       "            \"exception_info\": {\n",
       "              \"raised_exception\": false,\n",
       "              \"exception_traceback\": null,\n",
       "              \"exception_message\": null\n",
       "            },\n",
       "            \"expectation_config\": {\n",
       "              \"kwargs\": {\n",
       "                \"column\": \"material\",\n",
       "                \"result_format\": {\n",
       "                  \"result_format\": \"COMPLETE\"\n",
       "                },\n",
       "                \"type_\": \"str\",\n",
       "                \"batch_id\": \"1783362dcd1dbf06044288ecf6a2a7eb\"\n",
       "              },\n",
       "              \"expectation_type\": \"expect_column_values_to_be_of_type\",\n",
       "              \"meta\": {}\n",
       "            },\n",
       "            \"meta\": {}\n",
       "          },\n",
       "          {\n",
       "            \"result\": {\n",
       "              \"element_count\": 49,\n",
       "              \"unexpected_count\": 0,\n",
       "              \"unexpected_percent\": 0.0,\n",
       "              \"partial_unexpected_list\": [],\n",
       "              \"missing_count\": 0,\n",
       "              \"missing_percent\": 0.0,\n",
       "              \"unexpected_percent_total\": 0.0,\n",
       "              \"unexpected_percent_nonmissing\": 0.0,\n",
       "              \"partial_unexpected_index_list\": null,\n",
       "              \"partial_unexpected_counts\": []\n",
       "            },\n",
       "            \"success\": true,\n",
       "            \"exception_info\": {\n",
       "              \"raised_exception\": false,\n",
       "              \"exception_traceback\": null,\n",
       "              \"exception_message\": null\n",
       "            },\n",
       "            \"expectation_config\": {\n",
       "              \"kwargs\": {\n",
       "                \"column\": \"country\",\n",
       "                \"result_format\": {\n",
       "                  \"result_format\": \"COMPLETE\"\n",
       "                },\n",
       "                \"type_\": \"str\",\n",
       "                \"batch_id\": \"1783362dcd1dbf06044288ecf6a2a7eb\"\n",
       "              },\n",
       "              \"expectation_type\": \"expect_column_values_to_be_of_type\",\n",
       "              \"meta\": {}\n",
       "            },\n",
       "            \"meta\": {}\n",
       "          },\n",
       "          {\n",
       "            \"result\": {\n",
       "              \"element_count\": 49,\n",
       "              \"unexpected_count\": 0,\n",
       "              \"unexpected_percent\": 0.0,\n",
       "              \"partial_unexpected_list\": [],\n",
       "              \"missing_count\": 0,\n",
       "              \"missing_percent\": 0.0,\n",
       "              \"unexpected_percent_total\": 0.0,\n",
       "              \"unexpected_percent_nonmissing\": 0.0,\n",
       "              \"partial_unexpected_index_list\": null,\n",
       "              \"partial_unexpected_counts\": []\n",
       "            },\n",
       "            \"success\": true,\n",
       "            \"exception_info\": {\n",
       "              \"raised_exception\": false,\n",
       "              \"exception_traceback\": null,\n",
       "              \"exception_message\": null\n",
       "            },\n",
       "            \"expectation_config\": {\n",
       "              \"kwargs\": {\n",
       "                \"column\": \"feature\",\n",
       "                \"result_format\": {\n",
       "                  \"result_format\": \"COMPLETE\"\n",
       "                },\n",
       "                \"type_\": \"str\",\n",
       "                \"batch_id\": \"1783362dcd1dbf06044288ecf6a2a7eb\"\n",
       "              },\n",
       "              \"expectation_type\": \"expect_column_values_to_be_of_type\",\n",
       "              \"meta\": {}\n",
       "            },\n",
       "            \"meta\": {}\n",
       "          },\n",
       "          {\n",
       "            \"result\": {\n",
       "              \"element_count\": 49,\n",
       "              \"unexpected_count\": 0,\n",
       "              \"unexpected_percent\": 0.0,\n",
       "              \"partial_unexpected_list\": [],\n",
       "              \"missing_count\": 0,\n",
       "              \"missing_percent\": 0.0,\n",
       "              \"unexpected_percent_total\": 0.0,\n",
       "              \"unexpected_percent_nonmissing\": 0.0,\n",
       "              \"partial_unexpected_index_list\": null,\n",
       "              \"partial_unexpected_counts\": []\n",
       "            },\n",
       "            \"success\": true,\n",
       "            \"exception_info\": {\n",
       "              \"raised_exception\": false,\n",
       "              \"exception_traceback\": null,\n",
       "              \"exception_message\": null\n",
       "            },\n",
       "            \"expectation_config\": {\n",
       "              \"kwargs\": {\n",
       "                \"column\": \"collection_date\",\n",
       "                \"result_format\": {\n",
       "                  \"result_format\": \"COMPLETE\"\n",
       "                },\n",
       "                \"strftime_format\": \"%Y-%m-%d\",\n",
       "                \"batch_id\": \"1783362dcd1dbf06044288ecf6a2a7eb\"\n",
       "              },\n",
       "              \"expectation_type\": \"expect_column_values_to_match_strftime_format\",\n",
       "              \"meta\": {}\n",
       "            },\n",
       "            \"meta\": {}\n",
       "          }\n",
       "        ],\n",
       "        \"success\": false,\n",
       "        \"evaluation_parameters\": {},\n",
       "        \"meta\": {\n",
       "          \"great_expectations_version\": \"0.15.7\",\n",
       "          \"expectation_suite_name\": \"metadata_suite\",\n",
       "          \"run_id\": {\n",
       "            \"run_time\": \"2022-06-05T20:39:25.169659+00:00\",\n",
       "            \"run_name\": \"20220605-203925-check\"\n",
       "          },\n",
       "          \"batch_spec\": {\n",
       "            \"path\": \"c:\\\\Users\\\\dgg32\\\\Documents\\\\mgrast_ge\\\\great_expectations\\\\..\\\\tsv\\\\metadata.tsv\",\n",
       "            \"reader_method\": \"read_csv\",\n",
       "            \"reader_options\": {\n",
       "              \"sep\": \"\\t\"\n",
       "            }\n",
       "          },\n",
       "          \"batch_markers\": {\n",
       "            \"ge_load_time\": \"20220605T123925.210518Z\",\n",
       "            \"pandas_data_fingerprint\": \"9cb091fee58838bad1bb1dd84e25b79b\"\n",
       "          },\n",
       "          \"active_batch_definition\": {\n",
       "            \"datasource_name\": \"metadata_datasource\",\n",
       "            \"data_connector_name\": \"default_inferred_data_connector_name\",\n",
       "            \"data_asset_name\": \"metadata.tsv\",\n",
       "            \"batch_identifiers\": {}\n",
       "          },\n",
       "          \"validation_time\": \"20220605T123925.309362Z\"\n",
       "        },\n",
       "        \"statistics\": {\n",
       "          \"evaluated_expectations\": 7,\n",
       "          \"successful_expectations\": 6,\n",
       "          \"unsuccessful_expectations\": 1,\n",
       "          \"success_percent\": 85.71428571428571\n",
       "        }\n",
       "      },\n",
       "      \"actions_results\": {\n",
       "        \"store_validation_result\": {\n",
       "          \"class\": \"StoreValidationResultAction\"\n",
       "        },\n",
       "        \"store_evaluation_params\": {\n",
       "          \"class\": \"StoreEvaluationParametersAction\"\n",
       "        },\n",
       "        \"update_data_docs\": {\n",
       "          \"local_site\": \"file://c:\\\\Users\\\\dgg32\\\\Documents\\\\mgrast_ge\\\\great_expectations\\\\uncommitted/data_docs/local_site/validations\\\\metadata_suite\\\\20220605-203925-check\\\\20220605T203925.169659Z\\\\1783362dcd1dbf06044288ecf6a2a7eb.html\",\n",
       "          \"class\": \"UpdateDataDocsAction\"\n",
       "        },\n",
       "        \"send_slack_notification_on_validation_result\": {\n",
       "          \"slack_notification_result\": null,\n",
       "          \"class\": \"SlackNotificationAction\"\n",
       "        }\n",
       "      }\n",
       "    }\n",
       "  },\n",
       "  \"checkpoint_config\": {\n",
       "    \"class_name\": \"Checkpoint\",\n",
       "    \"runtime_configuration\": {},\n",
       "    \"name\": \"metadata_checkpoint\",\n",
       "    \"run_name_template\": \"%Y%m%d-%H%M%S-check\",\n",
       "    \"notify_on\": null,\n",
       "    \"ge_cloud_id\": null,\n",
       "    \"evaluation_parameters\": {},\n",
       "    \"batch_request\": {},\n",
       "    \"template_name\": null,\n",
       "    \"action_list\": [\n",
       "      {\n",
       "        \"name\": \"store_validation_result\",\n",
       "        \"action\": {\n",
       "          \"class_name\": \"StoreValidationResultAction\"\n",
       "        }\n",
       "      },\n",
       "      {\n",
       "        \"name\": \"store_evaluation_params\",\n",
       "        \"action\": {\n",
       "          \"class_name\": \"StoreEvaluationParametersAction\"\n",
       "        }\n",
       "      },\n",
       "      {\n",
       "        \"name\": \"update_data_docs\",\n",
       "        \"action\": {\n",
       "          \"class_name\": \"UpdateDataDocsAction\",\n",
       "          \"site_names\": []\n",
       "        }\n",
       "      }\n",
       "    ],\n",
       "    \"profilers\": [],\n",
       "    \"site_names\": null,\n",
       "    \"slack_webhook\": null,\n",
       "    \"module_name\": \"great_expectations.checkpoint\",\n",
       "    \"config_version\": 1.0,\n",
       "    \"expectation_suite_name\": null,\n",
       "    \"validations\": [\n",
       "      {\n",
       "        \"batch_request\": {\n",
       "          \"datasource_name\": \"metadata_datasource\",\n",
       "          \"data_connector_name\": \"default_inferred_data_connector_name\",\n",
       "          \"data_asset_name\": \"metadata.tsv\",\n",
       "          \"batch_spec_passthrough\": {\n",
       "            \"reader_method\": \"read_csv\",\n",
       "            \"reader_options\": {\n",
       "              \"sep\": \"\\t\"\n",
       "            }\n",
       "          }\n",
       "        },\n",
       "        \"expectation_suite_name\": \"metadata_suite\",\n",
       "        \"action_list\": [\n",
       "          {\n",
       "            \"name\": \"store_validation_result\",\n",
       "            \"action\": {\n",
       "              \"class_name\": \"StoreValidationResultAction\"\n",
       "            }\n",
       "          },\n",
       "          {\n",
       "            \"name\": \"update_data_docs\",\n",
       "            \"action\": {\n",
       "              \"class_name\": \"UpdateDataDocsAction\"\n",
       "            }\n",
       "          },\n",
       "          {\n",
       "            \"name\": \"send_slack_notification_on_validation_result\",\n",
       "            \"action\": {\n",
       "              \"class_name\": \"SlackNotificationAction\",\n",
       "              \"slack_webhook\": \"${validation_notification_slack_webhook}\",\n",
       "              \"notify_on\": \"failure\",\n",
       "              \"renderer\": {\n",
       "                \"module_name\": \"great_expectations.render.renderer.slack_renderer\",\n",
       "                \"class_name\": \"SlackRenderer\"\n",
       "              }\n",
       "            }\n",
       "          }\n",
       "        ]\n",
       "      }\n",
       "    ],\n",
       "    \"expectation_suite_ge_cloud_id\": null,\n",
       "    \"notify_with\": null\n",
       "  },\n",
       "  \"success\": false\n",
       "}"
      ]
     },
     "execution_count": 17,
     "metadata": {},
     "output_type": "execute_result"
    }
   ],
   "source": [
    "context_metadata.run_checkpoint(checkpoint_name=my_checkpoint_name)"
   ]
  },
  {
   "cell_type": "code",
   "execution_count": 18,
   "metadata": {},
   "outputs": [],
   "source": [
    "context_metadata.open_data_docs()"
   ]
  },
  {
   "cell_type": "markdown",
   "metadata": {},
   "source": [
    "Or run the checkpoint with the CLI"
   ]
  },
  {
   "cell_type": "code",
   "execution_count": 23,
   "metadata": {},
   "outputs": [
    {
     "name": "stdout",
     "output_type": "stream",
     "text": [
      "Using v3 (Batch Request) API\n",
      "Validation failed!\n",
      "\n",
      "Suite Name                                   Status     Expectations met\n",
      "- metadata_suite                             ✖ Failed   6 of 7 (85.71 %)\n"
     ]
    },
    {
     "name": "stderr",
     "output_type": "stream",
     "text": [
      "\n",
      "Calculating Metrics:   0%|          | 0/38 [00:00<?, ?it/s]\n",
      "Calculating Metrics:   0%|          | 0/38 [00:00<?, ?it/s]\n",
      "Calculating Metrics:   5%|▌         | 2/38 [00:00<?, ?it/s]\n",
      "Calculating Metrics:   8%|▊         | 3/38 [00:00<00:00, 158.06it/s]\n",
      "Calculating Metrics:  45%|████▍     | 17/38 [00:00<00:00, 354.88it/s]\n",
      "Calculating Metrics: 100%|██████████| 38/38 [00:00<00:00, 488.46it/s]\n",
      "Calculating Metrics: 100%|██████████| 38/38 [00:00<00:00, 418.70it/s]\n",
      "Calculating Metrics: 100%|██████████| 38/38 [00:00<00:00, 414.02it/s]\n",
      "Request to Slack webhook returned error 404: no_service\n"
     ]
    }
   ],
   "source": [
    "!great_expectations checkpoint run metadata_checkpoint"
   ]
  },
  {
   "cell_type": "code",
   "execution_count": 24,
   "metadata": {},
   "outputs": [],
   "source": [
    "context_metadata.open_data_docs()"
   ]
  },
  {
   "cell_type": "code",
   "execution_count": 22,
   "metadata": {},
   "outputs": [
    {
     "name": "stdout",
     "output_type": "stream",
     "text": [
      "latitude expect_column_values_to_be_between failed\n",
      "       sample   latitude  longitude       location   country collection_date  \\\n",
      "44  mgs192740 -151.82739  -11.41924  Pacific Ocean  Kiribati      2009-03-30   \n",
      "\n",
      "   collection_time material     feature metagenome_id  \n",
      "44        10:00:00    water  coral reef  mgm4466596.3  \n",
      "\n",
      "\n"
     ]
    }
   ],
   "source": [
    "ge_df = ge.read_csv('tsv/metadata.tsv', sep='\\t')\n",
    "\n",
    "result = ge_df.validate(suite, result_format=\"COMPLETE\")\n",
    "\n",
    "for i in range(len(result.results)):\n",
    "    r = result.results[i]\n",
    "    if r[\"success\"] == False:\n",
    "        column = r.expectation_config[\"kwargs\"][\"column\"]\n",
    "        expectation_type = r.expectation_config[\"expectation_type\"]\n",
    "        print (f\"{column} {expectation_type} failed\")\n",
    "        print (ge_df.iloc[r.result[\"unexpected_index_list\"]])\n",
    "        print (\"\\n\")"
   ]
  },
  {
   "cell_type": "code",
   "execution_count": null,
   "metadata": {},
   "outputs": [],
   "source": []
  }
 ],
 "metadata": {
  "interpreter": {
   "hash": "69f0464fb54a4f75761ba31cf8f44185dd66bf658d74f687b025e3b60455b02b"
  },
  "kernelspec": {
   "display_name": "Python 3.9.13 ('great_expectations')",
   "language": "python",
   "name": "python3"
  },
  "language_info": {
   "codemirror_mode": {
    "name": "ipython",
    "version": 3
   },
   "file_extension": ".py",
   "mimetype": "text/x-python",
   "name": "python",
   "nbconvert_exporter": "python",
   "pygments_lexer": "ipython3",
   "version": "3.9.13"
  },
  "orig_nbformat": 4
 },
 "nbformat": 4,
 "nbformat_minor": 2
}
