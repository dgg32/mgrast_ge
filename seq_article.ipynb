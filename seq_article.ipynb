{
 "cells": [
  {
   "cell_type": "code",
   "execution_count": 50,
   "metadata": {},
   "outputs": [],
   "source": [
    "\n",
    "\n",
    "import great_expectations as ge\n",
    "from great_expectations import DataContext\n",
    "\n",
    "from great_expectations.core.expectation_configuration import ExpectationConfiguration\n",
    "from great_expectations.exceptions import DataContextError\n"
   ]
  },
  {
   "cell_type": "code",
   "execution_count": 51,
   "metadata": {},
   "outputs": [],
   "source": [
    "context_seq: DataContext = ge.get_context()"
   ]
  },
  {
   "cell_type": "code",
   "execution_count": 52,
   "metadata": {},
   "outputs": [
    {
     "name": "stderr",
     "output_type": "stream",
     "text": [
      "<>:17: DeprecationWarning: invalid escape sequence \\.\n",
      "<>:17: DeprecationWarning: invalid escape sequence \\.\n",
      "C:\\Users\\dgg32\\AppData\\Local\\Temp\\ipykernel_2228\\1578015761.py:17: DeprecationWarning: invalid escape sequence \\.\n",
      "  \"default_regex\": {\"group_names\": [\"data_asset_name\"], \"pattern\": \"(.*\\.tsv)\"},\n"
     ]
    },
    {
     "data": {
      "text/plain": [
       "[{'execution_engine': {'class_name': 'PandasExecutionEngine',\n",
       "   'module_name': 'great_expectations.execution_engine'},\n",
       "  'class_name': 'Datasource',\n",
       "  'data_connectors': {'default_inferred_data_connector_name': {'class_name': 'InferredAssetFilesystemDataConnector',\n",
       "    'module_name': 'great_expectations.datasource.data_connector',\n",
       "    'base_directory': '../tsv',\n",
       "    'default_regex': {'group_names': ['data_asset_name'],\n",
       "     'pattern': '(.*\\\\.tsv)'}}},\n",
       "  'module_name': 'great_expectations.datasource',\n",
       "  'name': 'metadata_datasource'},\n",
       " {'execution_engine': {'class_name': 'PandasExecutionEngine',\n",
       "   'module_name': 'great_expectations.execution_engine'},\n",
       "  'class_name': 'Datasource',\n",
       "  'data_connectors': {'default_inferred_data_connector_name': {'class_name': 'InferredAssetFilesystemDataConnector',\n",
       "    'module_name': 'great_expectations.datasource.data_connector',\n",
       "    'base_directory': '../tsv',\n",
       "    'default_regex': {'group_names': ['data_asset_name'],\n",
       "     'pattern': '(.*\\\\.tsv)'}}},\n",
       "  'module_name': 'great_expectations.datasource',\n",
       "  'name': 'seq_datasource'}]"
      ]
     },
     "execution_count": 52,
     "metadata": {},
     "output_type": "execute_result"
    }
   ],
   "source": [
    "datasource_name = \"seq_datasource\"\n",
    "\n",
    "data_folder = \"../tsv\"\n",
    "\n",
    "datasource_config = {\n",
    "    \"name\": f\"{datasource_name}\",\n",
    "    \"class_name\": \"Datasource\",\n",
    "    \"module_name\": \"great_expectations.datasource\",\n",
    "    \"execution_engine\": {\n",
    "        \"module_name\": \"great_expectations.execution_engine\",\n",
    "        \"class_name\": \"PandasExecutionEngine\",\n",
    "    },\n",
    "    \"data_connectors\": {\n",
    "        \"default_inferred_data_connector_name\": {\n",
    "            \"class_name\": \"InferredAssetFilesystemDataConnector\",\n",
    "            \"base_directory\": f\"{data_folder}\",\n",
    "            \"default_regex\": {\"group_names\": [\"data_asset_name\"], \"pattern\": \"(.*\\.tsv)\"},\n",
    "        }\n",
    "    }\n",
    "}\n",
    "context_seq.add_datasource(**datasource_config)\n",
    "\n",
    "context_seq.list_datasources()"
   ]
  },
  {
   "cell_type": "code",
   "execution_count": 53,
   "metadata": {},
   "outputs": [
    {
     "name": "stdout",
     "output_type": "stream",
     "text": [
      "Loaded ExpectationSuite \"seq_suite\" containing 2 expectations.\n"
     ]
    }
   ],
   "source": [
    "# Feel free to change the name of your suite here. Renaming this will not remove the other one.\n",
    "expectation_suite_name = \"seq_suite\"\n",
    "try:\n",
    "    suite = context_seq.get_expectation_suite(expectation_suite_name=expectation_suite_name)\n",
    "    print(f'Loaded ExpectationSuite \"{suite.expectation_suite_name}\" containing {len(suite.expectations)} expectations.')\n",
    "except DataContextError:\n",
    "    suite = context_seq.create_expectation_suite(expectation_suite_name=expectation_suite_name)\n",
    "    print(f'Created ExpectationSuite \"{suite.expectation_suite_name}\".')"
   ]
  },
  {
   "cell_type": "code",
   "execution_count": 54,
   "metadata": {},
   "outputs": [
    {
     "data": {
      "text/plain": [
       "{\"meta\": {}, \"expectation_type\": \"expect_column_values_to_be_between\", \"kwargs\": {\"column\": \"ctg_L50\", \"min_value\": 80, \"max_value\": 600, \"result_format\": {\"result_format\": \"COMPLETE\"}}}"
      ]
     },
     "execution_count": 54,
     "metadata": {},
     "output_type": "execute_result"
    }
   ],
   "source": [
    "# Create an Expectation\n",
    "ctg_l50_expectation = ExpectationConfiguration(\n",
    "   expectation_type=\"expect_column_values_to_be_between\",\n",
    "   kwargs={\n",
    "      \"column\": \"ctg_L50\",\n",
    "      \"min_value\": 80, \"max_value\": 600, \n",
    "      \"result_format\": {'result_format': 'COMPLETE'}\n",
    "   }\n",
    ")\n",
    "suite.add_expectation(expectation_configuration=ctg_l50_expectation)"
   ]
  },
  {
   "cell_type": "code",
   "execution_count": 55,
   "metadata": {},
   "outputs": [
    {
     "data": {
      "text/plain": [
       "{\"meta\": {}, \"expectation_type\": \"expect_column_values_to_be_between\", \"kwargs\": {\"column\": \"n_contigs\", \"min_value\": 90, \"max_value\": 100, \"result_format\": {\"result_format\": \"COMPLETE\"}}}"
      ]
     },
     "execution_count": 55,
     "metadata": {},
     "output_type": "execute_result"
    }
   ],
   "source": [
    "# Create an Expectation\n",
    "n_contigs_expectation = ExpectationConfiguration(\n",
    "   expectation_type=\"expect_column_values_to_be_between\",\n",
    "   kwargs={\n",
    "      \"column\": \"n_contigs\",\n",
    "      \"min_value\": 90, \"max_value\": 100, \n",
    "      \"result_format\": {'result_format': 'COMPLETE'}\n",
    "   }\n",
    ")\n",
    "suite.add_expectation(expectation_configuration=n_contigs_expectation)"
   ]
  },
  {
   "cell_type": "code",
   "execution_count": 56,
   "metadata": {},
   "outputs": [
    {
     "data": {
      "text/plain": [
       "'c:\\\\Users\\\\dgg32\\\\Documents\\\\mgrast_ge\\\\great_expectations\\\\expectations/seq_suite.json'"
      ]
     },
     "execution_count": 56,
     "metadata": {},
     "output_type": "execute_result"
    }
   ],
   "source": [
    "#print(context.get_expectation_suite(expectation_suite_name=expectation_suite_name))\n",
    "context_seq.save_expectation_suite(expectation_suite=suite, expectation_suite_name=expectation_suite_name)\n",
    "\n",
    "#suite_identifier = ExpectationSuiteIdentifier(expectation_suite_name=expectation_suite_name)\n",
    "#context.build_data_docs(resource_identifiers=[suite_identifier])\n",
    "#context.open_data_docs(resource_identifier=suite_identifier)"
   ]
  },
  {
   "cell_type": "code",
   "execution_count": 57,
   "metadata": {},
   "outputs": [],
   "source": [
    "my_checkpoint_name = \"seq_checkpoint\" # This was populated from your CLI command.\n",
    "which_file_to_check = \"seq_stats.tsv\""
   ]
  },
  {
   "cell_type": "code",
   "execution_count": 58,
   "metadata": {},
   "outputs": [],
   "source": [
    "action_list = [\n",
    "    {'name': 'store_validation_result', 'action': {'class_name': 'StoreValidationResultAction'}}, \n",
    "    {'name': 'update_data_docs', 'action': {'class_name': 'UpdateDataDocsAction'}}, \n",
    "    {'name': 'send_slack_notification_on_validation_result', 'action': {'class_name': 'SlackNotificationAction', 'slack_webhook': '${validation_notification_slack_webhook}', 'notify_on': 'failure', 'renderer': {'module_name': 'great_expectations.render.renderer.slack_renderer', 'class_name': 'SlackRenderer'}}}\n",
    "    ]\n"
   ]
  },
  {
   "cell_type": "code",
   "execution_count": 59,
   "metadata": {},
   "outputs": [
    {
     "data": {
      "text/plain": [
       "{\n",
       "  \"action_list\": [\n",
       "    {\n",
       "      \"name\": \"store_validation_result\",\n",
       "      \"action\": {\n",
       "        \"class_name\": \"StoreValidationResultAction\"\n",
       "      }\n",
       "    },\n",
       "    {\n",
       "      \"name\": \"store_evaluation_params\",\n",
       "      \"action\": {\n",
       "        \"class_name\": \"StoreEvaluationParametersAction\"\n",
       "      }\n",
       "    },\n",
       "    {\n",
       "      \"name\": \"update_data_docs\",\n",
       "      \"action\": {\n",
       "        \"class_name\": \"UpdateDataDocsAction\",\n",
       "        \"site_names\": []\n",
       "      }\n",
       "    }\n",
       "  ],\n",
       "  \"batch_request\": {},\n",
       "  \"class_name\": \"Checkpoint\",\n",
       "  \"config_version\": 1.0,\n",
       "  \"evaluation_parameters\": {},\n",
       "  \"module_name\": \"great_expectations.checkpoint\",\n",
       "  \"name\": \"seq_checkpoint\",\n",
       "  \"profilers\": [],\n",
       "  \"run_name_template\": \"%Y%m%d-%H%M%S-check\",\n",
       "  \"runtime_configuration\": {},\n",
       "  \"validations\": [\n",
       "    {\n",
       "      \"batch_request\": {\n",
       "        \"datasource_name\": \"seq_datasource\",\n",
       "        \"data_connector_name\": \"default_inferred_data_connector_name\",\n",
       "        \"data_asset_name\": \"seq_stats.tsv\",\n",
       "        \"batch_spec_passthrough\": {\n",
       "          \"reader_method\": \"read_csv\",\n",
       "          \"reader_options\": {\n",
       "            \"sep\": \"\\t\"\n",
       "          }\n",
       "        }\n",
       "      },\n",
       "      \"expectation_suite_name\": \"seq_suite\",\n",
       "      \"action_list\": [\n",
       "        {\n",
       "          \"name\": \"store_validation_result\",\n",
       "          \"action\": {\n",
       "            \"class_name\": \"StoreValidationResultAction\"\n",
       "          }\n",
       "        },\n",
       "        {\n",
       "          \"name\": \"update_data_docs\",\n",
       "          \"action\": {\n",
       "            \"class_name\": \"UpdateDataDocsAction\"\n",
       "          }\n",
       "        },\n",
       "        {\n",
       "          \"name\": \"send_slack_notification_on_validation_result\",\n",
       "          \"action\": {\n",
       "            \"class_name\": \"SlackNotificationAction\",\n",
       "            \"slack_webhook\": \"${validation_notification_slack_webhook}\",\n",
       "            \"notify_on\": \"failure\",\n",
       "            \"renderer\": {\n",
       "              \"module_name\": \"great_expectations.render.renderer.slack_renderer\",\n",
       "              \"class_name\": \"SlackRenderer\"\n",
       "            }\n",
       "          }\n",
       "        }\n",
       "      ]\n",
       "    }\n",
       "  ]\n",
       "}"
      ]
     },
     "execution_count": 59,
     "metadata": {},
     "output_type": "execute_result"
    }
   ],
   "source": [
    "\n",
    "\n",
    "\n",
    "checkpoint_config = {\n",
    "    \"name\": f\"{my_checkpoint_name}\",\n",
    "    \"config_version\": 1,\n",
    "    \"class_name\": \"SimpleCheckpoint\",\n",
    "    \"run_name_template\": \"%Y%m%d-%H%M%S-check\",\n",
    "    \"validations\": [\n",
    "        {\n",
    "            \"batch_request\": {\n",
    "                \"datasource_name\": datasource_name,\n",
    "                \"data_connector_name\": \"default_inferred_data_connector_name\",\n",
    "                \"data_asset_name\": which_file_to_check,\n",
    "                \"batch_spec_passthrough\": {\n",
    "                    \"reader_method\": \"read_csv\",\n",
    "                    \"reader_options\": {\"sep\": \"\\t\"}\n",
    "                }\n",
    "            },\n",
    "            \"expectation_suite_name\": expectation_suite_name,\n",
    "            \"action_list\": action_list\n",
    "        }\n",
    "    ],\n",
    "}\n",
    "context_seq.add_checkpoint(**checkpoint_config)"
   ]
  },
  {
   "cell_type": "code",
   "execution_count": 60,
   "metadata": {},
   "outputs": [
    {
     "name": "stdout",
     "output_type": "stream",
     "text": [
      "{'metadata_datasource': {'default_inferred_data_connector_name': ['test_metadata.tsv', 'seq_stats.tsv', 'metadata.tsv', 'test_seq_stats.tsv']}, 'seq_datasource': {'default_inferred_data_connector_name': ['test_metadata.tsv', 'seq_stats.tsv', 'metadata.tsv', 'test_seq_stats.tsv']}}\n"
     ]
    }
   ],
   "source": [
    "print(context_seq.get_available_data_asset_names())"
   ]
  },
  {
   "cell_type": "code",
   "execution_count": 61,
   "metadata": {},
   "outputs": [
    {
     "data": {
      "application/vnd.jupyter.widget-view+json": {
       "model_id": "d125ed36cf954a269d3fccc0acc77bdb",
       "version_major": 2,
       "version_minor": 0
      },
      "text/plain": [
       "Calculating Metrics:   0%|          | 0/13 [00:00<?, ?it/s]"
      ]
     },
     "metadata": {},
     "output_type": "display_data"
    },
    {
     "data": {
      "text/plain": [
       "{\n",
       "  \"run_id\": {\n",
       "    \"run_time\": \"2022-06-06T00:22:26.462606+00:00\",\n",
       "    \"run_name\": \"20220606-002226-check\"\n",
       "  },\n",
       "  \"run_results\": {\n",
       "    \"ValidationResultIdentifier::seq_suite/20220606-002226-check/20220606T002226.462606Z/e688278e3ee08b4f55445e802be9f557\": {\n",
       "      \"validation_result\": {\n",
       "        \"meta\": {\n",
       "          \"great_expectations_version\": \"0.15.7\",\n",
       "          \"expectation_suite_name\": \"seq_suite\",\n",
       "          \"run_id\": {\n",
       "            \"run_time\": \"2022-06-06T00:22:26.462606+00:00\",\n",
       "            \"run_name\": \"20220606-002226-check\"\n",
       "          },\n",
       "          \"batch_spec\": {\n",
       "            \"path\": \"c:\\\\Users\\\\dgg32\\\\Documents\\\\mgrast_ge\\\\great_expectations\\\\..\\\\tsv\\\\seq_stats.tsv\",\n",
       "            \"reader_method\": \"read_csv\",\n",
       "            \"reader_options\": {\n",
       "              \"sep\": \"\\t\"\n",
       "            }\n",
       "          },\n",
       "          \"batch_markers\": {\n",
       "            \"ge_load_time\": \"20220605T162226.497513Z\",\n",
       "            \"pandas_data_fingerprint\": \"13bedfb10548710cfa4855faa8109586\"\n",
       "          },\n",
       "          \"active_batch_definition\": {\n",
       "            \"datasource_name\": \"seq_datasource\",\n",
       "            \"data_connector_name\": \"default_inferred_data_connector_name\",\n",
       "            \"data_asset_name\": \"seq_stats.tsv\",\n",
       "            \"batch_identifiers\": {}\n",
       "          },\n",
       "          \"validation_time\": \"20220605T162226.583285Z\"\n",
       "        },\n",
       "        \"statistics\": {\n",
       "          \"evaluated_expectations\": 2,\n",
       "          \"successful_expectations\": 1,\n",
       "          \"unsuccessful_expectations\": 1,\n",
       "          \"success_percent\": 50.0\n",
       "        },\n",
       "        \"evaluation_parameters\": {},\n",
       "        \"success\": false,\n",
       "        \"results\": [\n",
       "          {\n",
       "            \"meta\": {},\n",
       "            \"exception_info\": {\n",
       "              \"raised_exception\": false,\n",
       "              \"exception_traceback\": null,\n",
       "              \"exception_message\": null\n",
       "            },\n",
       "            \"success\": true,\n",
       "            \"expectation_config\": {\n",
       "              \"meta\": {},\n",
       "              \"expectation_type\": \"expect_column_values_to_be_between\",\n",
       "              \"kwargs\": {\n",
       "                \"column\": \"ctg_L50\",\n",
       "                \"max_value\": 600,\n",
       "                \"min_value\": 80,\n",
       "                \"result_format\": {\n",
       "                  \"result_format\": \"COMPLETE\"\n",
       "                },\n",
       "                \"batch_id\": \"e688278e3ee08b4f55445e802be9f557\"\n",
       "              }\n",
       "            },\n",
       "            \"result\": {\n",
       "              \"element_count\": 49,\n",
       "              \"unexpected_count\": 0,\n",
       "              \"unexpected_percent\": 0.0,\n",
       "              \"partial_unexpected_list\": [],\n",
       "              \"missing_count\": 0,\n",
       "              \"missing_percent\": 0.0,\n",
       "              \"unexpected_percent_total\": 0.0,\n",
       "              \"unexpected_percent_nonmissing\": 0.0,\n",
       "              \"partial_unexpected_index_list\": null,\n",
       "              \"partial_unexpected_counts\": []\n",
       "            }\n",
       "          },\n",
       "          {\n",
       "            \"meta\": {},\n",
       "            \"exception_info\": {\n",
       "              \"raised_exception\": false,\n",
       "              \"exception_traceback\": null,\n",
       "              \"exception_message\": null\n",
       "            },\n",
       "            \"success\": false,\n",
       "            \"expectation_config\": {\n",
       "              \"meta\": {},\n",
       "              \"expectation_type\": \"expect_column_values_to_be_between\",\n",
       "              \"kwargs\": {\n",
       "                \"column\": \"n_contigs\",\n",
       "                \"max_value\": 100,\n",
       "                \"min_value\": 90,\n",
       "                \"result_format\": {\n",
       "                  \"result_format\": \"COMPLETE\"\n",
       "                },\n",
       "                \"batch_id\": \"e688278e3ee08b4f55445e802be9f557\"\n",
       "              }\n",
       "            },\n",
       "            \"result\": {\n",
       "              \"element_count\": 49,\n",
       "              \"unexpected_count\": 5,\n",
       "              \"unexpected_percent\": 10.204081632653061,\n",
       "              \"partial_unexpected_list\": [\n",
       "                2,\n",
       "                34,\n",
       "                3,\n",
       "                7,\n",
       "                52\n",
       "              ],\n",
       "              \"missing_count\": 0,\n",
       "              \"missing_percent\": 0.0,\n",
       "              \"unexpected_percent_total\": 10.204081632653061,\n",
       "              \"unexpected_percent_nonmissing\": 10.204081632653061,\n",
       "              \"partial_unexpected_index_list\": null,\n",
       "              \"partial_unexpected_counts\": [\n",
       "                {\n",
       "                  \"value\": 2,\n",
       "                  \"count\": 1\n",
       "                },\n",
       "                {\n",
       "                  \"value\": 3,\n",
       "                  \"count\": 1\n",
       "                },\n",
       "                {\n",
       "                  \"value\": 7,\n",
       "                  \"count\": 1\n",
       "                },\n",
       "                {\n",
       "                  \"value\": 34,\n",
       "                  \"count\": 1\n",
       "                },\n",
       "                {\n",
       "                  \"value\": 52,\n",
       "                  \"count\": 1\n",
       "                }\n",
       "              ]\n",
       "            }\n",
       "          }\n",
       "        ]\n",
       "      },\n",
       "      \"actions_results\": {\n",
       "        \"store_validation_result\": {\n",
       "          \"class\": \"StoreValidationResultAction\"\n",
       "        },\n",
       "        \"store_evaluation_params\": {\n",
       "          \"class\": \"StoreEvaluationParametersAction\"\n",
       "        },\n",
       "        \"update_data_docs\": {\n",
       "          \"local_site\": \"file://c:\\\\Users\\\\dgg32\\\\Documents\\\\mgrast_ge\\\\great_expectations\\\\uncommitted/data_docs/local_site/validations\\\\seq_suite\\\\20220606-002226-check\\\\20220606T002226.462606Z\\\\e688278e3ee08b4f55445e802be9f557.html\",\n",
       "          \"class\": \"UpdateDataDocsAction\"\n",
       "        },\n",
       "        \"send_slack_notification_on_validation_result\": {\n",
       "          \"slack_notification_result\": \"Slack notification succeeded.\",\n",
       "          \"class\": \"SlackNotificationAction\"\n",
       "        }\n",
       "      }\n",
       "    }\n",
       "  },\n",
       "  \"checkpoint_config\": {\n",
       "    \"evaluation_parameters\": {},\n",
       "    \"slack_webhook\": null,\n",
       "    \"run_name_template\": \"%Y%m%d-%H%M%S-check\",\n",
       "    \"site_names\": null,\n",
       "    \"class_name\": \"Checkpoint\",\n",
       "    \"action_list\": [\n",
       "      {\n",
       "        \"name\": \"store_validation_result\",\n",
       "        \"action\": {\n",
       "          \"class_name\": \"StoreValidationResultAction\"\n",
       "        }\n",
       "      },\n",
       "      {\n",
       "        \"name\": \"store_evaluation_params\",\n",
       "        \"action\": {\n",
       "          \"class_name\": \"StoreEvaluationParametersAction\"\n",
       "        }\n",
       "      },\n",
       "      {\n",
       "        \"name\": \"update_data_docs\",\n",
       "        \"action\": {\n",
       "          \"class_name\": \"UpdateDataDocsAction\",\n",
       "          \"site_names\": []\n",
       "        }\n",
       "      }\n",
       "    ],\n",
       "    \"batch_request\": {},\n",
       "    \"profilers\": [],\n",
       "    \"module_name\": \"great_expectations.checkpoint\",\n",
       "    \"template_name\": null,\n",
       "    \"validations\": [\n",
       "      {\n",
       "        \"batch_request\": {\n",
       "          \"datasource_name\": \"seq_datasource\",\n",
       "          \"data_connector_name\": \"default_inferred_data_connector_name\",\n",
       "          \"data_asset_name\": \"seq_stats.tsv\",\n",
       "          \"batch_spec_passthrough\": {\n",
       "            \"reader_method\": \"read_csv\",\n",
       "            \"reader_options\": {\n",
       "              \"sep\": \"\\t\"\n",
       "            }\n",
       "          }\n",
       "        },\n",
       "        \"expectation_suite_name\": \"seq_suite\",\n",
       "        \"action_list\": [\n",
       "          {\n",
       "            \"name\": \"store_validation_result\",\n",
       "            \"action\": {\n",
       "              \"class_name\": \"StoreValidationResultAction\"\n",
       "            }\n",
       "          },\n",
       "          {\n",
       "            \"name\": \"update_data_docs\",\n",
       "            \"action\": {\n",
       "              \"class_name\": \"UpdateDataDocsAction\"\n",
       "            }\n",
       "          },\n",
       "          {\n",
       "            \"name\": \"send_slack_notification_on_validation_result\",\n",
       "            \"action\": {\n",
       "              \"class_name\": \"SlackNotificationAction\",\n",
       "              \"slack_webhook\": \"${validation_notification_slack_webhook}\",\n",
       "              \"notify_on\": \"failure\",\n",
       "              \"renderer\": {\n",
       "                \"module_name\": \"great_expectations.render.renderer.slack_renderer\",\n",
       "                \"class_name\": \"SlackRenderer\"\n",
       "              }\n",
       "            }\n",
       "          }\n",
       "        ]\n",
       "      }\n",
       "    ],\n",
       "    \"expectation_suite_ge_cloud_id\": null,\n",
       "    \"notify_on\": null,\n",
       "    \"runtime_configuration\": {},\n",
       "    \"notify_with\": null,\n",
       "    \"expectation_suite_name\": null,\n",
       "    \"ge_cloud_id\": null,\n",
       "    \"name\": \"seq_checkpoint\",\n",
       "    \"config_version\": 1.0\n",
       "  },\n",
       "  \"success\": false\n",
       "}"
      ]
     },
     "execution_count": 61,
     "metadata": {},
     "output_type": "execute_result"
    }
   ],
   "source": [
    "context_seq.run_checkpoint(checkpoint_name=my_checkpoint_name)"
   ]
  },
  {
   "cell_type": "code",
   "execution_count": 62,
   "metadata": {},
   "outputs": [],
   "source": [
    "context_seq.open_data_docs()"
   ]
  },
  {
   "cell_type": "markdown",
   "metadata": {},
   "source": [
    "Or run the checkpoint with the CLI"
   ]
  },
  {
   "cell_type": "code",
   "execution_count": 63,
   "metadata": {},
   "outputs": [
    {
     "name": "stdout",
     "output_type": "stream",
     "text": [
      "Using v3 (Batch Request) API\n",
      "Validation failed!\n",
      "\n",
      "Suite Name                                   Status     Expectations met\n",
      "- seq_suite                                  ✖ Failed   1 of 2 (50.0 %)\n"
     ]
    },
    {
     "name": "stderr",
     "output_type": "stream",
     "text": [
      "\n",
      "Calculating Metrics:   0%|          | 0/13 [00:00<?, ?it/s]\n",
      "Calculating Metrics:   0%|          | 0/13 [00:00<?, ?it/s]\n",
      "Calculating Metrics:  15%|█▌        | 2/13 [00:00<00:00, 2001.58it/s]\n",
      "Calculating Metrics:  23%|██▎       | 3/13 [00:00<00:00, 429.55it/s] \n",
      "Calculating Metrics:  54%|█████▍    | 7/13 [00:00<00:00, 412.83it/s]\n",
      "Calculating Metrics: 100%|██████████| 13/13 [00:00<00:00, 478.70it/s]\n",
      "Calculating Metrics: 100%|██████████| 13/13 [00:00<00:00, 417.39it/s]\n",
      "Calculating Metrics: 100%|██████████| 13/13 [00:00<00:00, 417.39it/s]\n"
     ]
    }
   ],
   "source": [
    "!great_expectations checkpoint run seq_checkpoint"
   ]
  },
  {
   "cell_type": "code",
   "execution_count": 64,
   "metadata": {},
   "outputs": [],
   "source": [
    "context_seq.open_data_docs()"
   ]
  },
  {
   "cell_type": "code",
   "execution_count": 65,
   "metadata": {},
   "outputs": [
    {
     "name": "stdout",
     "output_type": "stream",
     "text": [
      "n_contigs expect_column_values_to_be_between failed\n",
      "    n_contigs  contig_bp  gap_pct  ctg_N50  ctg_L50  ctg_N90  ctg_L90  \\\n",
      "23          2        180      0.0        2       90        2       90   \n",
      "26         34       3038      0.0       32       90       32       90   \n",
      "27          3        270      0.0        3       90        3       90   \n",
      "33          7        630      0.0        7       90        7       90   \n",
      "35         52       4667      0.0       51       90       51       90   \n",
      "\n",
      "    ctg_max   gc_avg   gc_std  \\\n",
      "23       90  0.56111  0.00550   \n",
      "26       90  0.55497  0.02717   \n",
      "27       90  0.55926  0.04477   \n",
      "33       90  0.57460  0.03022   \n",
      "35       90  0.54746  0.03373   \n",
      "\n",
      "                                             filename  \n",
      "23  /home/huangsixing/Documents/mgrast_ge/fasta/mg...  \n",
      "26  /home/huangsixing/Documents/mgrast_ge/fasta/mg...  \n",
      "27  /home/huangsixing/Documents/mgrast_ge/fasta/mg...  \n",
      "33  /home/huangsixing/Documents/mgrast_ge/fasta/mg...  \n",
      "35  /home/huangsixing/Documents/mgrast_ge/fasta/mg...  \n",
      "\n",
      "\n"
     ]
    }
   ],
   "source": [
    "ge_df = ge.read_csv('tsv/seq_stats.tsv', sep='\\t')\n",
    "\n",
    "result = ge_df.validate(suite, result_format=\"COMPLETE\")\n",
    "\n",
    "for i in range(len(result.results)):\n",
    "    r = result.results[i]\n",
    "    if r[\"success\"] == False:\n",
    "        column = r.expectation_config[\"kwargs\"][\"column\"]\n",
    "        expectation_type = r.expectation_config[\"expectation_type\"]\n",
    "        print (f\"{column} {expectation_type} failed\")\n",
    "        print (ge_df.iloc[r.result[\"unexpected_index_list\"]])\n",
    "        print (\"\\n\")"
   ]
  },
  {
   "cell_type": "code",
   "execution_count": null,
   "metadata": {},
   "outputs": [],
   "source": []
  }
 ],
 "metadata": {
  "interpreter": {
   "hash": "69f0464fb54a4f75761ba31cf8f44185dd66bf658d74f687b025e3b60455b02b"
  },
  "kernelspec": {
   "display_name": "Python 3.9.13 ('great_expectations')",
   "language": "python",
   "name": "python3"
  },
  "language_info": {
   "codemirror_mode": {
    "name": "ipython",
    "version": 3
   },
   "file_extension": ".py",
   "mimetype": "text/x-python",
   "name": "python",
   "nbconvert_exporter": "python",
   "pygments_lexer": "ipython3",
   "version": "3.9.13"
  },
  "orig_nbformat": 4
 },
 "nbformat": 4,
 "nbformat_minor": 2
}
