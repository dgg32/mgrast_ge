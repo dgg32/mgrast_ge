{
 "cells": [
  {
   "cell_type": "code",
   "execution_count": 523,
   "metadata": {},
   "outputs": [],
   "source": [
    "\n",
    "\n",
    "import great_expectations as ge\n",
    "from great_expectations import DataContext\n",
    "\n",
    "from great_expectations.core.expectation_configuration import ExpectationConfiguration\n",
    "from great_expectations.exceptions import DataContextError\n"
   ]
  },
  {
   "cell_type": "code",
   "execution_count": 524,
   "metadata": {},
   "outputs": [],
   "source": [
    "context: DataContext = ge.get_context()"
   ]
  },
  {
   "cell_type": "code",
   "execution_count": 525,
   "metadata": {},
   "outputs": [
    {
     "name": "stdout",
     "output_type": "stream",
     "text": [
      "Loaded ExpectationSuite \"metadata\" containing 6 expectations.\n"
     ]
    }
   ],
   "source": [
    "# Feel free to change the name of your suite here. Renaming this will not remove the other one.\n",
    "expectation_suite_name = \"metadata\"\n",
    "try:\n",
    "    suite = context.get_expectation_suite(expectation_suite_name=expectation_suite_name)\n",
    "    print(f'Loaded ExpectationSuite \"{suite.expectation_suite_name}\" containing {len(suite.expectations)} expectations.')\n",
    "except DataContextError:\n",
    "    suite = context.create_expectation_suite(expectation_suite_name=expectation_suite_name)\n",
    "    print(f'Created ExpectationSuite \"{suite.expectation_suite_name}\".')"
   ]
  },
  {
   "cell_type": "code",
   "execution_count": 526,
   "metadata": {},
   "outputs": [
    {
     "data": {
      "text/plain": [
       "{\"kwargs\": {\"column\": \"longitude\", \"min_value\": -180, \"max_value\": 180, \"result_format\": {\"result_format\": \"COMPLETE\"}}, \"expectation_type\": \"expect_column_values_to_be_between\", \"meta\": {}}"
      ]
     },
     "execution_count": 526,
     "metadata": {},
     "output_type": "execute_result"
    }
   ],
   "source": [
    "# Create an Expectation\n",
    "longitude_expectation = ExpectationConfiguration(\n",
    "   expectation_type=\"expect_column_values_to_be_between\",\n",
    "   kwargs={\n",
    "      \"column\": \"longitude\",\n",
    "      \"min_value\": -180, \"max_value\": 180, \n",
    "      \"result_format\": {'result_format': 'COMPLETE'}\n",
    "   },\n",
    "   # Note optional comments omitted\n",
    ")\n",
    "suite.add_expectation(expectation_configuration=longitude_expectation)"
   ]
  },
  {
   "cell_type": "code",
   "execution_count": 527,
   "metadata": {},
   "outputs": [
    {
     "data": {
      "text/plain": [
       "{\"kwargs\": {\"column\": \"latitude\", \"min_value\": -90, \"max_value\": 90, \"result_format\": {\"result_format\": \"COMPLETE\"}}, \"expectation_type\": \"expect_column_values_to_be_between\", \"meta\": {}}"
      ]
     },
     "execution_count": 527,
     "metadata": {},
     "output_type": "execute_result"
    }
   ],
   "source": [
    "# Create an Expectation\n",
    "latitude_expectation = ExpectationConfiguration(\n",
    "   expectation_type=\"expect_column_values_to_be_between\",\n",
    "   kwargs={\n",
    "      \"column\": \"latitude\",\n",
    "      \"min_value\": -90, \"max_value\": 90, \n",
    "      \"result_format\": {'result_format': 'COMPLETE'}\n",
    "   },\n",
    "   # Note optional comments omitted\n",
    ")\n",
    "suite.add_expectation(expectation_configuration=latitude_expectation)"
   ]
  },
  {
   "cell_type": "code",
   "execution_count": 528,
   "metadata": {},
   "outputs": [
    {
     "data": {
      "text/plain": [
       "{\"kwargs\": {\"column\": \"collection_time\", \"strftime_format\": \"%H:%M:%S\", \"result_format\": {\"result_format\": \"COMPLETE\"}}, \"expectation_type\": \"expect_column_values_to_match_strftime_format\", \"meta\": {}}"
      ]
     },
     "execution_count": 528,
     "metadata": {},
     "output_type": "execute_result"
    }
   ],
   "source": [
    "# Create an Expectation\n",
    "collection_time_expectation = ExpectationConfiguration(\n",
    "   expectation_type=\"expect_column_values_to_match_strftime_format\",\n",
    "   kwargs={\n",
    "      \"column\": \"collection_time\",\n",
    "      \"strftime_format\": \"%H:%M:%S\",\n",
    "      \"result_format\": {'result_format': 'COMPLETE'}\n",
    "   },\n",
    "   # Note optional comments omitted\n",
    ")\n",
    "suite.add_expectation(expectation_configuration=collection_time_expectation)"
   ]
  },
  {
   "cell_type": "code",
   "execution_count": 529,
   "metadata": {},
   "outputs": [
    {
     "data": {
      "text/plain": [
       "{\"kwargs\": {\"column\": \"material\", \"type_\": \"str\", \"result_format\": {\"result_format\": \"COMPLETE\"}}, \"expectation_type\": \"expect_column_values_to_be_of_type\", \"meta\": {}}"
      ]
     },
     "execution_count": 529,
     "metadata": {},
     "output_type": "execute_result"
    }
   ],
   "source": [
    "\n",
    "\n",
    "material_type_expectation = ExpectationConfiguration(\n",
    "   expectation_type=\"expect_column_values_to_be_of_type\",\n",
    "   kwargs={\n",
    "      \"column\": \"material\",\n",
    "      \"type_\": \"str\",\n",
    "      \"result_format\": {'result_format': 'COMPLETE'}\n",
    "   }\n",
    "   # Note optional comments omitted\n",
    ")\n",
    "suite.add_expectation(expectation_configuration=material_type_expectation)"
   ]
  },
  {
   "cell_type": "code",
   "execution_count": 530,
   "metadata": {},
   "outputs": [
    {
     "data": {
      "text/plain": [
       "{\"kwargs\": {\"column\": \"country\", \"type_\": \"str\", \"result_format\": {\"result_format\": \"COMPLETE\"}}, \"expectation_type\": \"expect_column_values_to_be_of_type\", \"meta\": {}}"
      ]
     },
     "execution_count": 530,
     "metadata": {},
     "output_type": "execute_result"
    }
   ],
   "source": [
    "country_type_expectation = ExpectationConfiguration(\n",
    "   expectation_type=\"expect_column_values_to_be_of_type\",\n",
    "   kwargs={\n",
    "      \"column\": \"country\",\n",
    "      \"type_\": \"str\",\n",
    "      \"result_format\": {'result_format': 'COMPLETE'}\n",
    "   }\n",
    "   # Note optional comments omitted\n",
    ")\n",
    "suite.add_expectation(expectation_configuration=country_type_expectation)"
   ]
  },
  {
   "cell_type": "code",
   "execution_count": 531,
   "metadata": {},
   "outputs": [
    {
     "data": {
      "text/plain": [
       "{\"kwargs\": {\"column\": \"feature\", \"type_\": \"str\", \"result_format\": {\"result_format\": \"COMPLETE\"}}, \"expectation_type\": \"expect_column_values_to_be_of_type\", \"meta\": {}}"
      ]
     },
     "execution_count": 531,
     "metadata": {},
     "output_type": "execute_result"
    }
   ],
   "source": [
    "feature_type_expectation = ExpectationConfiguration(\n",
    "   expectation_type=\"expect_column_values_to_be_of_type\",\n",
    "   kwargs={\n",
    "      \"column\": \"feature\",\n",
    "      \"type_\": \"str\",\n",
    "      \"result_format\": {'result_format': 'COMPLETE'}\n",
    "   }\n",
    "   # Note optional comments omitted\n",
    ")\n",
    "suite.add_expectation(expectation_configuration=feature_type_expectation)"
   ]
  },
  {
   "cell_type": "code",
   "execution_count": 532,
   "metadata": {},
   "outputs": [
    {
     "data": {
      "text/plain": [
       "'/Users/dgg32/Documents/mgrast_ge/great_expectations/expectations/metadata.json'"
      ]
     },
     "execution_count": 532,
     "metadata": {},
     "output_type": "execute_result"
    }
   ],
   "source": [
    "#print(context.get_expectation_suite(expectation_suite_name=expectation_suite_name))\n",
    "context.save_expectation_suite(expectation_suite=suite, expectation_suite_name=expectation_suite_name)\n",
    "\n",
    "#suite_identifier = ExpectationSuiteIdentifier(expectation_suite_name=expectation_suite_name)\n",
    "#context.build_data_docs(resource_identifiers=[suite_identifier])\n",
    "#context.open_data_docs(resource_identifier=suite_identifier)"
   ]
  },
  {
   "cell_type": "code",
   "execution_count": 533,
   "metadata": {},
   "outputs": [
    {
     "data": {
      "text/plain": [
       "[{'module_name': 'great_expectations.datasource', 'data_connectors': {'default_inferred_data_connector_name': {'module_name': 'great_expectations.datasource.data_connector', 'base_directory': '../tsv', 'class_name': 'InferredAssetFilesystemDataConnector', 'default_regex': {'group_names': ['data_asset_name'], 'pattern': '(.*)'}}, 'default_runtime_data_connector_name': {'batch_identifiers': ['default_identifier_name'], 'module_name': 'great_expectations.datasource.data_connector', 'class_name': 'RuntimeDataConnector'}}, 'class_name': 'Datasource', 'execution_engine': {'module_name': 'great_expectations.execution_engine', 'class_name': 'PandasExecutionEngine'}, 'name': 'metadata_datasource'}]"
      ]
     },
     "execution_count": 533,
     "metadata": {},
     "output_type": "execute_result"
    }
   ],
   "source": [
    "datasource_name = \"metadata_datasource\"\n",
    "\n",
    "data_folder = \"../tsv\"\n",
    "\n",
    "datasource_config = {\n",
    "    \"name\": f\"{datasource_name}\",\n",
    "    \"class_name\": \"Datasource\",\n",
    "    \"module_name\": \"great_expectations.datasource\",\n",
    "    \"execution_engine\": {\n",
    "        \"module_name\": \"great_expectations.execution_engine\",\n",
    "        \"class_name\": \"PandasExecutionEngine\",\n",
    "    },\n",
    "    \"data_connectors\": {\n",
    "        \"default_inferred_data_connector_name\": {\n",
    "            \"class_name\": \"InferredAssetFilesystemDataConnector\",\n",
    "            \"base_directory\": f\"{data_folder}\",\n",
    "            \"default_regex\": {\"group_names\": [\"data_asset_name\"], \"pattern\": \"(.*)\"},\n",
    "        },\n",
    "        \"default_runtime_data_connector_name\": {\n",
    "          \"class_name\": \"RuntimeDataConnector\",\n",
    "          \"batch_identifiers\": [\"default_identifier_name\"]\n",
    "          }\n",
    "    },\n",
    "}\n",
    "context.add_datasource(**datasource_config)\n",
    "\n",
    "context.list_datasources()"
   ]
  },
  {
   "cell_type": "code",
   "execution_count": 534,
   "metadata": {},
   "outputs": [],
   "source": [
    "my_checkpoint_name = \"metadata\" # This was populated from your CLI command.\n",
    "which_file_to_check = \"metadata.tsv\""
   ]
  },
  {
   "cell_type": "code",
   "execution_count": 535,
   "metadata": {},
   "outputs": [],
   "source": [
    "action_list = [\n",
    "    {'name': 'store_validation_result', 'action': {'class_name': 'StoreValidationResultAction'}}, \n",
    "    {'name': 'update_data_docs', 'action': {'class_name': 'UpdateDataDocsAction'}}, \n",
    "    {'name': 'send_slack_notification_on_validation_result', 'action': {'class_name': 'SlackNotificationAction', 'slack_webhook': '${validation_notification_slack_webhook}', 'notify_on': 'failure', 'renderer': {'module_name': 'great_expectations.render.renderer.slack_renderer', 'class_name': 'SlackRenderer'}}}\n",
    "    ]\n"
   ]
  },
  {
   "cell_type": "code",
   "execution_count": 536,
   "metadata": {},
   "outputs": [
    {
     "data": {
      "text/plain": [
       "{\n",
       "  \"action_list\": [\n",
       "    {\n",
       "      \"name\": \"store_validation_result\",\n",
       "      \"action\": {\n",
       "        \"class_name\": \"StoreValidationResultAction\"\n",
       "      }\n",
       "    },\n",
       "    {\n",
       "      \"name\": \"store_evaluation_params\",\n",
       "      \"action\": {\n",
       "        \"class_name\": \"StoreEvaluationParametersAction\"\n",
       "      }\n",
       "    },\n",
       "    {\n",
       "      \"name\": \"update_data_docs\",\n",
       "      \"action\": {\n",
       "        \"class_name\": \"UpdateDataDocsAction\",\n",
       "        \"site_names\": []\n",
       "      }\n",
       "    }\n",
       "  ],\n",
       "  \"batch_request\": {},\n",
       "  \"class_name\": \"Checkpoint\",\n",
       "  \"config_version\": 1.0,\n",
       "  \"evaluation_parameters\": {},\n",
       "  \"module_name\": \"great_expectations.checkpoint\",\n",
       "  \"name\": \"metadata\",\n",
       "  \"profilers\": [],\n",
       "  \"run_name_template\": \"%Y%m%d-%H%M%S-check\",\n",
       "  \"runtime_configuration\": {},\n",
       "  \"validations\": [\n",
       "    {\n",
       "      \"batch_request\": {\n",
       "        \"datasource_name\": \"metadata_datasource\",\n",
       "        \"data_connector_name\": \"default_inferred_data_connector_name\",\n",
       "        \"data_asset_name\": \"metadata.tsv\",\n",
       "        \"batch_spec_passthrough\": {\n",
       "          \"reader_method\": \"read_csv\",\n",
       "          \"reader_options\": {\n",
       "            \"sep\": \"\\t\"\n",
       "          }\n",
       "        }\n",
       "      },\n",
       "      \"expectation_suite_name\": \"metadata\",\n",
       "      \"action_list\": [\n",
       "        {\n",
       "          \"name\": \"store_validation_result\",\n",
       "          \"action\": {\n",
       "            \"class_name\": \"StoreValidationResultAction\"\n",
       "          }\n",
       "        },\n",
       "        {\n",
       "          \"name\": \"update_data_docs\",\n",
       "          \"action\": {\n",
       "            \"class_name\": \"UpdateDataDocsAction\"\n",
       "          }\n",
       "        },\n",
       "        {\n",
       "          \"name\": \"send_slack_notification_on_validation_result\",\n",
       "          \"action\": {\n",
       "            \"class_name\": \"SlackNotificationAction\",\n",
       "            \"slack_webhook\": \"${validation_notification_slack_webhook}\",\n",
       "            \"notify_on\": \"failure\",\n",
       "            \"renderer\": {\n",
       "              \"module_name\": \"great_expectations.render.renderer.slack_renderer\",\n",
       "              \"class_name\": \"SlackRenderer\"\n",
       "            }\n",
       "          }\n",
       "        }\n",
       "      ]\n",
       "    }\n",
       "  ]\n",
       "}"
      ]
     },
     "execution_count": 536,
     "metadata": {},
     "output_type": "execute_result"
    }
   ],
   "source": [
    "\n",
    "\n",
    "\n",
    "checkpoint_config = {\n",
    "    \"name\": f\"{my_checkpoint_name}\",\n",
    "    \"config_version\": 1,\n",
    "    \"class_name\": \"SimpleCheckpoint\",\n",
    "    \"run_name_template\": \"%Y%m%d-%H%M%S-check\",\n",
    "    \"validations\": [\n",
    "        {\n",
    "            \"batch_request\": {\n",
    "                \"datasource_name\": f\"{datasource_name}\",\n",
    "                \"data_connector_name\": \"default_inferred_data_connector_name\",\n",
    "                \"data_asset_name\": f\"{which_file_to_check}\",\n",
    "                \"batch_spec_passthrough\": {\n",
    "                    \"reader_method\": \"read_csv\",\n",
    "                    \"reader_options\": {\"sep\": \"\\t\"}\n",
    "                }\n",
    "            },\n",
    "            \"expectation_suite_name\": f\"{expectation_suite_name}\",\n",
    "            \"action_list\": action_list\n",
    "        }\n",
    "    ],\n",
    "}\n",
    "context.add_checkpoint(**checkpoint_config)"
   ]
  },
  {
   "cell_type": "code",
   "execution_count": 537,
   "metadata": {},
   "outputs": [],
   "source": [
    "#print(context.get_available_data_asset_names())"
   ]
  },
  {
   "cell_type": "code",
   "execution_count": 538,
   "metadata": {},
   "outputs": [
    {
     "data": {
      "application/vnd.jupyter.widget-view+json": {
       "model_id": "7bfbd645de554409816c769be4c0164c",
       "version_major": 2,
       "version_minor": 0
      },
      "text/plain": [
       "Calculating Metrics:   0%|          | 0/33 [00:00<?, ?it/s]"
      ]
     },
     "metadata": {},
     "output_type": "display_data"
    },
    {
     "data": {
      "text/plain": [
       "{\n",
       "  \"run_id\": {\n",
       "    \"run_name\": \"20220604-185805-check\",\n",
       "    \"run_time\": \"2022-06-04T18:58:05.557761+00:00\"\n",
       "  },\n",
       "  \"run_results\": {\n",
       "    \"ValidationResultIdentifier::metadata/20220604-185805-check/20220604T185805.557761Z/1783362dcd1dbf06044288ecf6a2a7eb\": {\n",
       "      \"validation_result\": {\n",
       "        \"results\": [\n",
       "          {\n",
       "            \"exception_info\": {\n",
       "              \"raised_exception\": false,\n",
       "              \"exception_traceback\": null,\n",
       "              \"exception_message\": null\n",
       "            },\n",
       "            \"meta\": {},\n",
       "            \"success\": true,\n",
       "            \"result\": {\n",
       "              \"element_count\": 49,\n",
       "              \"unexpected_count\": 0,\n",
       "              \"unexpected_percent\": 0.0,\n",
       "              \"partial_unexpected_list\": [],\n",
       "              \"missing_count\": 0,\n",
       "              \"missing_percent\": 0.0,\n",
       "              \"unexpected_percent_total\": 0.0,\n",
       "              \"unexpected_percent_nonmissing\": 0.0,\n",
       "              \"partial_unexpected_index_list\": null,\n",
       "              \"partial_unexpected_counts\": []\n",
       "            },\n",
       "            \"expectation_config\": {\n",
       "              \"kwargs\": {\n",
       "                \"column\": \"longitude\",\n",
       "                \"max_value\": 180,\n",
       "                \"min_value\": -180,\n",
       "                \"result_format\": {\n",
       "                  \"result_format\": \"COMPLETE\"\n",
       "                },\n",
       "                \"batch_id\": \"1783362dcd1dbf06044288ecf6a2a7eb\"\n",
       "              },\n",
       "              \"expectation_type\": \"expect_column_values_to_be_between\",\n",
       "              \"meta\": {}\n",
       "            }\n",
       "          },\n",
       "          {\n",
       "            \"exception_info\": {\n",
       "              \"raised_exception\": false,\n",
       "              \"exception_traceback\": null,\n",
       "              \"exception_message\": null\n",
       "            },\n",
       "            \"meta\": {},\n",
       "            \"success\": false,\n",
       "            \"result\": {\n",
       "              \"element_count\": 49,\n",
       "              \"unexpected_count\": 1,\n",
       "              \"unexpected_percent\": 2.0408163265306123,\n",
       "              \"partial_unexpected_list\": [\n",
       "                -151.82739\n",
       "              ],\n",
       "              \"missing_count\": 0,\n",
       "              \"missing_percent\": 0.0,\n",
       "              \"unexpected_percent_total\": 2.0408163265306123,\n",
       "              \"unexpected_percent_nonmissing\": 2.0408163265306123,\n",
       "              \"partial_unexpected_index_list\": null,\n",
       "              \"partial_unexpected_counts\": [\n",
       "                {\n",
       "                  \"value\": -151.82739,\n",
       "                  \"count\": 1\n",
       "                }\n",
       "              ]\n",
       "            },\n",
       "            \"expectation_config\": {\n",
       "              \"kwargs\": {\n",
       "                \"column\": \"latitude\",\n",
       "                \"max_value\": 90,\n",
       "                \"min_value\": -90,\n",
       "                \"result_format\": {\n",
       "                  \"result_format\": \"COMPLETE\"\n",
       "                },\n",
       "                \"batch_id\": \"1783362dcd1dbf06044288ecf6a2a7eb\"\n",
       "              },\n",
       "              \"expectation_type\": \"expect_column_values_to_be_between\",\n",
       "              \"meta\": {}\n",
       "            }\n",
       "          },\n",
       "          {\n",
       "            \"exception_info\": {\n",
       "              \"raised_exception\": false,\n",
       "              \"exception_traceback\": null,\n",
       "              \"exception_message\": null\n",
       "            },\n",
       "            \"meta\": {},\n",
       "            \"success\": true,\n",
       "            \"result\": {\n",
       "              \"element_count\": 49,\n",
       "              \"unexpected_count\": 0,\n",
       "              \"unexpected_percent\": 0.0,\n",
       "              \"partial_unexpected_list\": [],\n",
       "              \"missing_count\": 0,\n",
       "              \"missing_percent\": 0.0,\n",
       "              \"unexpected_percent_total\": 0.0,\n",
       "              \"unexpected_percent_nonmissing\": 0.0,\n",
       "              \"partial_unexpected_index_list\": null,\n",
       "              \"partial_unexpected_counts\": []\n",
       "            },\n",
       "            \"expectation_config\": {\n",
       "              \"kwargs\": {\n",
       "                \"column\": \"collection_time\",\n",
       "                \"result_format\": {\n",
       "                  \"result_format\": \"COMPLETE\"\n",
       "                },\n",
       "                \"strftime_format\": \"%H:%M:%S\",\n",
       "                \"batch_id\": \"1783362dcd1dbf06044288ecf6a2a7eb\"\n",
       "              },\n",
       "              \"expectation_type\": \"expect_column_values_to_match_strftime_format\",\n",
       "              \"meta\": {}\n",
       "            }\n",
       "          },\n",
       "          {\n",
       "            \"exception_info\": {\n",
       "              \"raised_exception\": false,\n",
       "              \"exception_traceback\": null,\n",
       "              \"exception_message\": null\n",
       "            },\n",
       "            \"meta\": {},\n",
       "            \"success\": true,\n",
       "            \"result\": {\n",
       "              \"element_count\": 49,\n",
       "              \"unexpected_count\": 0,\n",
       "              \"unexpected_percent\": 0.0,\n",
       "              \"partial_unexpected_list\": [],\n",
       "              \"missing_count\": 0,\n",
       "              \"missing_percent\": 0.0,\n",
       "              \"unexpected_percent_total\": 0.0,\n",
       "              \"unexpected_percent_nonmissing\": 0.0,\n",
       "              \"partial_unexpected_index_list\": null,\n",
       "              \"partial_unexpected_counts\": []\n",
       "            },\n",
       "            \"expectation_config\": {\n",
       "              \"kwargs\": {\n",
       "                \"column\": \"material\",\n",
       "                \"result_format\": {\n",
       "                  \"result_format\": \"COMPLETE\"\n",
       "                },\n",
       "                \"type_\": \"str\",\n",
       "                \"batch_id\": \"1783362dcd1dbf06044288ecf6a2a7eb\"\n",
       "              },\n",
       "              \"expectation_type\": \"expect_column_values_to_be_of_type\",\n",
       "              \"meta\": {}\n",
       "            }\n",
       "          },\n",
       "          {\n",
       "            \"exception_info\": {\n",
       "              \"raised_exception\": false,\n",
       "              \"exception_traceback\": null,\n",
       "              \"exception_message\": null\n",
       "            },\n",
       "            \"meta\": {},\n",
       "            \"success\": true,\n",
       "            \"result\": {\n",
       "              \"element_count\": 49,\n",
       "              \"unexpected_count\": 0,\n",
       "              \"unexpected_percent\": 0.0,\n",
       "              \"partial_unexpected_list\": [],\n",
       "              \"missing_count\": 0,\n",
       "              \"missing_percent\": 0.0,\n",
       "              \"unexpected_percent_total\": 0.0,\n",
       "              \"unexpected_percent_nonmissing\": 0.0,\n",
       "              \"partial_unexpected_index_list\": null,\n",
       "              \"partial_unexpected_counts\": []\n",
       "            },\n",
       "            \"expectation_config\": {\n",
       "              \"kwargs\": {\n",
       "                \"column\": \"country\",\n",
       "                \"result_format\": {\n",
       "                  \"result_format\": \"COMPLETE\"\n",
       "                },\n",
       "                \"type_\": \"str\",\n",
       "                \"batch_id\": \"1783362dcd1dbf06044288ecf6a2a7eb\"\n",
       "              },\n",
       "              \"expectation_type\": \"expect_column_values_to_be_of_type\",\n",
       "              \"meta\": {}\n",
       "            }\n",
       "          },\n",
       "          {\n",
       "            \"exception_info\": {\n",
       "              \"raised_exception\": false,\n",
       "              \"exception_traceback\": null,\n",
       "              \"exception_message\": null\n",
       "            },\n",
       "            \"meta\": {},\n",
       "            \"success\": true,\n",
       "            \"result\": {\n",
       "              \"element_count\": 49,\n",
       "              \"unexpected_count\": 0,\n",
       "              \"unexpected_percent\": 0.0,\n",
       "              \"partial_unexpected_list\": [],\n",
       "              \"missing_count\": 0,\n",
       "              \"missing_percent\": 0.0,\n",
       "              \"unexpected_percent_total\": 0.0,\n",
       "              \"unexpected_percent_nonmissing\": 0.0,\n",
       "              \"partial_unexpected_index_list\": null,\n",
       "              \"partial_unexpected_counts\": []\n",
       "            },\n",
       "            \"expectation_config\": {\n",
       "              \"kwargs\": {\n",
       "                \"column\": \"feature\",\n",
       "                \"result_format\": {\n",
       "                  \"result_format\": \"COMPLETE\"\n",
       "                },\n",
       "                \"type_\": \"str\",\n",
       "                \"batch_id\": \"1783362dcd1dbf06044288ecf6a2a7eb\"\n",
       "              },\n",
       "              \"expectation_type\": \"expect_column_values_to_be_of_type\",\n",
       "              \"meta\": {}\n",
       "            }\n",
       "          }\n",
       "        ],\n",
       "        \"meta\": {\n",
       "          \"great_expectations_version\": \"0.15.8\",\n",
       "          \"expectation_suite_name\": \"metadata\",\n",
       "          \"run_id\": {\n",
       "            \"run_name\": \"20220604-185805-check\",\n",
       "            \"run_time\": \"2022-06-04T18:58:05.557761+00:00\"\n",
       "          },\n",
       "          \"batch_spec\": {\n",
       "            \"path\": \"/Users/dgg32/Documents/mgrast_ge/great_expectations/../tsv/metadata.tsv\",\n",
       "            \"reader_method\": \"read_csv\",\n",
       "            \"reader_options\": {\n",
       "              \"sep\": \"\\t\"\n",
       "            }\n",
       "          },\n",
       "          \"batch_markers\": {\n",
       "            \"ge_load_time\": \"20220604T105805.584251Z\",\n",
       "            \"pandas_data_fingerprint\": \"580f7793d8e0516d3daf146ff3bbaacc\"\n",
       "          },\n",
       "          \"active_batch_definition\": {\n",
       "            \"datasource_name\": \"metadata_datasource\",\n",
       "            \"data_connector_name\": \"default_inferred_data_connector_name\",\n",
       "            \"data_asset_name\": \"metadata.tsv\",\n",
       "            \"batch_identifiers\": {}\n",
       "          },\n",
       "          \"validation_time\": \"20220604T105805.653945Z\"\n",
       "        },\n",
       "        \"evaluation_parameters\": {},\n",
       "        \"success\": false,\n",
       "        \"statistics\": {\n",
       "          \"evaluated_expectations\": 6,\n",
       "          \"successful_expectations\": 5,\n",
       "          \"unsuccessful_expectations\": 1,\n",
       "          \"success_percent\": 83.33333333333334\n",
       "        }\n",
       "      },\n",
       "      \"actions_results\": {\n",
       "        \"store_validation_result\": {\n",
       "          \"class\": \"StoreValidationResultAction\"\n",
       "        },\n",
       "        \"store_evaluation_params\": {\n",
       "          \"class\": \"StoreEvaluationParametersAction\"\n",
       "        },\n",
       "        \"update_data_docs\": {\n",
       "          \"local_site\": \"file:///Users/dgg32/Documents/mgrast_ge/great_expectations/uncommitted/data_docs/local_site/validations/metadata/20220604-185805-check/20220604T185805.557761Z/1783362dcd1dbf06044288ecf6a2a7eb.html\",\n",
       "          \"class\": \"UpdateDataDocsAction\"\n",
       "        },\n",
       "        \"send_slack_notification_on_validation_result\": {\n",
       "          \"slack_notification_result\": \"Slack notification succeeded.\",\n",
       "          \"class\": \"SlackNotificationAction\"\n",
       "        }\n",
       "      }\n",
       "    }\n",
       "  },\n",
       "  \"checkpoint_config\": {\n",
       "    \"notify_on\": null,\n",
       "    \"action_list\": [\n",
       "      {\n",
       "        \"name\": \"store_validation_result\",\n",
       "        \"action\": {\n",
       "          \"class_name\": \"StoreValidationResultAction\"\n",
       "        }\n",
       "      },\n",
       "      {\n",
       "        \"name\": \"store_evaluation_params\",\n",
       "        \"action\": {\n",
       "          \"class_name\": \"StoreEvaluationParametersAction\"\n",
       "        }\n",
       "      },\n",
       "      {\n",
       "        \"name\": \"update_data_docs\",\n",
       "        \"action\": {\n",
       "          \"class_name\": \"UpdateDataDocsAction\",\n",
       "          \"site_names\": []\n",
       "        }\n",
       "      }\n",
       "    ],\n",
       "    \"runtime_configuration\": {},\n",
       "    \"config_version\": 1.0,\n",
       "    \"template_name\": null,\n",
       "    \"slack_webhook\": null,\n",
       "    \"module_name\": \"great_expectations.checkpoint\",\n",
       "    \"profilers\": [],\n",
       "    \"name\": \"metadata\",\n",
       "    \"batch_request\": {},\n",
       "    \"expectation_suite_ge_cloud_id\": null,\n",
       "    \"ge_cloud_id\": null,\n",
       "    \"expectation_suite_name\": null,\n",
       "    \"notify_with\": null,\n",
       "    \"class_name\": \"Checkpoint\",\n",
       "    \"site_names\": null,\n",
       "    \"validations\": [\n",
       "      {\n",
       "        \"batch_request\": {\n",
       "          \"datasource_name\": \"metadata_datasource\",\n",
       "          \"data_connector_name\": \"default_inferred_data_connector_name\",\n",
       "          \"data_asset_name\": \"metadata.tsv\",\n",
       "          \"batch_spec_passthrough\": {\n",
       "            \"reader_method\": \"read_csv\",\n",
       "            \"reader_options\": {\n",
       "              \"sep\": \"\\t\"\n",
       "            }\n",
       "          }\n",
       "        },\n",
       "        \"expectation_suite_name\": \"metadata\",\n",
       "        \"action_list\": [\n",
       "          {\n",
       "            \"name\": \"store_validation_result\",\n",
       "            \"action\": {\n",
       "              \"class_name\": \"StoreValidationResultAction\"\n",
       "            }\n",
       "          },\n",
       "          {\n",
       "            \"name\": \"update_data_docs\",\n",
       "            \"action\": {\n",
       "              \"class_name\": \"UpdateDataDocsAction\"\n",
       "            }\n",
       "          },\n",
       "          {\n",
       "            \"name\": \"send_slack_notification_on_validation_result\",\n",
       "            \"action\": {\n",
       "              \"class_name\": \"SlackNotificationAction\",\n",
       "              \"slack_webhook\": \"${validation_notification_slack_webhook}\",\n",
       "              \"notify_on\": \"failure\",\n",
       "              \"renderer\": {\n",
       "                \"module_name\": \"great_expectations.render.renderer.slack_renderer\",\n",
       "                \"class_name\": \"SlackRenderer\"\n",
       "              }\n",
       "            }\n",
       "          }\n",
       "        ]\n",
       "      }\n",
       "    ],\n",
       "    \"evaluation_parameters\": {},\n",
       "    \"run_name_template\": \"%Y%m%d-%H%M%S-check\"\n",
       "  },\n",
       "  \"success\": false\n",
       "}"
      ]
     },
     "execution_count": 538,
     "metadata": {},
     "output_type": "execute_result"
    }
   ],
   "source": [
    "context.run_checkpoint(checkpoint_name=my_checkpoint_name)"
   ]
  },
  {
   "cell_type": "code",
   "execution_count": 539,
   "metadata": {},
   "outputs": [],
   "source": [
    "context.open_data_docs()"
   ]
  },
  {
   "cell_type": "code",
   "execution_count": 540,
   "metadata": {},
   "outputs": [
    {
     "name": "stdout",
     "output_type": "stream",
     "text": [
      "Using v3 (Batch Request) API\n",
      "Calculating Metrics: 100%|█████████████████████| 33/33 [00:00<00:00, 466.81it/s]\n",
      "Validation failed!\n",
      "\n",
      "Suite Name                                   Status     Expectations met\n",
      "- metadata                                   ✖ Failed   5 of 6 (83.33 %)\n"
     ]
    }
   ],
   "source": [
    "!great_expectations checkpoint run metadata"
   ]
  },
  {
   "cell_type": "code",
   "execution_count": 541,
   "metadata": {},
   "outputs": [],
   "source": [
    "ge_df = ge.read_csv('tsv/metadata.tsv', sep='\\t')"
   ]
  },
  {
   "cell_type": "code",
   "execution_count": 542,
   "metadata": {},
   "outputs": [],
   "source": [
    "result = ge_df.validate(suite, result_format=\"COMPLETE\")"
   ]
  },
  {
   "cell_type": "code",
   "execution_count": 543,
   "metadata": {},
   "outputs": [
    {
     "name": "stdout",
     "output_type": "stream",
     "text": [
      "latitude expect_column_values_to_be_between failed\n",
      "       sample   latitude  longitude       location   country collection_time  \\\n",
      "48  mgs192740 -151.82739  -11.41924  Pacific Ocean  Kiribati        10:00:00   \n",
      "\n",
      "   material     feature metagenome_id  \n",
      "48    water  coral reef  mgm4466596.3  \n",
      "\n",
      "\n"
     ]
    }
   ],
   "source": [
    "for i in range(len(result.results)):\n",
    "    r = result.results[i]\n",
    "    if r[\"success\"] == False:\n",
    "        column = r.expectation_config[\"kwargs\"][\"column\"]\n",
    "        expectation_type = r.expectation_config[\"expectation_type\"]\n",
    "        print (f\"{column} {expectation_type} failed\")\n",
    "        print (ge_df.iloc[r.result[\"unexpected_index_list\"]])\n",
    "        print (\"\\n\")"
   ]
  },
  {
   "cell_type": "code",
   "execution_count": null,
   "metadata": {},
   "outputs": [],
   "source": []
  }
 ],
 "metadata": {
  "interpreter": {
   "hash": "e3ed4d4077dbf72b3d79f80ad74210101895470b04c1c08424820cc30a48b133"
  },
  "kernelspec": {
   "display_name": "Python 3.9.13 ('ge')",
   "language": "python",
   "name": "python3"
  },
  "language_info": {
   "codemirror_mode": {
    "name": "ipython",
    "version": 3
   },
   "file_extension": ".py",
   "mimetype": "text/x-python",
   "name": "python",
   "nbconvert_exporter": "python",
   "pygments_lexer": "ipython3",
   "version": "3.9.13"
  },
  "orig_nbformat": 4
 },
 "nbformat": 4,
 "nbformat_minor": 2
}
