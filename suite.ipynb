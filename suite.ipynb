{
 "cells": [
  {
   "cell_type": "code",
   "execution_count": 793,
   "metadata": {},
   "outputs": [],
   "source": [
    "\n",
    "\n",
    "import great_expectations as ge\n",
    "from great_expectations import DataContext\n",
    "\n",
    "from great_expectations.core.expectation_configuration import ExpectationConfiguration\n",
    "from great_expectations.exceptions import DataContextError\n"
   ]
  },
  {
   "cell_type": "code",
   "execution_count": 794,
   "metadata": {},
   "outputs": [],
   "source": [
    "context_metadata: DataContext = ge.get_context()"
   ]
  },
  {
   "cell_type": "code",
   "execution_count": 795,
   "metadata": {},
   "outputs": [
    {
     "data": {
      "text/plain": [
       "[{'module_name': 'great_expectations.datasource', 'data_connectors': {'default_inferred_data_connector_name': {'module_name': 'great_expectations.datasource.data_connector', 'base_directory': '../tsv', 'class_name': 'InferredAssetFilesystemDataConnector', 'default_regex': {'group_names': ['data_asset_name'], 'pattern': '(.*\\\\.tsv)'}}}, 'class_name': 'Datasource', 'execution_engine': {'module_name': 'great_expectations.execution_engine', 'class_name': 'PandasExecutionEngine'}, 'name': 'metadata_datasource'}]"
      ]
     },
     "execution_count": 795,
     "metadata": {},
     "output_type": "execute_result"
    }
   ],
   "source": [
    "datasource_name = \"metadata_datasource\"\n",
    "\n",
    "data_folder = \"../tsv\"\n",
    "\n",
    "datasource_config = {\n",
    "    \"name\": f\"{datasource_name}\",\n",
    "    \"class_name\": \"Datasource\",\n",
    "    \"module_name\": \"great_expectations.datasource\",\n",
    "    \"execution_engine\": {\n",
    "        \"module_name\": \"great_expectations.execution_engine\",\n",
    "        \"class_name\": \"PandasExecutionEngine\",\n",
    "    },\n",
    "    \"data_connectors\": {\n",
    "        \"default_inferred_data_connector_name\": {\n",
    "            \"class_name\": \"InferredAssetFilesystemDataConnector\",\n",
    "            \"base_directory\": f\"{data_folder}\",\n",
    "            \"default_regex\": {\"group_names\": [\"data_asset_name\"], \"pattern\": \"(.*\\.tsv)\"},\n",
    "        }\n",
    "    }\n",
    "}\n",
    "context_metadata.add_datasource(**datasource_config)\n",
    "\n",
    "context_metadata.list_datasources()"
   ]
  },
  {
   "cell_type": "code",
   "execution_count": 796,
   "metadata": {},
   "outputs": [
    {
     "name": "stdout",
     "output_type": "stream",
     "text": [
      "Created ExpectationSuite \"metadata_suite\".\n"
     ]
    }
   ],
   "source": [
    "# Feel free to change the name of your suite here. Renaming this will not remove the other one.\n",
    "expectation_suite_name = \"metadata_suite\"\n",
    "try:\n",
    "    suite = context_metadata.get_expectation_suite(expectation_suite_name=expectation_suite_name)\n",
    "    print(f'Loaded ExpectationSuite \"{suite.expectation_suite_name}\" containing {len(suite.expectations)} expectations.')\n",
    "except DataContextError:\n",
    "    suite = context_metadata.create_expectation_suite(expectation_suite_name=expectation_suite_name)\n",
    "    print(f'Created ExpectationSuite \"{suite.expectation_suite_name}\".')"
   ]
  },
  {
   "cell_type": "code",
   "execution_count": 797,
   "metadata": {},
   "outputs": [
    {
     "data": {
      "text/plain": [
       "{\"kwargs\": {\"column\": \"longitude\", \"min_value\": -180, \"max_value\": 180, \"result_format\": {\"result_format\": \"COMPLETE\"}}, \"expectation_type\": \"expect_column_values_to_be_between\", \"meta\": {}}"
      ]
     },
     "execution_count": 797,
     "metadata": {},
     "output_type": "execute_result"
    }
   ],
   "source": [
    "# Create an Expectation\n",
    "longitude_expectation = ExpectationConfiguration(\n",
    "   expectation_type=\"expect_column_values_to_be_between\",\n",
    "   kwargs={\n",
    "      \"column\": \"longitude\",\n",
    "      \"min_value\": -180, \"max_value\": 180, \n",
    "      \"result_format\": {'result_format': 'COMPLETE'}\n",
    "   }\n",
    ")\n",
    "suite.add_expectation(expectation_configuration=longitude_expectation)"
   ]
  },
  {
   "cell_type": "code",
   "execution_count": 798,
   "metadata": {},
   "outputs": [
    {
     "data": {
      "text/plain": [
       "{\"kwargs\": {\"column\": \"latitude\", \"min_value\": -90, \"max_value\": 90, \"result_format\": {\"result_format\": \"COMPLETE\"}}, \"expectation_type\": \"expect_column_values_to_be_between\", \"meta\": {}}"
      ]
     },
     "execution_count": 798,
     "metadata": {},
     "output_type": "execute_result"
    }
   ],
   "source": [
    "# Create an Expectation\n",
    "latitude_expectation = ExpectationConfiguration(\n",
    "   expectation_type=\"expect_column_values_to_be_between\",\n",
    "   kwargs={\n",
    "      \"column\": \"latitude\",\n",
    "      \"min_value\": -90, \"max_value\": 90, \n",
    "      \"result_format\": {'result_format': 'COMPLETE'}\n",
    "   },\n",
    "   # Note optional comments omitted\n",
    ")\n",
    "suite.add_expectation(expectation_configuration=latitude_expectation)"
   ]
  },
  {
   "cell_type": "code",
   "execution_count": 799,
   "metadata": {},
   "outputs": [
    {
     "data": {
      "text/plain": [
       "{\"kwargs\": {\"column\": \"collection_time\", \"strftime_format\": \"%Y-%m-%d\", \"result_format\": {\"result_format\": \"COMPLETE\"}}, \"expectation_type\": \"expect_column_values_to_match_strftime_format\", \"meta\": {}}"
      ]
     },
     "execution_count": 799,
     "metadata": {},
     "output_type": "execute_result"
    }
   ],
   "source": [
    "# Create an Expectation\n",
    "collection_date_expectation = ExpectationConfiguration(\n",
    "   expectation_type=\"expect_column_values_to_match_strftime_format\",\n",
    "   kwargs={\n",
    "      \"column\": \"collection_date\",\n",
    "      \"strftime_format\": \"%Y-%m-%d\",\n",
    "      \"result_format\": {'result_format': 'COMPLETE'}\n",
    "   },\n",
    "   # Note optional comments omitted\n",
    ")\n",
    "suite.add_expectation(expectation_configuration=collection_date_expectation)"
   ]
  },
  {
   "cell_type": "code",
   "execution_count": 800,
   "metadata": {},
   "outputs": [
    {
     "data": {
      "text/plain": [
       "{\"kwargs\": {\"column\": \"collection_time\", \"strftime_format\": \"%H:%M:%S\", \"result_format\": {\"result_format\": \"COMPLETE\"}}, \"expectation_type\": \"expect_column_values_to_match_strftime_format\", \"meta\": {}}"
      ]
     },
     "execution_count": 800,
     "metadata": {},
     "output_type": "execute_result"
    }
   ],
   "source": [
    "# Create an Expectation\n",
    "collection_time_expectation = ExpectationConfiguration(\n",
    "   expectation_type=\"expect_column_values_to_match_strftime_format\",\n",
    "   kwargs={\n",
    "      \"column\": \"collection_time\",\n",
    "      \"strftime_format\": \"%H:%M:%S\",\n",
    "      \"result_format\": {'result_format': 'COMPLETE'}\n",
    "   },\n",
    "   # Note optional comments omitted\n",
    ")\n",
    "suite.add_expectation(expectation_configuration=collection_time_expectation)"
   ]
  },
  {
   "cell_type": "code",
   "execution_count": 801,
   "metadata": {},
   "outputs": [
    {
     "data": {
      "text/plain": [
       "{\"kwargs\": {\"column\": \"material\", \"type_\": \"str\", \"result_format\": {\"result_format\": \"COMPLETE\"}}, \"expectation_type\": \"expect_column_values_to_be_of_type\", \"meta\": {}}"
      ]
     },
     "execution_count": 801,
     "metadata": {},
     "output_type": "execute_result"
    }
   ],
   "source": [
    "\n",
    "\n",
    "material_type_expectation = ExpectationConfiguration(\n",
    "   expectation_type=\"expect_column_values_to_be_of_type\",\n",
    "   kwargs={\n",
    "      \"column\": \"material\",\n",
    "      \"type_\": \"str\",\n",
    "      \"result_format\": {'result_format': 'COMPLETE'}\n",
    "   }\n",
    "   # Note optional comments omitted\n",
    ")\n",
    "suite.add_expectation(expectation_configuration=material_type_expectation)"
   ]
  },
  {
   "cell_type": "code",
   "execution_count": 802,
   "metadata": {},
   "outputs": [
    {
     "data": {
      "text/plain": [
       "{\"kwargs\": {\"column\": \"country\", \"type_\": \"str\", \"result_format\": {\"result_format\": \"COMPLETE\"}}, \"expectation_type\": \"expect_column_values_to_be_of_type\", \"meta\": {}}"
      ]
     },
     "execution_count": 802,
     "metadata": {},
     "output_type": "execute_result"
    }
   ],
   "source": [
    "country_type_expectation = ExpectationConfiguration(\n",
    "   expectation_type=\"expect_column_values_to_be_of_type\",\n",
    "   kwargs={\n",
    "      \"column\": \"country\",\n",
    "      \"type_\": \"str\",\n",
    "      \"result_format\": {'result_format': 'COMPLETE'}\n",
    "   }\n",
    "   # Note optional comments omitted\n",
    ")\n",
    "suite.add_expectation(expectation_configuration=country_type_expectation)"
   ]
  },
  {
   "cell_type": "code",
   "execution_count": 803,
   "metadata": {},
   "outputs": [
    {
     "data": {
      "text/plain": [
       "{\"kwargs\": {\"column\": \"feature\", \"type_\": \"str\", \"result_format\": {\"result_format\": \"COMPLETE\"}}, \"expectation_type\": \"expect_column_values_to_be_of_type\", \"meta\": {}}"
      ]
     },
     "execution_count": 803,
     "metadata": {},
     "output_type": "execute_result"
    }
   ],
   "source": [
    "feature_type_expectation = ExpectationConfiguration(\n",
    "   expectation_type=\"expect_column_values_to_be_of_type\",\n",
    "   kwargs={\n",
    "      \"column\": \"feature\",\n",
    "      \"type_\": \"str\",\n",
    "      \"result_format\": {'result_format': 'COMPLETE'}\n",
    "   }\n",
    "   # Note optional comments omitted\n",
    ")\n",
    "suite.add_expectation(expectation_configuration=feature_type_expectation)"
   ]
  },
  {
   "cell_type": "code",
   "execution_count": 804,
   "metadata": {},
   "outputs": [
    {
     "data": {
      "text/plain": [
       "'/Users/dgg32/Documents/mgrast_ge/great_expectations/expectations/metadata_suite.json'"
      ]
     },
     "execution_count": 804,
     "metadata": {},
     "output_type": "execute_result"
    }
   ],
   "source": [
    "#print(context.get_expectation_suite(expectation_suite_name=expectation_suite_name))\n",
    "context_metadata.save_expectation_suite(expectation_suite=suite, expectation_suite_name=expectation_suite_name)\n",
    "\n",
    "#suite_identifier = ExpectationSuiteIdentifier(expectation_suite_name=expectation_suite_name)\n",
    "#context.build_data_docs(resource_identifiers=[suite_identifier])\n",
    "#context.open_data_docs(resource_identifier=suite_identifier)"
   ]
  },
  {
   "cell_type": "code",
   "execution_count": 805,
   "metadata": {},
   "outputs": [],
   "source": [
    "my_checkpoint_name = \"metadata_checkpoint\" # This was populated from your CLI command.\n",
    "which_file_to_check = \"metadata.tsv\""
   ]
  },
  {
   "cell_type": "code",
   "execution_count": 806,
   "metadata": {},
   "outputs": [],
   "source": [
    "action_list = [\n",
    "    {'name': 'store_validation_result', 'action': {'class_name': 'StoreValidationResultAction'}}, \n",
    "    {'name': 'update_data_docs', 'action': {'class_name': 'UpdateDataDocsAction'}}, \n",
    "    {'name': 'send_slack_notification_on_validation_result', 'action': {'class_name': 'SlackNotificationAction', 'slack_webhook': '${validation_notification_slack_webhook}', 'notify_on': 'failure', 'renderer': {'module_name': 'great_expectations.render.renderer.slack_renderer', 'class_name': 'SlackRenderer'}}}\n",
    "    ]\n"
   ]
  },
  {
   "cell_type": "code",
   "execution_count": 807,
   "metadata": {},
   "outputs": [
    {
     "data": {
      "text/plain": [
       "{\n",
       "  \"action_list\": [\n",
       "    {\n",
       "      \"name\": \"store_validation_result\",\n",
       "      \"action\": {\n",
       "        \"class_name\": \"StoreValidationResultAction\"\n",
       "      }\n",
       "    },\n",
       "    {\n",
       "      \"name\": \"store_evaluation_params\",\n",
       "      \"action\": {\n",
       "        \"class_name\": \"StoreEvaluationParametersAction\"\n",
       "      }\n",
       "    },\n",
       "    {\n",
       "      \"name\": \"update_data_docs\",\n",
       "      \"action\": {\n",
       "        \"class_name\": \"UpdateDataDocsAction\",\n",
       "        \"site_names\": []\n",
       "      }\n",
       "    }\n",
       "  ],\n",
       "  \"batch_request\": {},\n",
       "  \"class_name\": \"Checkpoint\",\n",
       "  \"config_version\": 1.0,\n",
       "  \"evaluation_parameters\": {},\n",
       "  \"module_name\": \"great_expectations.checkpoint\",\n",
       "  \"name\": \"metadata_checkpoint\",\n",
       "  \"profilers\": [],\n",
       "  \"run_name_template\": \"%Y%m%d-%H%M%S-check\",\n",
       "  \"runtime_configuration\": {},\n",
       "  \"validations\": [\n",
       "    {\n",
       "      \"batch_request\": {\n",
       "        \"datasource_name\": \"metadata_datasource\",\n",
       "        \"data_connector_name\": \"default_inferred_data_connector_name\",\n",
       "        \"data_asset_name\": \"metadata.tsv\",\n",
       "        \"batch_spec_passthrough\": {\n",
       "          \"reader_method\": \"read_csv\",\n",
       "          \"reader_options\": {\n",
       "            \"sep\": \"\\t\"\n",
       "          }\n",
       "        }\n",
       "      },\n",
       "      \"expectation_suite_name\": \"metadata_suite\",\n",
       "      \"action_list\": [\n",
       "        {\n",
       "          \"name\": \"store_validation_result\",\n",
       "          \"action\": {\n",
       "            \"class_name\": \"StoreValidationResultAction\"\n",
       "          }\n",
       "        },\n",
       "        {\n",
       "          \"name\": \"update_data_docs\",\n",
       "          \"action\": {\n",
       "            \"class_name\": \"UpdateDataDocsAction\"\n",
       "          }\n",
       "        },\n",
       "        {\n",
       "          \"name\": \"send_slack_notification_on_validation_result\",\n",
       "          \"action\": {\n",
       "            \"class_name\": \"SlackNotificationAction\",\n",
       "            \"slack_webhook\": \"${validation_notification_slack_webhook}\",\n",
       "            \"notify_on\": \"failure\",\n",
       "            \"renderer\": {\n",
       "              \"module_name\": \"great_expectations.render.renderer.slack_renderer\",\n",
       "              \"class_name\": \"SlackRenderer\"\n",
       "            }\n",
       "          }\n",
       "        }\n",
       "      ]\n",
       "    }\n",
       "  ]\n",
       "}"
      ]
     },
     "execution_count": 807,
     "metadata": {},
     "output_type": "execute_result"
    }
   ],
   "source": [
    "\n",
    "\n",
    "\n",
    "checkpoint_config = {\n",
    "    \"name\": f\"{my_checkpoint_name}\",\n",
    "    \"config_version\": 1,\n",
    "    \"class_name\": \"SimpleCheckpoint\",\n",
    "    \"run_name_template\": \"%Y%m%d-%H%M%S-check\",\n",
    "    \"validations\": [\n",
    "        {\n",
    "            \"batch_request\": {\n",
    "                \"datasource_name\": f\"{datasource_name}\",\n",
    "                \"data_connector_name\": \"default_inferred_data_connector_name\",\n",
    "                \"data_asset_name\": f\"{which_file_to_check}\",\n",
    "                \"batch_spec_passthrough\": {\n",
    "                    \"reader_method\": \"read_csv\",\n",
    "                    \"reader_options\": {\"sep\": \"\\t\"}\n",
    "                }\n",
    "            },\n",
    "            \"expectation_suite_name\": f\"{expectation_suite_name}\",\n",
    "            \"action_list\": action_list\n",
    "        }\n",
    "    ],\n",
    "}\n",
    "context_metadata.add_checkpoint(**checkpoint_config)"
   ]
  },
  {
   "cell_type": "code",
   "execution_count": 808,
   "metadata": {},
   "outputs": [
    {
     "name": "stdout",
     "output_type": "stream",
     "text": [
      "{'metadata_datasource': {'default_inferred_data_connector_name': ['seq_stats.tsv', 'test_seq_stats.tsv', 'test_metadata.tsv', 'metadata.tsv']}}\n"
     ]
    }
   ],
   "source": [
    "print(context_metadata.get_available_data_asset_names())"
   ]
  },
  {
   "cell_type": "code",
   "execution_count": 809,
   "metadata": {},
   "outputs": [
    {
     "data": {
      "application/vnd.jupyter.widget-view+json": {
       "model_id": "95fe113808b242f690e828f55a4b1f82",
       "version_major": 2,
       "version_minor": 0
      },
      "text/plain": [
       "Calculating Metrics:   0%|          | 0/33 [00:00<?, ?it/s]"
      ]
     },
     "metadata": {},
     "output_type": "display_data"
    },
    {
     "data": {
      "text/plain": [
       "{\n",
       "  \"run_id\": {\n",
       "    \"run_name\": \"20220605-101230-check\",\n",
       "    \"run_time\": \"2022-06-05T10:12:30.960702+00:00\"\n",
       "  },\n",
       "  \"run_results\": {\n",
       "    \"ValidationResultIdentifier::metadata_suite/20220605-101230-check/20220605T101230.960702Z/1783362dcd1dbf06044288ecf6a2a7eb\": {\n",
       "      \"validation_result\": {\n",
       "        \"results\": [\n",
       "          {\n",
       "            \"exception_info\": {\n",
       "              \"raised_exception\": false,\n",
       "              \"exception_traceback\": null,\n",
       "              \"exception_message\": null\n",
       "            },\n",
       "            \"meta\": {},\n",
       "            \"success\": true,\n",
       "            \"result\": {\n",
       "              \"element_count\": 49,\n",
       "              \"unexpected_count\": 0,\n",
       "              \"unexpected_percent\": 0.0,\n",
       "              \"partial_unexpected_list\": [],\n",
       "              \"missing_count\": 0,\n",
       "              \"missing_percent\": 0.0,\n",
       "              \"unexpected_percent_total\": 0.0,\n",
       "              \"unexpected_percent_nonmissing\": 0.0,\n",
       "              \"partial_unexpected_index_list\": null,\n",
       "              \"partial_unexpected_counts\": []\n",
       "            },\n",
       "            \"expectation_config\": {\n",
       "              \"kwargs\": {\n",
       "                \"column\": \"longitude\",\n",
       "                \"max_value\": 180,\n",
       "                \"min_value\": -180,\n",
       "                \"result_format\": {\n",
       "                  \"result_format\": \"COMPLETE\"\n",
       "                },\n",
       "                \"batch_id\": \"1783362dcd1dbf06044288ecf6a2a7eb\"\n",
       "              },\n",
       "              \"expectation_type\": \"expect_column_values_to_be_between\",\n",
       "              \"meta\": {}\n",
       "            }\n",
       "          },\n",
       "          {\n",
       "            \"exception_info\": {\n",
       "              \"raised_exception\": false,\n",
       "              \"exception_traceback\": null,\n",
       "              \"exception_message\": null\n",
       "            },\n",
       "            \"meta\": {},\n",
       "            \"success\": false,\n",
       "            \"result\": {\n",
       "              \"element_count\": 49,\n",
       "              \"unexpected_count\": 1,\n",
       "              \"unexpected_percent\": 2.0408163265306123,\n",
       "              \"partial_unexpected_list\": [\n",
       "                -151.82739\n",
       "              ],\n",
       "              \"missing_count\": 0,\n",
       "              \"missing_percent\": 0.0,\n",
       "              \"unexpected_percent_total\": 2.0408163265306123,\n",
       "              \"unexpected_percent_nonmissing\": 2.0408163265306123,\n",
       "              \"partial_unexpected_index_list\": null,\n",
       "              \"partial_unexpected_counts\": [\n",
       "                {\n",
       "                  \"value\": -151.82739,\n",
       "                  \"count\": 1\n",
       "                }\n",
       "              ]\n",
       "            },\n",
       "            \"expectation_config\": {\n",
       "              \"kwargs\": {\n",
       "                \"column\": \"latitude\",\n",
       "                \"max_value\": 90,\n",
       "                \"min_value\": -90,\n",
       "                \"result_format\": {\n",
       "                  \"result_format\": \"COMPLETE\"\n",
       "                },\n",
       "                \"batch_id\": \"1783362dcd1dbf06044288ecf6a2a7eb\"\n",
       "              },\n",
       "              \"expectation_type\": \"expect_column_values_to_be_between\",\n",
       "              \"meta\": {}\n",
       "            }\n",
       "          },\n",
       "          {\n",
       "            \"exception_info\": {\n",
       "              \"raised_exception\": false,\n",
       "              \"exception_traceback\": null,\n",
       "              \"exception_message\": null\n",
       "            },\n",
       "            \"meta\": {},\n",
       "            \"success\": true,\n",
       "            \"result\": {\n",
       "              \"element_count\": 49,\n",
       "              \"unexpected_count\": 0,\n",
       "              \"unexpected_percent\": 0.0,\n",
       "              \"partial_unexpected_list\": [],\n",
       "              \"missing_count\": 0,\n",
       "              \"missing_percent\": 0.0,\n",
       "              \"unexpected_percent_total\": 0.0,\n",
       "              \"unexpected_percent_nonmissing\": 0.0,\n",
       "              \"partial_unexpected_index_list\": null,\n",
       "              \"partial_unexpected_counts\": []\n",
       "            },\n",
       "            \"expectation_config\": {\n",
       "              \"kwargs\": {\n",
       "                \"column\": \"collection_time\",\n",
       "                \"result_format\": {\n",
       "                  \"result_format\": \"COMPLETE\"\n",
       "                },\n",
       "                \"strftime_format\": \"%H:%M:%S\",\n",
       "                \"batch_id\": \"1783362dcd1dbf06044288ecf6a2a7eb\"\n",
       "              },\n",
       "              \"expectation_type\": \"expect_column_values_to_match_strftime_format\",\n",
       "              \"meta\": {}\n",
       "            }\n",
       "          },\n",
       "          {\n",
       "            \"exception_info\": {\n",
       "              \"raised_exception\": false,\n",
       "              \"exception_traceback\": null,\n",
       "              \"exception_message\": null\n",
       "            },\n",
       "            \"meta\": {},\n",
       "            \"success\": true,\n",
       "            \"result\": {\n",
       "              \"element_count\": 49,\n",
       "              \"unexpected_count\": 0,\n",
       "              \"unexpected_percent\": 0.0,\n",
       "              \"partial_unexpected_list\": [],\n",
       "              \"missing_count\": 0,\n",
       "              \"missing_percent\": 0.0,\n",
       "              \"unexpected_percent_total\": 0.0,\n",
       "              \"unexpected_percent_nonmissing\": 0.0,\n",
       "              \"partial_unexpected_index_list\": null,\n",
       "              \"partial_unexpected_counts\": []\n",
       "            },\n",
       "            \"expectation_config\": {\n",
       "              \"kwargs\": {\n",
       "                \"column\": \"material\",\n",
       "                \"result_format\": {\n",
       "                  \"result_format\": \"COMPLETE\"\n",
       "                },\n",
       "                \"type_\": \"str\",\n",
       "                \"batch_id\": \"1783362dcd1dbf06044288ecf6a2a7eb\"\n",
       "              },\n",
       "              \"expectation_type\": \"expect_column_values_to_be_of_type\",\n",
       "              \"meta\": {}\n",
       "            }\n",
       "          },\n",
       "          {\n",
       "            \"exception_info\": {\n",
       "              \"raised_exception\": false,\n",
       "              \"exception_traceback\": null,\n",
       "              \"exception_message\": null\n",
       "            },\n",
       "            \"meta\": {},\n",
       "            \"success\": true,\n",
       "            \"result\": {\n",
       "              \"element_count\": 49,\n",
       "              \"unexpected_count\": 0,\n",
       "              \"unexpected_percent\": 0.0,\n",
       "              \"partial_unexpected_list\": [],\n",
       "              \"missing_count\": 0,\n",
       "              \"missing_percent\": 0.0,\n",
       "              \"unexpected_percent_total\": 0.0,\n",
       "              \"unexpected_percent_nonmissing\": 0.0,\n",
       "              \"partial_unexpected_index_list\": null,\n",
       "              \"partial_unexpected_counts\": []\n",
       "            },\n",
       "            \"expectation_config\": {\n",
       "              \"kwargs\": {\n",
       "                \"column\": \"country\",\n",
       "                \"result_format\": {\n",
       "                  \"result_format\": \"COMPLETE\"\n",
       "                },\n",
       "                \"type_\": \"str\",\n",
       "                \"batch_id\": \"1783362dcd1dbf06044288ecf6a2a7eb\"\n",
       "              },\n",
       "              \"expectation_type\": \"expect_column_values_to_be_of_type\",\n",
       "              \"meta\": {}\n",
       "            }\n",
       "          },\n",
       "          {\n",
       "            \"exception_info\": {\n",
       "              \"raised_exception\": false,\n",
       "              \"exception_traceback\": null,\n",
       "              \"exception_message\": null\n",
       "            },\n",
       "            \"meta\": {},\n",
       "            \"success\": true,\n",
       "            \"result\": {\n",
       "              \"element_count\": 49,\n",
       "              \"unexpected_count\": 0,\n",
       "              \"unexpected_percent\": 0.0,\n",
       "              \"partial_unexpected_list\": [],\n",
       "              \"missing_count\": 0,\n",
       "              \"missing_percent\": 0.0,\n",
       "              \"unexpected_percent_total\": 0.0,\n",
       "              \"unexpected_percent_nonmissing\": 0.0,\n",
       "              \"partial_unexpected_index_list\": null,\n",
       "              \"partial_unexpected_counts\": []\n",
       "            },\n",
       "            \"expectation_config\": {\n",
       "              \"kwargs\": {\n",
       "                \"column\": \"feature\",\n",
       "                \"result_format\": {\n",
       "                  \"result_format\": \"COMPLETE\"\n",
       "                },\n",
       "                \"type_\": \"str\",\n",
       "                \"batch_id\": \"1783362dcd1dbf06044288ecf6a2a7eb\"\n",
       "              },\n",
       "              \"expectation_type\": \"expect_column_values_to_be_of_type\",\n",
       "              \"meta\": {}\n",
       "            }\n",
       "          }\n",
       "        ],\n",
       "        \"meta\": {\n",
       "          \"great_expectations_version\": \"0.15.8\",\n",
       "          \"expectation_suite_name\": \"metadata_suite\",\n",
       "          \"run_id\": {\n",
       "            \"run_name\": \"20220605-101230-check\",\n",
       "            \"run_time\": \"2022-06-05T10:12:30.960702+00:00\"\n",
       "          },\n",
       "          \"batch_spec\": {\n",
       "            \"path\": \"/Users/dgg32/Documents/mgrast_ge/great_expectations/../tsv/metadata.tsv\",\n",
       "            \"reader_method\": \"read_csv\",\n",
       "            \"reader_options\": {\n",
       "              \"sep\": \"\\t\"\n",
       "            }\n",
       "          },\n",
       "          \"batch_markers\": {\n",
       "            \"ge_load_time\": \"20220605T021230.983211Z\",\n",
       "            \"pandas_data_fingerprint\": \"9cb091fee58838bad1bb1dd84e25b79b\"\n",
       "          },\n",
       "          \"active_batch_definition\": {\n",
       "            \"datasource_name\": \"metadata_datasource\",\n",
       "            \"data_connector_name\": \"default_inferred_data_connector_name\",\n",
       "            \"data_asset_name\": \"metadata.tsv\",\n",
       "            \"batch_identifiers\": {}\n",
       "          },\n",
       "          \"validation_time\": \"20220605T021231.050653Z\"\n",
       "        },\n",
       "        \"evaluation_parameters\": {},\n",
       "        \"success\": false,\n",
       "        \"statistics\": {\n",
       "          \"evaluated_expectations\": 6,\n",
       "          \"successful_expectations\": 5,\n",
       "          \"unsuccessful_expectations\": 1,\n",
       "          \"success_percent\": 83.33333333333334\n",
       "        }\n",
       "      },\n",
       "      \"actions_results\": {\n",
       "        \"store_validation_result\": {\n",
       "          \"class\": \"StoreValidationResultAction\"\n",
       "        },\n",
       "        \"store_evaluation_params\": {\n",
       "          \"class\": \"StoreEvaluationParametersAction\"\n",
       "        },\n",
       "        \"update_data_docs\": {\n",
       "          \"local_site\": \"file:///Users/dgg32/Documents/mgrast_ge/great_expectations/uncommitted/data_docs/local_site/validations/metadata_suite/20220605-101230-check/20220605T101230.960702Z/1783362dcd1dbf06044288ecf6a2a7eb.html\",\n",
       "          \"class\": \"UpdateDataDocsAction\"\n",
       "        },\n",
       "        \"send_slack_notification_on_validation_result\": {\n",
       "          \"slack_notification_result\": \"Slack notification succeeded.\",\n",
       "          \"class\": \"SlackNotificationAction\"\n",
       "        }\n",
       "      }\n",
       "    }\n",
       "  },\n",
       "  \"checkpoint_config\": {\n",
       "    \"notify_on\": null,\n",
       "    \"action_list\": [\n",
       "      {\n",
       "        \"name\": \"store_validation_result\",\n",
       "        \"action\": {\n",
       "          \"class_name\": \"StoreValidationResultAction\"\n",
       "        }\n",
       "      },\n",
       "      {\n",
       "        \"name\": \"store_evaluation_params\",\n",
       "        \"action\": {\n",
       "          \"class_name\": \"StoreEvaluationParametersAction\"\n",
       "        }\n",
       "      },\n",
       "      {\n",
       "        \"name\": \"update_data_docs\",\n",
       "        \"action\": {\n",
       "          \"class_name\": \"UpdateDataDocsAction\",\n",
       "          \"site_names\": []\n",
       "        }\n",
       "      }\n",
       "    ],\n",
       "    \"runtime_configuration\": {},\n",
       "    \"config_version\": 1.0,\n",
       "    \"template_name\": null,\n",
       "    \"slack_webhook\": null,\n",
       "    \"module_name\": \"great_expectations.checkpoint\",\n",
       "    \"profilers\": [],\n",
       "    \"name\": \"metadata_checkpoint\",\n",
       "    \"batch_request\": {},\n",
       "    \"expectation_suite_ge_cloud_id\": null,\n",
       "    \"ge_cloud_id\": null,\n",
       "    \"expectation_suite_name\": null,\n",
       "    \"notify_with\": null,\n",
       "    \"class_name\": \"Checkpoint\",\n",
       "    \"site_names\": null,\n",
       "    \"validations\": [\n",
       "      {\n",
       "        \"batch_request\": {\n",
       "          \"datasource_name\": \"metadata_datasource\",\n",
       "          \"data_connector_name\": \"default_inferred_data_connector_name\",\n",
       "          \"data_asset_name\": \"metadata.tsv\",\n",
       "          \"batch_spec_passthrough\": {\n",
       "            \"reader_method\": \"read_csv\",\n",
       "            \"reader_options\": {\n",
       "              \"sep\": \"\\t\"\n",
       "            }\n",
       "          }\n",
       "        },\n",
       "        \"expectation_suite_name\": \"metadata_suite\",\n",
       "        \"action_list\": [\n",
       "          {\n",
       "            \"name\": \"store_validation_result\",\n",
       "            \"action\": {\n",
       "              \"class_name\": \"StoreValidationResultAction\"\n",
       "            }\n",
       "          },\n",
       "          {\n",
       "            \"name\": \"update_data_docs\",\n",
       "            \"action\": {\n",
       "              \"class_name\": \"UpdateDataDocsAction\"\n",
       "            }\n",
       "          },\n",
       "          {\n",
       "            \"name\": \"send_slack_notification_on_validation_result\",\n",
       "            \"action\": {\n",
       "              \"class_name\": \"SlackNotificationAction\",\n",
       "              \"slack_webhook\": \"${validation_notification_slack_webhook}\",\n",
       "              \"notify_on\": \"failure\",\n",
       "              \"renderer\": {\n",
       "                \"module_name\": \"great_expectations.render.renderer.slack_renderer\",\n",
       "                \"class_name\": \"SlackRenderer\"\n",
       "              }\n",
       "            }\n",
       "          }\n",
       "        ]\n",
       "      }\n",
       "    ],\n",
       "    \"evaluation_parameters\": {},\n",
       "    \"run_name_template\": \"%Y%m%d-%H%M%S-check\"\n",
       "  },\n",
       "  \"success\": false\n",
       "}"
      ]
     },
     "execution_count": 809,
     "metadata": {},
     "output_type": "execute_result"
    }
   ],
   "source": [
    "context_metadata.run_checkpoint(checkpoint_name=my_checkpoint_name)"
   ]
  },
  {
   "cell_type": "code",
   "execution_count": 810,
   "metadata": {},
   "outputs": [],
   "source": [
    "context_metadata.open_data_docs()"
   ]
  },
  {
   "cell_type": "code",
   "execution_count": 811,
   "metadata": {},
   "outputs": [
    {
     "name": "stdout",
     "output_type": "stream",
     "text": [
      "Using v3 (Batch Request) API\n",
      "Could not find Checkpoint `metadata` (or its configuration is invalid). Try running:\n",
      "  - `great_expectations checkpoint list` to verify your Checkpoint exists\n",
      "  - `great_expectations checkpoint new` to configure a new Checkpoint\n"
     ]
    }
   ],
   "source": [
    "!great_expectations checkpoint run metadata"
   ]
  },
  {
   "cell_type": "code",
   "execution_count": 812,
   "metadata": {},
   "outputs": [],
   "source": [
    "ge_df = ge.read_csv('tsv/metadata.tsv', sep='\\t')"
   ]
  },
  {
   "cell_type": "code",
   "execution_count": 813,
   "metadata": {},
   "outputs": [],
   "source": [
    "result = ge_df.validate(suite, result_format=\"COMPLETE\")"
   ]
  },
  {
   "cell_type": "code",
   "execution_count": 814,
   "metadata": {},
   "outputs": [
    {
     "name": "stdout",
     "output_type": "stream",
     "text": [
      "latitude expect_column_values_to_be_between failed\n",
      "       sample   latitude  longitude       location   country collection_date  \\\n",
      "44  mgs192740 -151.82739  -11.41924  Pacific Ocean  Kiribati      2009-03-30   \n",
      "\n",
      "   collection_time material     feature metagenome_id  \n",
      "44        10:00:00    water  coral reef  mgm4466596.3  \n",
      "\n",
      "\n"
     ]
    }
   ],
   "source": [
    "for i in range(len(result.results)):\n",
    "    r = result.results[i]\n",
    "    if r[\"success\"] == False:\n",
    "        column = r.expectation_config[\"kwargs\"][\"column\"]\n",
    "        expectation_type = r.expectation_config[\"expectation_type\"]\n",
    "        print (f\"{column} {expectation_type} failed\")\n",
    "        print (ge_df.iloc[r.result[\"unexpected_index_list\"]])\n",
    "        print (\"\\n\")"
   ]
  },
  {
   "cell_type": "code",
   "execution_count": null,
   "metadata": {},
   "outputs": [],
   "source": []
  }
 ],
 "metadata": {
  "interpreter": {
   "hash": "e3ed4d4077dbf72b3d79f80ad74210101895470b04c1c08424820cc30a48b133"
  },
  "kernelspec": {
   "display_name": "Python 3.9.13 ('ge')",
   "language": "python",
   "name": "python3"
  },
  "language_info": {
   "codemirror_mode": {
    "name": "ipython",
    "version": 3
   },
   "file_extension": ".py",
   "mimetype": "text/x-python",
   "name": "python",
   "nbconvert_exporter": "python",
   "pygments_lexer": "ipython3",
   "version": "3.9.13"
  },
  "orig_nbformat": 4
 },
 "nbformat": 4,
 "nbformat_minor": 2
}
