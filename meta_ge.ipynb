{
 "cells": [
  {
   "cell_type": "code",
   "execution_count": 46,
   "metadata": {},
   "outputs": [],
   "source": [
    "import great_expectations as ge\n",
    "import pandas as pd"
   ]
  },
  {
   "cell_type": "code",
   "execution_count": 47,
   "metadata": {},
   "outputs": [],
   "source": [
    "context_metadata = ge.data_context.DataContext()"
   ]
  },
  {
   "cell_type": "code",
   "execution_count": 48,
   "metadata": {},
   "outputs": [],
   "source": [
    "suite = context_metadata.create_expectation_suite(\n",
    "    'check_meta_data',\n",
    "    overwrite_existing=True\n",
    ")"
   ]
  },
  {
   "cell_type": "code",
   "execution_count": 49,
   "metadata": {},
   "outputs": [
    {
     "data": {
      "text/plain": [
       "<great_expectations.datasource.pandas_datasource.PandasDatasource at 0x20bc9922d60>"
      ]
     },
     "execution_count": 49,
     "metadata": {},
     "output_type": "execute_result"
    }
   ],
   "source": [
    "context_metadata.add_datasource(\"tsv\", class_name='PandasDatasource')"
   ]
  },
  {
   "cell_type": "code",
   "execution_count": 50,
   "metadata": {},
   "outputs": [],
   "source": [
    "batch_kwargs = {\n",
    "    'path': 'tsv/metadata.tsv',\n",
    "    'datasource': 'tsv',\n",
    "    'data_asset_name': 'metadata',\n",
    "    'reader_method': 'read_csv',\n",
    "    'reader_options': {\n",
    "        'sep': '\\t'\n",
    "    }\n",
    "}\n",
    "batch = context_metadata.get_batch(batch_kwargs, suite)"
   ]
  },
  {
   "cell_type": "code",
   "execution_count": 51,
   "metadata": {},
   "outputs": [
    {
     "data": {
      "text/html": [
       "<div>\n",
       "<style scoped>\n",
       "    .dataframe tbody tr th:only-of-type {\n",
       "        vertical-align: middle;\n",
       "    }\n",
       "\n",
       "    .dataframe tbody tr th {\n",
       "        vertical-align: top;\n",
       "    }\n",
       "\n",
       "    .dataframe thead th {\n",
       "        text-align: right;\n",
       "    }\n",
       "</style>\n",
       "<table border=\"1\" class=\"dataframe\">\n",
       "  <thead>\n",
       "    <tr style=\"text-align: right;\">\n",
       "      <th></th>\n",
       "      <th>sample</th>\n",
       "      <th>latitude</th>\n",
       "      <th>longitude</th>\n",
       "      <th>location</th>\n",
       "      <th>country</th>\n",
       "      <th>collection_time</th>\n",
       "      <th>material</th>\n",
       "      <th>feature</th>\n",
       "      <th>metagenome_id</th>\n",
       "    </tr>\n",
       "  </thead>\n",
       "  <tbody>\n",
       "    <tr>\n",
       "      <th>0</th>\n",
       "      <td>mgs561368</td>\n",
       "      <td>35.689</td>\n",
       "      <td>139.69</td>\n",
       "      <td>Tokyo</td>\n",
       "      <td>Japan</td>\n",
       "      <td>13:00:00</td>\n",
       "      <td>air</td>\n",
       "      <td>city</td>\n",
       "      <td>mgm4713898.3</td>\n",
       "    </tr>\n",
       "    <tr>\n",
       "      <th>1</th>\n",
       "      <td>mgs561365</td>\n",
       "      <td>35.689</td>\n",
       "      <td>139.69</td>\n",
       "      <td>Tokyo</td>\n",
       "      <td>Japan</td>\n",
       "      <td>13:00:00</td>\n",
       "      <td>air</td>\n",
       "      <td>city</td>\n",
       "      <td>mgm4713905.3</td>\n",
       "    </tr>\n",
       "    <tr>\n",
       "      <th>2</th>\n",
       "      <td>mgs561362</td>\n",
       "      <td>35.689</td>\n",
       "      <td>139.69</td>\n",
       "      <td>Tokyo</td>\n",
       "      <td>Japan</td>\n",
       "      <td>13:00:00</td>\n",
       "      <td>air</td>\n",
       "      <td>city</td>\n",
       "      <td>mgm4713900.3</td>\n",
       "    </tr>\n",
       "    <tr>\n",
       "      <th>3</th>\n",
       "      <td>mgs561356</td>\n",
       "      <td>35.689</td>\n",
       "      <td>139.69</td>\n",
       "      <td>Tokyo</td>\n",
       "      <td>Japan</td>\n",
       "      <td>13:00:00</td>\n",
       "      <td>air</td>\n",
       "      <td>city</td>\n",
       "      <td>mgm4713906.3</td>\n",
       "    </tr>\n",
       "    <tr>\n",
       "      <th>4</th>\n",
       "      <td>mgs561380</td>\n",
       "      <td>35.689</td>\n",
       "      <td>139.69</td>\n",
       "      <td>Tokyo</td>\n",
       "      <td>Japan</td>\n",
       "      <td>13:00:00</td>\n",
       "      <td>air</td>\n",
       "      <td>city</td>\n",
       "      <td>mgm4713901.3</td>\n",
       "    </tr>\n",
       "  </tbody>\n",
       "</table>\n",
       "</div>"
      ],
      "text/plain": [
       "      sample  latitude  longitude location country collection_time material  \\\n",
       "0  mgs561368    35.689     139.69    Tokyo   Japan        13:00:00      air   \n",
       "1  mgs561365    35.689     139.69    Tokyo   Japan        13:00:00      air   \n",
       "2  mgs561362    35.689     139.69    Tokyo   Japan        13:00:00      air   \n",
       "3  mgs561356    35.689     139.69    Tokyo   Japan        13:00:00      air   \n",
       "4  mgs561380    35.689     139.69    Tokyo   Japan        13:00:00      air   \n",
       "\n",
       "  feature metagenome_id  \n",
       "0    city  mgm4713898.3  \n",
       "1    city  mgm4713905.3  \n",
       "2    city  mgm4713900.3  \n",
       "3    city  mgm4713906.3  \n",
       "4    city  mgm4713901.3  "
      ]
     },
     "execution_count": 51,
     "metadata": {},
     "output_type": "execute_result"
    }
   ],
   "source": [
    "batch.head()"
   ]
  },
  {
   "cell_type": "code",
   "execution_count": 52,
   "metadata": {},
   "outputs": [
    {
     "data": {
      "text/plain": [
       "{\n",
       "  \"exception_info\": {\n",
       "    \"raised_exception\": false,\n",
       "    \"exception_traceback\": null,\n",
       "    \"exception_message\": null\n",
       "  },\n",
       "  \"success\": true,\n",
       "  \"meta\": {},\n",
       "  \"result\": {\n",
       "    \"element_count\": 49,\n",
       "    \"missing_count\": 0,\n",
       "    \"missing_percent\": 0.0,\n",
       "    \"unexpected_count\": 0,\n",
       "    \"unexpected_percent\": 0.0,\n",
       "    \"unexpected_percent_total\": 0.0,\n",
       "    \"unexpected_percent_nonmissing\": 0.0,\n",
       "    \"partial_unexpected_list\": [],\n",
       "    \"partial_unexpected_index_list\": [],\n",
       "    \"partial_unexpected_counts\": [],\n",
       "    \"unexpected_list\": [],\n",
       "    \"unexpected_index_list\": []\n",
       "  }\n",
       "}"
      ]
     },
     "execution_count": 52,
     "metadata": {},
     "output_type": "execute_result"
    }
   ],
   "source": [
    "batch.expect_column_values_to_be_between('latitude', min_value=-90, max_value=90, result_format={'result_format': 'COMPLETE'})"
   ]
  },
  {
   "cell_type": "code",
   "execution_count": 53,
   "metadata": {},
   "outputs": [
    {
     "data": {
      "text/plain": [
       "{\n",
       "  \"exception_info\": {\n",
       "    \"raised_exception\": false,\n",
       "    \"exception_traceback\": null,\n",
       "    \"exception_message\": null\n",
       "  },\n",
       "  \"success\": true,\n",
       "  \"meta\": {},\n",
       "  \"result\": {\n",
       "    \"element_count\": 49,\n",
       "    \"missing_count\": 0,\n",
       "    \"missing_percent\": 0.0,\n",
       "    \"unexpected_count\": 0,\n",
       "    \"unexpected_percent\": 0.0,\n",
       "    \"unexpected_percent_total\": 0.0,\n",
       "    \"unexpected_percent_nonmissing\": 0.0,\n",
       "    \"partial_unexpected_list\": [],\n",
       "    \"partial_unexpected_index_list\": [],\n",
       "    \"partial_unexpected_counts\": [],\n",
       "    \"unexpected_list\": [],\n",
       "    \"unexpected_index_list\": []\n",
       "  }\n",
       "}"
      ]
     },
     "execution_count": 53,
     "metadata": {},
     "output_type": "execute_result"
    }
   ],
   "source": [
    "batch.expect_column_values_to_be_between('longitude', min_value=-180, max_value=180, result_format={'result_format': 'COMPLETE'})"
   ]
  },
  {
   "cell_type": "code",
   "execution_count": 54,
   "metadata": {},
   "outputs": [
    {
     "data": {
      "text/plain": [
       "{\n",
       "  \"exception_info\": {\n",
       "    \"raised_exception\": false,\n",
       "    \"exception_traceback\": null,\n",
       "    \"exception_message\": null\n",
       "  },\n",
       "  \"success\": true,\n",
       "  \"meta\": {},\n",
       "  \"result\": {\n",
       "    \"element_count\": 49,\n",
       "    \"missing_count\": 0,\n",
       "    \"missing_percent\": 0.0,\n",
       "    \"unexpected_count\": 0,\n",
       "    \"unexpected_percent\": 0.0,\n",
       "    \"unexpected_percent_total\": 0.0,\n",
       "    \"unexpected_percent_nonmissing\": 0.0,\n",
       "    \"partial_unexpected_list\": [],\n",
       "    \"partial_unexpected_index_list\": [],\n",
       "    \"partial_unexpected_counts\": [],\n",
       "    \"unexpected_list\": [],\n",
       "    \"unexpected_index_list\": []\n",
       "  }\n",
       "}"
      ]
     },
     "execution_count": 54,
     "metadata": {},
     "output_type": "execute_result"
    }
   ],
   "source": [
    "batch.expect_column_values_to_match_strftime_format('collection_time', \"%H:%M:%S\", result_format={'result_format': 'COMPLETE'})"
   ]
  },
  {
   "cell_type": "code",
   "execution_count": 55,
   "metadata": {},
   "outputs": [
    {
     "data": {
      "text/plain": [
       "{\n",
       "  \"exception_info\": {\n",
       "    \"raised_exception\": false,\n",
       "    \"exception_traceback\": null,\n",
       "    \"exception_message\": null\n",
       "  },\n",
       "  \"success\": true,\n",
       "  \"meta\": {},\n",
       "  \"result\": {\n",
       "    \"element_count\": 49,\n",
       "    \"missing_count\": 0,\n",
       "    \"missing_percent\": 0.0,\n",
       "    \"unexpected_count\": 0,\n",
       "    \"unexpected_percent\": 0.0,\n",
       "    \"unexpected_percent_total\": 0.0,\n",
       "    \"unexpected_percent_nonmissing\": 0.0,\n",
       "    \"partial_unexpected_list\": [],\n",
       "    \"partial_unexpected_index_list\": [],\n",
       "    \"partial_unexpected_counts\": [],\n",
       "    \"unexpected_list\": [],\n",
       "    \"unexpected_index_list\": []\n",
       "  }\n",
       "}"
      ]
     },
     "execution_count": 55,
     "metadata": {},
     "output_type": "execute_result"
    }
   ],
   "source": [
    "batch.expect_column_values_to_be_of_type('material', 'str', result_format={'result_format': 'COMPLETE'})\n",
    "batch.expect_column_values_to_be_of_type('country', 'str', result_format={'result_format': 'COMPLETE'})\n",
    "batch.expect_column_values_to_be_of_type('feature', 'str', result_format={'result_format': 'COMPLETE'})"
   ]
  },
  {
   "cell_type": "code",
   "execution_count": 56,
   "metadata": {},
   "outputs": [],
   "source": [
    "metadata_expectation_suite = batch.get_expectation_suite(discard_failed_expectations=False)"
   ]
  },
  {
   "cell_type": "code",
   "execution_count": 57,
   "metadata": {},
   "outputs": [],
   "source": [
    "batch.save_expectation_suite()"
   ]
  },
  {
   "cell_type": "code",
   "execution_count": 58,
   "metadata": {},
   "outputs": [
    {
     "data": {
      "text/plain": [
       "<great_expectations.validation_operators.validation_operators.ActionListValidationOperator at 0x20bd174c0a0>"
      ]
     },
     "execution_count": 58,
     "metadata": {},
     "output_type": "execute_result"
    }
   ],
   "source": [
    "validation_operator_name = 'metadata_validation_operator'\n",
    "validation_operator_config = {\n",
    "    'class_name': 'ActionListValidationOperator',\n",
    "    'action_list': [{'name': 'store_validation_result', 'action': {'class_name': 'StoreValidationResultAction'}}, {'name': 'update_data_docs', 'action': {'class_name': 'UpdateDataDocsAction'}}]\n",
    "}\n",
    "context_metadata.add_validation_operator(validation_operator_name, validation_operator_config)"
   ]
  },
  {
   "cell_type": "code",
   "execution_count": 59,
   "metadata": {},
   "outputs": [],
   "source": [
    "results = context_metadata.run_validation_operator('metadata_validation_operator', assets_to_validate=[batch])"
   ]
  },
  {
   "cell_type": "code",
   "execution_count": 60,
   "metadata": {},
   "outputs": [
    {
     "data": {
      "text/plain": [
       "{\n",
       "  \"run_results\": {\n",
       "    \"ValidationResultIdentifier::check_meta_data/20220531T175221.512238Z/20220531T175221.512238Z/e1495c52ca70b3573a099aa2f54115da\": {\n",
       "      \"validation_result\": {\n",
       "        \"statistics\": {\n",
       "          \"evaluated_expectations\": 6,\n",
       "          \"successful_expectations\": 6,\n",
       "          \"unsuccessful_expectations\": 0,\n",
       "          \"success_percent\": 100.0\n",
       "        },\n",
       "        \"success\": true,\n",
       "        \"meta\": {\n",
       "          \"great_expectations_version\": \"0.15.7\",\n",
       "          \"expectation_suite_name\": \"check_meta_data\",\n",
       "          \"run_id\": {\n",
       "            \"run_name\": \"20220531T175221.512238Z\",\n",
       "            \"run_time\": \"2022-05-31T17:52:21.512238+00:00\"\n",
       "          },\n",
       "          \"batch_kwargs\": {\n",
       "            \"path\": \"tsv/metadata.tsv\",\n",
       "            \"datasource\": \"tsv\",\n",
       "            \"data_asset_name\": \"metadata\",\n",
       "            \"reader_method\": \"read_csv\",\n",
       "            \"reader_options\": {\n",
       "              \"sep\": \"\\t\"\n",
       "            }\n",
       "          },\n",
       "          \"batch_markers\": {\n",
       "            \"ge_load_time\": \"20220531T175220.869319Z\",\n",
       "            \"pandas_data_fingerprint\": \"a66fe998169de39f935039fa6da81426\"\n",
       "          },\n",
       "          \"batch_parameters\": null,\n",
       "          \"validation_time\": \"20220531T175221.518206Z\",\n",
       "          \"expectation_suite_meta\": {\n",
       "            \"great_expectations_version\": \"0.15.7\"\n",
       "          }\n",
       "        },\n",
       "        \"results\": [\n",
       "          {\n",
       "            \"exception_info\": {\n",
       "              \"raised_exception\": false,\n",
       "              \"exception_message\": null,\n",
       "              \"exception_traceback\": null\n",
       "            },\n",
       "            \"expectation_config\": {\n",
       "              \"expectation_type\": \"expect_column_values_to_be_between\",\n",
       "              \"kwargs\": {\n",
       "                \"column\": \"latitude\",\n",
       "                \"min_value\": -90,\n",
       "                \"max_value\": 90,\n",
       "                \"result_format\": {\n",
       "                  \"result_format\": \"SUMMARY\"\n",
       "                }\n",
       "              },\n",
       "              \"meta\": {}\n",
       "            },\n",
       "            \"success\": true,\n",
       "            \"meta\": {},\n",
       "            \"result\": {\n",
       "              \"element_count\": 49,\n",
       "              \"missing_count\": 0,\n",
       "              \"missing_percent\": 0.0,\n",
       "              \"unexpected_count\": 0,\n",
       "              \"unexpected_percent\": 0.0,\n",
       "              \"unexpected_percent_total\": 0.0,\n",
       "              \"unexpected_percent_nonmissing\": 0.0,\n",
       "              \"partial_unexpected_list\": [],\n",
       "              \"partial_unexpected_index_list\": [],\n",
       "              \"partial_unexpected_counts\": []\n",
       "            }\n",
       "          },\n",
       "          {\n",
       "            \"exception_info\": {\n",
       "              \"raised_exception\": false,\n",
       "              \"exception_message\": null,\n",
       "              \"exception_traceback\": null\n",
       "            },\n",
       "            \"expectation_config\": {\n",
       "              \"expectation_type\": \"expect_column_values_to_be_between\",\n",
       "              \"kwargs\": {\n",
       "                \"column\": \"longitude\",\n",
       "                \"min_value\": -180,\n",
       "                \"max_value\": 180,\n",
       "                \"result_format\": {\n",
       "                  \"result_format\": \"SUMMARY\"\n",
       "                }\n",
       "              },\n",
       "              \"meta\": {}\n",
       "            },\n",
       "            \"success\": true,\n",
       "            \"meta\": {},\n",
       "            \"result\": {\n",
       "              \"element_count\": 49,\n",
       "              \"missing_count\": 0,\n",
       "              \"missing_percent\": 0.0,\n",
       "              \"unexpected_count\": 0,\n",
       "              \"unexpected_percent\": 0.0,\n",
       "              \"unexpected_percent_total\": 0.0,\n",
       "              \"unexpected_percent_nonmissing\": 0.0,\n",
       "              \"partial_unexpected_list\": [],\n",
       "              \"partial_unexpected_index_list\": [],\n",
       "              \"partial_unexpected_counts\": []\n",
       "            }\n",
       "          },\n",
       "          {\n",
       "            \"exception_info\": {\n",
       "              \"raised_exception\": false,\n",
       "              \"exception_message\": null,\n",
       "              \"exception_traceback\": null\n",
       "            },\n",
       "            \"expectation_config\": {\n",
       "              \"expectation_type\": \"expect_column_values_to_match_strftime_format\",\n",
       "              \"kwargs\": {\n",
       "                \"column\": \"collection_time\",\n",
       "                \"strftime_format\": \"%H:%M:%S\",\n",
       "                \"result_format\": {\n",
       "                  \"result_format\": \"SUMMARY\"\n",
       "                }\n",
       "              },\n",
       "              \"meta\": {}\n",
       "            },\n",
       "            \"success\": true,\n",
       "            \"meta\": {},\n",
       "            \"result\": {\n",
       "              \"element_count\": 49,\n",
       "              \"missing_count\": 0,\n",
       "              \"missing_percent\": 0.0,\n",
       "              \"unexpected_count\": 0,\n",
       "              \"unexpected_percent\": 0.0,\n",
       "              \"unexpected_percent_total\": 0.0,\n",
       "              \"unexpected_percent_nonmissing\": 0.0,\n",
       "              \"partial_unexpected_list\": [],\n",
       "              \"partial_unexpected_index_list\": [],\n",
       "              \"partial_unexpected_counts\": []\n",
       "            }\n",
       "          },\n",
       "          {\n",
       "            \"exception_info\": {\n",
       "              \"raised_exception\": false,\n",
       "              \"exception_message\": null,\n",
       "              \"exception_traceback\": null\n",
       "            },\n",
       "            \"expectation_config\": {\n",
       "              \"expectation_type\": \"expect_column_values_to_be_of_type\",\n",
       "              \"kwargs\": {\n",
       "                \"column\": \"material\",\n",
       "                \"type_\": \"str\",\n",
       "                \"result_format\": {\n",
       "                  \"result_format\": \"SUMMARY\"\n",
       "                }\n",
       "              },\n",
       "              \"meta\": {}\n",
       "            },\n",
       "            \"success\": true,\n",
       "            \"meta\": {},\n",
       "            \"result\": {\n",
       "              \"element_count\": 49,\n",
       "              \"missing_count\": 0,\n",
       "              \"missing_percent\": 0.0,\n",
       "              \"unexpected_count\": 0,\n",
       "              \"unexpected_percent\": 0.0,\n",
       "              \"unexpected_percent_total\": 0.0,\n",
       "              \"unexpected_percent_nonmissing\": 0.0,\n",
       "              \"partial_unexpected_list\": [],\n",
       "              \"partial_unexpected_index_list\": [],\n",
       "              \"partial_unexpected_counts\": []\n",
       "            }\n",
       "          },\n",
       "          {\n",
       "            \"exception_info\": {\n",
       "              \"raised_exception\": false,\n",
       "              \"exception_message\": null,\n",
       "              \"exception_traceback\": null\n",
       "            },\n",
       "            \"expectation_config\": {\n",
       "              \"expectation_type\": \"expect_column_values_to_be_of_type\",\n",
       "              \"kwargs\": {\n",
       "                \"column\": \"country\",\n",
       "                \"type_\": \"str\",\n",
       "                \"result_format\": {\n",
       "                  \"result_format\": \"SUMMARY\"\n",
       "                }\n",
       "              },\n",
       "              \"meta\": {}\n",
       "            },\n",
       "            \"success\": true,\n",
       "            \"meta\": {},\n",
       "            \"result\": {\n",
       "              \"element_count\": 49,\n",
       "              \"missing_count\": 0,\n",
       "              \"missing_percent\": 0.0,\n",
       "              \"unexpected_count\": 0,\n",
       "              \"unexpected_percent\": 0.0,\n",
       "              \"unexpected_percent_total\": 0.0,\n",
       "              \"unexpected_percent_nonmissing\": 0.0,\n",
       "              \"partial_unexpected_list\": [],\n",
       "              \"partial_unexpected_index_list\": [],\n",
       "              \"partial_unexpected_counts\": []\n",
       "            }\n",
       "          },\n",
       "          {\n",
       "            \"exception_info\": {\n",
       "              \"raised_exception\": false,\n",
       "              \"exception_message\": null,\n",
       "              \"exception_traceback\": null\n",
       "            },\n",
       "            \"expectation_config\": {\n",
       "              \"expectation_type\": \"expect_column_values_to_be_of_type\",\n",
       "              \"kwargs\": {\n",
       "                \"column\": \"feature\",\n",
       "                \"type_\": \"str\",\n",
       "                \"result_format\": {\n",
       "                  \"result_format\": \"SUMMARY\"\n",
       "                }\n",
       "              },\n",
       "              \"meta\": {}\n",
       "            },\n",
       "            \"success\": true,\n",
       "            \"meta\": {},\n",
       "            \"result\": {\n",
       "              \"element_count\": 49,\n",
       "              \"missing_count\": 0,\n",
       "              \"missing_percent\": 0.0,\n",
       "              \"unexpected_count\": 0,\n",
       "              \"unexpected_percent\": 0.0,\n",
       "              \"unexpected_percent_total\": 0.0,\n",
       "              \"unexpected_percent_nonmissing\": 0.0,\n",
       "              \"partial_unexpected_list\": [],\n",
       "              \"partial_unexpected_index_list\": [],\n",
       "              \"partial_unexpected_counts\": []\n",
       "            }\n",
       "          }\n",
       "        ],\n",
       "        \"evaluation_parameters\": {}\n",
       "      },\n",
       "      \"actions_results\": {\n",
       "        \"store_validation_result\": {\n",
       "          \"class\": \"StoreValidationResultAction\"\n",
       "        },\n",
       "        \"update_data_docs\": {\n",
       "          \"local_site\": \"file://c:\\\\Users\\\\dgg32\\\\Documents\\\\mgrast_ge\\\\great_expectations\\\\uncommitted/data_docs/local_site/validations\\\\check_meta_data\\\\20220531T175221.512238Z\\\\20220531T175221.512238Z\\\\e1495c52ca70b3573a099aa2f54115da.html\",\n",
       "          \"class\": \"UpdateDataDocsAction\"\n",
       "        }\n",
       "      }\n",
       "    }\n",
       "  },\n",
       "  \"run_id\": {\n",
       "    \"run_name\": \"20220531T175221.512238Z\",\n",
       "    \"run_time\": \"2022-05-31T17:52:21.512238+00:00\"\n",
       "  },\n",
       "  \"success\": true,\n",
       "  \"validation_operator_config\": {\n",
       "    \"class_name\": \"ActionListValidationOperator\",\n",
       "    \"module_name\": \"great_expectations.validation_operators\",\n",
       "    \"name\": \"metadata_validation_operator\",\n",
       "    \"kwargs\": {\n",
       "      \"action_list\": [\n",
       "        {\n",
       "          \"name\": \"store_validation_result\",\n",
       "          \"action\": {\n",
       "            \"class_name\": \"StoreValidationResultAction\"\n",
       "          }\n",
       "        },\n",
       "        {\n",
       "          \"name\": \"update_data_docs\",\n",
       "          \"action\": {\n",
       "            \"class_name\": \"UpdateDataDocsAction\"\n",
       "          }\n",
       "        }\n",
       "      ],\n",
       "      \"result_format\": {\n",
       "        \"result_format\": \"SUMMARY\",\n",
       "        \"partial_unexpected_count\": 20\n",
       "      }\n",
       "    }\n",
       "  },\n",
       "  \"evaluation_parameters\": null\n",
       "}"
      ]
     },
     "execution_count": 60,
     "metadata": {},
     "output_type": "execute_result"
    }
   ],
   "source": [
    "results"
   ]
  },
  {
   "cell_type": "code",
   "execution_count": 61,
   "metadata": {},
   "outputs": [],
   "source": [
    "context_metadata.open_data_docs()"
   ]
  },
  {
   "cell_type": "code",
   "execution_count": 62,
   "metadata": {},
   "outputs": [
    {
     "name": "stdout",
     "output_type": "stream",
     "text": [
      "Overwriting great_expectations/checkpoints/test_meta_data.yml\n"
     ]
    }
   ],
   "source": [
    "%%writefile great_expectations/checkpoints/test_meta_data.yml\n",
    "\n",
    "validation_operator_name: metadata_validation_operator\n",
    "batches:\n",
    "  - batch_kwargs:\n",
    "      path: tsv/test_metadata.tsv\n",
    "      datasource: tsv\n",
    "      data_asset_name: test_metadata\n",
    "      reader_method: read_csv\n",
    "      reader_options:\n",
    "        'sep': '\\t'\n",
    "    expectation_suite_names:\n",
    "      - check_meta_data"
   ]
  },
  {
   "cell_type": "code",
   "execution_count": 63,
   "metadata": {},
   "outputs": [
    {
     "name": "stdout",
     "output_type": "stream",
     "text": [
      "Using v3 (Batch Request) API\n",
      "Validation failed!\n",
      "\n",
      "Suite Name                                   Status     Expectations met\n",
      "- check_meta_data                            ✖ Failed   5 of 6 (83.33 %)\n"
     ]
    },
    {
     "name": "stderr",
     "output_type": "stream",
     "text": [
      "Checkpoint store named \"checkpoint_store\" is not a configured store, so will try to use default Checkpoint store.\n",
      "  Please update your configuration to the new version number 3.0 in order to use the new \"Checkpoint Store\" feature.\n",
      "  Visit https://docs.greatexpectations.io/docs/guides/miscellaneous/migration_guide#migrating-to-the-batch-request-v3-api to learn more about the upgrade process.\n",
      "Could not find Validation Operator \"metadata_validation_operator\" when running Checkpoint \"test_meta_data\". Using default action_list_operator.\n"
     ]
    }
   ],
   "source": [
    "!great_expectations checkpoint run test_meta_data"
   ]
  },
  {
   "cell_type": "code",
   "execution_count": 64,
   "metadata": {},
   "outputs": [],
   "source": [
    "test_meta_df = pd.read_csv('tsv/test_metadata.tsv', sep='\\t')\n",
    "ge_df = ge.from_pandas(test_meta_df)"
   ]
  },
  {
   "cell_type": "code",
   "execution_count": 65,
   "metadata": {},
   "outputs": [],
   "source": [
    "result = ge_df.validate(metadata_expectation_suite, result_format=\"COMPLETE\")"
   ]
  },
  {
   "cell_type": "code",
   "execution_count": 66,
   "metadata": {},
   "outputs": [
    {
     "name": "stdout",
     "output_type": "stream",
     "text": [
      "latitude expect_column_values_to_be_between failed\n",
      "       sample    latitude  longitude   location country collection_time  \\\n",
      "26  mgs879310  141.579113  38.872848  Nogimachi   Japan        00:00:00   \n",
      "\n",
      "       material                     feature metagenome_id  \n",
      "26  waste water  wastewater treatment plant  mgm4968247.3  \n",
      "\n",
      "\n"
     ]
    }
   ],
   "source": [
    "#ge_df.iloc[result.results[0].result[\"unexpected_index_list\"]]\n",
    "\n",
    "for i in range(len(result.results)):\n",
    "    r = result.results[i]\n",
    "    if r[\"success\"] == False:\n",
    "        column = r.expectation_config[\"kwargs\"][\"column\"]\n",
    "        expectation_type = r.expectation_config[\"expectation_type\"]\n",
    "        print (f\"{column} {expectation_type} failed\")\n",
    "        print (ge_df.iloc[r.result[\"unexpected_index_list\"]])\n",
    "        print (\"\\n\")"
   ]
  },
  {
   "cell_type": "code",
   "execution_count": null,
   "metadata": {},
   "outputs": [],
   "source": []
  }
 ],
 "metadata": {
  "interpreter": {
   "hash": "69f0464fb54a4f75761ba31cf8f44185dd66bf658d74f687b025e3b60455b02b"
  },
  "kernelspec": {
   "display_name": "Python 3.9.13 ('great_expectations')",
   "language": "python",
   "name": "python3"
  },
  "language_info": {
   "codemirror_mode": {
    "name": "ipython",
    "version": 3
   },
   "file_extension": ".py",
   "mimetype": "text/x-python",
   "name": "python",
   "nbconvert_exporter": "python",
   "pygments_lexer": "ipython3",
   "version": "3.9.13"
  },
  "orig_nbformat": 4
 },
 "nbformat": 4,
 "nbformat_minor": 2
}
